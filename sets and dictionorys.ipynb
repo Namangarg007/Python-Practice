{
 "cells": [
  {
   "cell_type": "markdown",
   "id": "d39b9437-21c6-491b-bead-80bebfd07f78",
   "metadata": {
    "jp-MarkdownHeadingCollapsed": true,
    "tags": []
   },
   "source": [
    "<h2>Sets</h2>\n",
    "\n",
    "* sets doesnt have any index\n",
    "* sets are unordered i.e. values enter can be displayed in any order\n",
    "* sets are immutable i.e. the values cannot be changed but in sets items can be added and removed\n",
    "* sets are initialised using curly brackets or set function\n",
    "* set dosent allow duplicates any duplicate entry will not be stored"
   ]
  },
  {
   "cell_type": "code",
   "execution_count": 24,
   "id": "4daba7d9-0172-47a8-b979-c5995cac6b58",
   "metadata": {},
   "outputs": [],
   "source": [
    "s = {1, 2, 3, 4, 5, 5, 6, 6, 10, 9, 8}"
   ]
  },
  {
   "cell_type": "code",
   "execution_count": 25,
   "id": "19c8b316-fa0d-44c8-a2bf-750d9712e4a6",
   "metadata": {},
   "outputs": [
    {
     "data": {
      "text/plain": [
       "{1, 2, 3, 4, 5, 6, 8, 9, 10}"
      ]
     },
     "execution_count": 25,
     "metadata": {},
     "output_type": "execute_result"
    }
   ],
   "source": [
    "s #extra 5 and 6 were not stored and the entered order was not followed"
   ]
  },
  {
   "cell_type": "code",
   "execution_count": 26,
   "id": "4b8a078d-ac59-4475-a0ec-be6ee0444c29",
   "metadata": {},
   "outputs": [
    {
     "data": {
      "text/plain": [
       "set"
      ]
     },
     "execution_count": 26,
     "metadata": {},
     "output_type": "execute_result"
    }
   ],
   "source": [
    "type(s)"
   ]
  },
  {
   "cell_type": "code",
   "execution_count": 27,
   "id": "39bc2393-ffb2-486a-b917-ea3324172f09",
   "metadata": {},
   "outputs": [
    {
     "data": {
      "text/plain": [
       "9"
      ]
     },
     "execution_count": 27,
     "metadata": {},
     "output_type": "execute_result"
    }
   ],
   "source": [
    "len(s)"
   ]
  },
  {
   "cell_type": "code",
   "execution_count": 28,
   "id": "a76f42b8-4b96-478b-94ae-2cffee598bd9",
   "metadata": {},
   "outputs": [],
   "source": [
    "s.add('apple')"
   ]
  },
  {
   "cell_type": "code",
   "execution_count": 29,
   "id": "c5d9eb29-d16b-4833-bf4b-9e826e32467e",
   "metadata": {},
   "outputs": [
    {
     "data": {
      "text/plain": [
       "{1, 10, 2, 3, 4, 5, 6, 8, 9, 'apple'}"
      ]
     },
     "execution_count": 29,
     "metadata": {},
     "output_type": "execute_result"
    }
   ],
   "source": [
    "s"
   ]
  },
  {
   "cell_type": "code",
   "execution_count": 30,
   "id": "6424f152-e023-4981-a0eb-dfbebe326f3b",
   "metadata": {},
   "outputs": [],
   "source": [
    "s.remove(9)"
   ]
  },
  {
   "cell_type": "code",
   "execution_count": 31,
   "id": "e4de09c5-eac2-4ed5-8eff-82f4130a052a",
   "metadata": {},
   "outputs": [],
   "source": [
    "s.discard(10)"
   ]
  },
  {
   "cell_type": "code",
   "execution_count": 32,
   "id": "43e15e08-9a64-4b73-b557-df5d6790f1dc",
   "metadata": {},
   "outputs": [
    {
     "data": {
      "text/plain": [
       "{1, 2, 3, 4, 5, 6, 8, 'apple'}"
      ]
     },
     "execution_count": 32,
     "metadata": {},
     "output_type": "execute_result"
    }
   ],
   "source": [
    "s"
   ]
  },
  {
   "cell_type": "code",
   "execution_count": 33,
   "id": "f4c96e60-d550-4716-8e84-d7b061e53644",
   "metadata": {},
   "outputs": [],
   "source": [
    "#adding one set to another"
   ]
  },
  {
   "cell_type": "code",
   "execution_count": 34,
   "id": "6362294d-c54a-4380-b63a-4445de430682",
   "metadata": {},
   "outputs": [],
   "source": [
    "s1 = {'hi', 'hello'}"
   ]
  },
  {
   "cell_type": "code",
   "execution_count": 35,
   "id": "a4d7bebb-0cca-4325-9468-983545d34b0a",
   "metadata": {},
   "outputs": [],
   "source": [
    "s.update(s1)"
   ]
  },
  {
   "cell_type": "code",
   "execution_count": 36,
   "id": "d196a282-5822-4b70-a0dd-cb9f544be7c1",
   "metadata": {},
   "outputs": [
    {
     "data": {
      "text/plain": [
       "{1, 2, 3, 4, 5, 6, 8, 'apple', 'hello', 'hi'}"
      ]
     },
     "execution_count": 36,
     "metadata": {},
     "output_type": "execute_result"
    }
   ],
   "source": [
    "s"
   ]
  },
  {
   "cell_type": "code",
   "execution_count": 37,
   "id": "98781a93-75a3-42f8-898d-45a138a1d9ee",
   "metadata": {},
   "outputs": [],
   "source": [
    "# using update we can add any itrable to set i.e. list, tuple, dictionary"
   ]
  },
  {
   "cell_type": "code",
   "execution_count": 38,
   "id": "342f57b8-42bd-4d71-9117-7b0ded59ec81",
   "metadata": {},
   "outputs": [],
   "source": [
    "l = [9, 20, 40, 55]"
   ]
  },
  {
   "cell_type": "code",
   "execution_count": 39,
   "id": "d971b0c5-3988-41bd-b073-c4ffd2a1da79",
   "metadata": {},
   "outputs": [],
   "source": [
    "s.update(l)"
   ]
  },
  {
   "cell_type": "code",
   "execution_count": 40,
   "id": "7be6527c-b01e-40ee-986b-3fec1311076c",
   "metadata": {},
   "outputs": [
    {
     "data": {
      "text/plain": [
       "{1, 2, 20, 3, 4, 40, 5, 55, 6, 8, 9, 'apple', 'hello', 'hi'}"
      ]
     },
     "execution_count": 40,
     "metadata": {},
     "output_type": "execute_result"
    }
   ],
   "source": [
    "s"
   ]
  },
  {
   "cell_type": "code",
   "execution_count": 42,
   "id": "193ea9d3-0fd6-4ac9-98cf-1cd8f861ac07",
   "metadata": {},
   "outputs": [
    {
     "data": {
      "text/plain": [
       "{'hello', 'hi'}"
      ]
     },
     "execution_count": 42,
     "metadata": {},
     "output_type": "execute_result"
    }
   ],
   "source": [
    "#clear method emptys the set\n",
    "s1"
   ]
  },
  {
   "cell_type": "code",
   "execution_count": 43,
   "id": "f2950fe3-356c-49e0-bee6-3ecd9e6a85bd",
   "metadata": {},
   "outputs": [],
   "source": [
    "s1.clear()"
   ]
  },
  {
   "cell_type": "code",
   "execution_count": 44,
   "id": "8fb0731e-48c5-41e5-8743-b505d46da3ac",
   "metadata": {},
   "outputs": [
    {
     "data": {
      "text/plain": [
       "set()"
      ]
     },
     "execution_count": 44,
     "metadata": {},
     "output_type": "execute_result"
    }
   ],
   "source": [
    "s1 # empty set"
   ]
  },
  {
   "cell_type": "code",
   "execution_count": 45,
   "id": "5d7a03cc-3617-4e03-bcfa-5b69165879ad",
   "metadata": {},
   "outputs": [],
   "source": [
    "# del will delete the set completely\n",
    "del s1"
   ]
  },
  {
   "cell_type": "code",
   "execution_count": 47,
   "id": "0c4f73e4-0ef5-498c-b5a0-4b5042dcfcb2",
   "metadata": {},
   "outputs": [
    {
     "ename": "NameError",
     "evalue": "name 's1' is not defined",
     "output_type": "error",
     "traceback": [
      "\u001b[0;31m---------------------------------------------------------------------------\u001b[0m",
      "\u001b[0;31mNameError\u001b[0m                                 Traceback (most recent call last)",
      "Cell \u001b[0;32mIn [47], line 1\u001b[0m\n\u001b[0;32m----> 1\u001b[0m \u001b[43ms1\u001b[49m \u001b[38;5;66;03m#because the set has been deleted\u001b[39;00m\n",
      "\u001b[0;31mNameError\u001b[0m: name 's1' is not defined"
     ]
    }
   ],
   "source": [
    "s1 #because the set has been deleted"
   ]
  },
  {
   "cell_type": "code",
   "execution_count": null,
   "id": "967bfcd4-afa4-4a5f-a0fe-1b68e5cb5fa7",
   "metadata": {},
   "outputs": [],
   "source": []
  },
  {
   "cell_type": "code",
   "execution_count": null,
   "id": "5b9efe31-5980-4ff7-8335-9ae7e885cb2f",
   "metadata": {},
   "outputs": [],
   "source": []
  },
  {
   "cell_type": "markdown",
   "id": "7624c69d-d6be-426f-8e3e-06815218806c",
   "metadata": {},
   "source": [
    "<h2>Dictionary</h2>\n",
    "\n",
    "* it is doesnt allow duplicates\n",
    "* it uses key:value pair for data representation and retrival\n",
    "* dictionary values are changable\n",
    "* dictionary is initialised by curly braclkets as sets"
   ]
  },
  {
   "cell_type": "code",
   "execution_count": 90,
   "id": "e493776f-9f5a-43a7-ac94-920515eb8f14",
   "metadata": {},
   "outputs": [],
   "source": [
    "d = { 'brand':'ford', 'model':'mustang', 'year':1989, 'year':2000}"
   ]
  },
  {
   "cell_type": "code",
   "execution_count": 91,
   "id": "0a8626c3-850f-4aa0-b655-d88e6d906172",
   "metadata": {},
   "outputs": [
    {
     "data": {
      "text/plain": [
       "{'brand': 'ford', 'model': 'mustang', 'year': 2000}"
      ]
     },
     "execution_count": 91,
     "metadata": {},
     "output_type": "execute_result"
    }
   ],
   "source": [
    "d#duplicates are not allowed"
   ]
  },
  {
   "cell_type": "code",
   "execution_count": 92,
   "id": "1739fd26-b846-4b6f-9276-81715cb3049a",
   "metadata": {},
   "outputs": [
    {
     "data": {
      "text/plain": [
       "dict"
      ]
     },
     "execution_count": 92,
     "metadata": {},
     "output_type": "execute_result"
    }
   ],
   "source": [
    "type(d)"
   ]
  },
  {
   "cell_type": "code",
   "execution_count": 93,
   "id": "14a3e509-0c5b-4835-837b-a6cd341bc7f3",
   "metadata": {},
   "outputs": [
    {
     "data": {
      "text/plain": [
       "3"
      ]
     },
     "execution_count": 93,
     "metadata": {},
     "output_type": "execute_result"
    }
   ],
   "source": [
    "len(d) #length counts no of key value pairs"
   ]
  },
  {
   "cell_type": "code",
   "execution_count": 94,
   "id": "86ed8f9a-07bf-4635-9845-57231fbddda8",
   "metadata": {},
   "outputs": [],
   "source": [
    "#we can acess the dictionary either by key value or get method"
   ]
  },
  {
   "cell_type": "code",
   "execution_count": 95,
   "id": "f54fb882-d9f0-463f-97b0-ac813bf9666f",
   "metadata": {},
   "outputs": [
    {
     "data": {
      "text/plain": [
       "'ford'"
      ]
     },
     "execution_count": 95,
     "metadata": {},
     "output_type": "execute_result"
    }
   ],
   "source": [
    "d['brand']"
   ]
  },
  {
   "cell_type": "code",
   "execution_count": 96,
   "id": "2195fc60-a967-42b5-9b3c-0d00f74f4499",
   "metadata": {},
   "outputs": [
    {
     "data": {
      "text/plain": [
       "'ford'"
      ]
     },
     "execution_count": 96,
     "metadata": {},
     "output_type": "execute_result"
    }
   ],
   "source": [
    "d.get('brand')"
   ]
  },
  {
   "cell_type": "code",
   "execution_count": 97,
   "id": "8126c3d4-a09c-4c86-977f-49801354663a",
   "metadata": {},
   "outputs": [
    {
     "data": {
      "text/plain": [
       "dict_keys(['brand', 'model', 'year'])"
      ]
     },
     "execution_count": 97,
     "metadata": {},
     "output_type": "execute_result"
    }
   ],
   "source": [
    "d.keys()# it displays list of all the keys"
   ]
  },
  {
   "cell_type": "code",
   "execution_count": 98,
   "id": "81ed659c-c253-42bf-aa41-d4714e7e07ad",
   "metadata": {},
   "outputs": [
    {
     "data": {
      "text/plain": [
       "dict_values(['ford', 'mustang', 2000])"
      ]
     },
     "execution_count": 98,
     "metadata": {},
     "output_type": "execute_result"
    }
   ],
   "source": [
    "d.values()#it displays value of all the keys in list"
   ]
  },
  {
   "cell_type": "code",
   "execution_count": 99,
   "id": "ae196142-918e-4677-9415-054df563490e",
   "metadata": {},
   "outputs": [
    {
     "data": {
      "text/plain": [
       "dict_items([('brand', 'ford'), ('model', 'mustang'), ('year', 2000)])"
      ]
     },
     "execution_count": 99,
     "metadata": {},
     "output_type": "execute_result"
    }
   ],
   "source": [
    "d.items()#it will return the key value pair in tuple form in a list"
   ]
  },
  {
   "cell_type": "code",
   "execution_count": 100,
   "id": "be54c09b-b272-40a3-90f9-7d4004a4d52d",
   "metadata": {},
   "outputs": [],
   "source": [
    "d['color'] ='red' #to add another key value pair we have to specify key and value a key can have multiple values"
   ]
  },
  {
   "cell_type": "code",
   "execution_count": 101,
   "id": "d9ac6ec8-7d17-4c39-ac26-e19baf679812",
   "metadata": {},
   "outputs": [
    {
     "data": {
      "text/plain": [
       "{'brand': 'ford', 'model': 'mustang', 'year': 2000, 'color': 'red'}"
      ]
     },
     "execution_count": 101,
     "metadata": {},
     "output_type": "execute_result"
    }
   ],
   "source": [
    "d"
   ]
  },
  {
   "cell_type": "code",
   "execution_count": 102,
   "id": "b5f00e1f-4f1e-42b3-82b3-2adf3e5750b4",
   "metadata": {},
   "outputs": [],
   "source": [
    "#we can change the value of key by assiginig value to the key or by using update method"
   ]
  },
  {
   "cell_type": "code",
   "execution_count": 104,
   "id": "fc6994bc-09d1-488f-9c61-bf3c846ac48e",
   "metadata": {},
   "outputs": [],
   "source": [
    "d['year'] = 1989"
   ]
  },
  {
   "cell_type": "code",
   "execution_count": 105,
   "id": "575f0fb4-e1f5-4740-b122-afb96c4bfb35",
   "metadata": {},
   "outputs": [
    {
     "data": {
      "text/plain": [
       "{'brand': 'ford', 'model': 'mustang', 'year': 1989, 'color': 'red'}"
      ]
     },
     "execution_count": 105,
     "metadata": {},
     "output_type": "execute_result"
    }
   ],
   "source": [
    "d"
   ]
  },
  {
   "cell_type": "code",
   "execution_count": 115,
   "id": "4c67afb9-f393-4fbf-9229-ef17e0602fc6",
   "metadata": {},
   "outputs": [],
   "source": [
    "d.update({'model' : \"Mustang GT\"})#update can also be used to add items"
   ]
  },
  {
   "cell_type": "code",
   "execution_count": 116,
   "id": "b8b00ef3-9771-4984-b1c6-114248a3b5e7",
   "metadata": {},
   "outputs": [
    {
     "data": {
      "text/plain": [
       "{'brand': 'ford', 'model': 'Mustang GT', 'year': 1989, 'color': 'red'}"
      ]
     },
     "execution_count": 116,
     "metadata": {},
     "output_type": "execute_result"
    }
   ],
   "source": [
    "d"
   ]
  },
  {
   "cell_type": "markdown",
   "id": "404a3ab4-61f5-423d-bbc1-7fc96a88cc2d",
   "metadata": {},
   "source": [
    "* clear method emptys the list\n",
    "* del keyword delets the specified key\n",
    "* pop method delets the specified key\n",
    "* popitems removes last item of the dictionary"
   ]
  },
  {
   "cell_type": "code",
   "execution_count": 117,
   "id": "84c4e50d-ecb0-41a2-95d3-5340d790a33a",
   "metadata": {},
   "outputs": [
    {
     "data": {
      "text/plain": [
       "{'brand': 'ford', 'model': 'Mustang GT', 'year': 1989, 'color': 'red'}"
      ]
     },
     "execution_count": 117,
     "metadata": {},
     "output_type": "execute_result"
    }
   ],
   "source": [
    "d"
   ]
  },
  {
   "cell_type": "code",
   "execution_count": 118,
   "id": "644a1aae-97c8-41d6-b8a7-98e5d0caaa70",
   "metadata": {},
   "outputs": [
    {
     "data": {
      "text/plain": [
       "'red'"
      ]
     },
     "execution_count": 118,
     "metadata": {},
     "output_type": "execute_result"
    }
   ],
   "source": [
    "d.pop('color')"
   ]
  },
  {
   "cell_type": "code",
   "execution_count": 119,
   "id": "da258be0-771c-4e8b-a351-cd4e5072e777",
   "metadata": {},
   "outputs": [
    {
     "data": {
      "text/plain": [
       "{'brand': 'ford', 'model': 'Mustang GT', 'year': 1989}"
      ]
     },
     "execution_count": 119,
     "metadata": {},
     "output_type": "execute_result"
    }
   ],
   "source": [
    "d"
   ]
  },
  {
   "cell_type": "code",
   "execution_count": 120,
   "id": "5a0f4f06-1e86-456f-818d-271e2adc83bb",
   "metadata": {},
   "outputs": [
    {
     "data": {
      "text/plain": [
       "('year', 1989)"
      ]
     },
     "execution_count": 120,
     "metadata": {},
     "output_type": "execute_result"
    }
   ],
   "source": [
    "d.popitem()"
   ]
  },
  {
   "cell_type": "code",
   "execution_count": 121,
   "id": "074e74dc-abc7-4f49-b173-ca5025a6ec54",
   "metadata": {},
   "outputs": [
    {
     "data": {
      "text/plain": [
       "{'brand': 'ford', 'model': 'Mustang GT'}"
      ]
     },
     "execution_count": 121,
     "metadata": {},
     "output_type": "execute_result"
    }
   ],
   "source": [
    "d"
   ]
  },
  {
   "cell_type": "code",
   "execution_count": 122,
   "id": "0a839d40-9c48-4d63-a6d5-ec4ec2bc115c",
   "metadata": {},
   "outputs": [],
   "source": [
    "del d['brand']"
   ]
  },
  {
   "cell_type": "code",
   "execution_count": 123,
   "id": "fabd3fc0-6128-46f2-8484-772ea3290b47",
   "metadata": {},
   "outputs": [
    {
     "data": {
      "text/plain": [
       "{'model': 'Mustang GT'}"
      ]
     },
     "execution_count": 123,
     "metadata": {},
     "output_type": "execute_result"
    }
   ],
   "source": [
    "d"
   ]
  },
  {
   "cell_type": "code",
   "execution_count": 124,
   "id": "22969238-42ba-4147-bb40-633d183ae7c3",
   "metadata": {},
   "outputs": [],
   "source": [
    "d = { 'brand':'ford', 'model':'mustang', 'year':1989}"
   ]
  },
  {
   "cell_type": "code",
   "execution_count": 125,
   "id": "e30070ad-cf9b-4f8f-aada-2316011abc59",
   "metadata": {},
   "outputs": [
    {
     "data": {
      "text/plain": [
       "{'brand': 'ford', 'model': 'mustang', 'year': 1989}"
      ]
     },
     "execution_count": 125,
     "metadata": {},
     "output_type": "execute_result"
    }
   ],
   "source": [
    "d"
   ]
  },
  {
   "cell_type": "code",
   "execution_count": 126,
   "id": "32813dfe-3854-4e8e-adb6-7a4ab7f1620f",
   "metadata": {},
   "outputs": [],
   "source": [
    "d.clear()"
   ]
  },
  {
   "cell_type": "code",
   "execution_count": 127,
   "id": "38a429c3-cc47-4ae1-8b0f-a89025570f22",
   "metadata": {},
   "outputs": [
    {
     "data": {
      "text/plain": [
       "{}"
      ]
     },
     "execution_count": 127,
     "metadata": {},
     "output_type": "execute_result"
    }
   ],
   "source": [
    "d"
   ]
  },
  {
   "cell_type": "markdown",
   "id": "64466f45-ac71-4e61-b982-45d48f86d3b9",
   "metadata": {},
   "source": [
    "* nested dictionary i.e. dictionary within a dictionary"
   ]
  },
  {
   "cell_type": "code",
   "execution_count": 128,
   "id": "3ce9dd59-7ce4-4295-81b4-4e2aeee6c38f",
   "metadata": {},
   "outputs": [],
   "source": [
    "child1 = {\n",
    "  \"name\" : \"Emil\",\n",
    "  \"year\" : 2004\n",
    "}\n",
    "child2 = {\n",
    "  \"name\" : \"Tobias\",\n",
    "  \"year\" : 2007\n",
    "}\n",
    "child3 = {\n",
    "  \"name\" : \"Linus\",\n",
    "  \"year\" : 2011\n",
    "}\n",
    "\n",
    "myfamily = {\n",
    "  \"child1\" : child1,\n",
    "  \"child2\" : child2,\n",
    "  \"child3\" : child3\n",
    "}"
   ]
  },
  {
   "cell_type": "code",
   "execution_count": 129,
   "id": "f5be1805-daad-4c04-a879-5e04cd1ecced",
   "metadata": {},
   "outputs": [
    {
     "data": {
      "text/plain": [
       "{'child1': {'name': 'Emil', 'year': 2004},\n",
       " 'child2': {'name': 'Tobias', 'year': 2007},\n",
       " 'child3': {'name': 'Linus', 'year': 2011}}"
      ]
     },
     "execution_count": 129,
     "metadata": {},
     "output_type": "execute_result"
    }
   ],
   "source": [
    "myfamily"
   ]
  },
  {
   "cell_type": "code",
   "execution_count": null,
   "id": "e2b801b1-87e1-4ef9-958f-9ad8938a90a7",
   "metadata": {},
   "outputs": [],
   "source": []
  }
 ],
 "metadata": {
  "kernelspec": {
   "display_name": "Python 3 (ipykernel)",
   "language": "python",
   "name": "python3"
  },
  "language_info": {
   "codemirror_mode": {
    "name": "ipython",
    "version": 3
   },
   "file_extension": ".py",
   "mimetype": "text/x-python",
   "name": "python",
   "nbconvert_exporter": "python",
   "pygments_lexer": "ipython3",
   "version": "3.10.6"
  }
 },
 "nbformat": 4,
 "nbformat_minor": 5
}
