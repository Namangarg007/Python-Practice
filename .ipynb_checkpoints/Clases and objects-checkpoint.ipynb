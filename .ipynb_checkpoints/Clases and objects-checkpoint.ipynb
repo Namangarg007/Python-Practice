{
 "cells": [
  {
   "cell_type": "markdown",
   "id": "f952efe3-5120-4094-b56e-64a5f05d3b90",
   "metadata": {
    "tags": []
   },
   "source": [
    "<h2>Classes and Objects</h2>"
   ]
  },
  {
   "cell_type": "code",
   "execution_count": 1,
   "id": "b0d6a130-6b75-4768-80a2-bbb33cec2c64",
   "metadata": {},
   "outputs": [],
   "source": [
    "class first:\n",
    "    x = 5"
   ]
  },
  {
   "cell_type": "code",
   "execution_count": 2,
   "id": "dc174544-ebc6-4df0-99f8-9d905c3a9f58",
   "metadata": {},
   "outputs": [],
   "source": [
    "# we can access classes methods and values using objects \n",
    "o = first() # now o is a object of first class we can create as many objects for a class as we want\n"
   ]
  },
  {
   "cell_type": "code",
   "execution_count": 4,
   "id": "14100457-00e8-486e-a3fc-dced8e4ca7b6",
   "metadata": {},
   "outputs": [
    {
     "data": {
      "text/plain": [
       "5"
      ]
     },
     "execution_count": 4,
     "metadata": {},
     "output_type": "execute_result"
    }
   ],
   "source": [
    "o.x # this is how we access values and methoda or functions inside a class"
   ]
  },
  {
   "cell_type": "markdown",
   "id": "86cfa9e2-28e0-436b-9b1a-4a5001a68c50",
   "metadata": {},
   "source": [
    "<h3>__init__ function</h3>\n",
    "\n",
    "* it is afunction that is called automatically whenever the class is created\n",
    "\n",
    "* in this function we can declair the valriables or values that will be used in th class multiple times\n"
   ]
  },
  {
   "cell_type": "code",
   "execution_count": 5,
   "id": "a03f9c1f-0bc0-454b-b162-84f3564588f0",
   "metadata": {},
   "outputs": [],
   "source": [
    "class det():\n",
    "    \n",
    "    def __init__(self, name, age, weight, school): #self parameter tells which value is to be used in place of any word can be used\n",
    "        \n",
    "        self.name = name #self will create a instance so that the value recieved by the object can be accessed by the object\n",
    "        self.age = age\n",
    "        self.weight = weight\n",
    "        self.school = school"
   ]
  },
  {
   "cell_type": "code",
   "execution_count": 7,
   "id": "094a55af-c4dd-4bb5-a040-a3c911f7956b",
   "metadata": {},
   "outputs": [],
   "source": [
    "#every object has their own memory location they dont have access to the values of one another\n",
    "d = det('Naman', 20, 100, 'pws')\n",
    "d1 = det('Mohit', 23, 90, 'apj')"
   ]
  },
  {
   "cell_type": "code",
   "execution_count": 8,
   "id": "185e40f1-e014-41aa-b6a2-e2bec3266933",
   "metadata": {},
   "outputs": [
    {
     "data": {
      "text/plain": [
       "'Mohit'"
      ]
     },
     "execution_count": 8,
     "metadata": {},
     "output_type": "execute_result"
    }
   ],
   "source": [
    "d1.name"
   ]
  },
  {
   "cell_type": "code",
   "execution_count": 11,
   "id": "ad0208a0-b84b-4707-b2bc-c7854b55e9a9",
   "metadata": {},
   "outputs": [
    {
     "name": "stdout",
     "output_type": "stream",
     "text": [
      "Naman\n"
     ]
    },
    {
     "data": {
      "text/plain": [
       "20"
      ]
     },
     "execution_count": 11,
     "metadata": {},
     "output_type": "execute_result"
    }
   ],
   "source": [
    "print(d.name)\n",
    "d.age"
   ]
  },
  {
   "cell_type": "markdown",
   "id": "959c9669-7fbd-4df7-989d-16601250100c",
   "metadata": {},
   "source": [
    "<h3>__str__</h3>\n",
    "\n",
    "* The __str__() function controls what should be returned when the class object is represented as a string\n",
    "\n",
    "* if the __str__() function is not defined by default it returns the string object"
   ]
  },
  {
   "cell_type": "code",
   "execution_count": 12,
   "id": "e5a9a47e-2336-4843-987a-3a163474aad8",
   "metadata": {},
   "outputs": [],
   "source": [
    "class full_name_1:\n",
    "    \n",
    "    def __init__(name, first_name, last_name):# here in place of self we are using name to create instance of variable\n",
    "        \n",
    "        name.first_name = first_name\n",
    "        name.last_name = last_name\n",
    "        "
   ]
  },
  {
   "cell_type": "code",
   "execution_count": 14,
   "id": "b4fced14-c4d0-471d-8ad0-d91e5ddb87e7",
   "metadata": {},
   "outputs": [],
   "source": [
    "n = full_name_1('Naman', 'Garg')"
   ]
  },
  {
   "cell_type": "code",
   "execution_count": 17,
   "id": "3bf95d2f-b3b8-4ffc-8188-27a0fcd18e53",
   "metadata": {},
   "outputs": [
    {
     "name": "stdout",
     "output_type": "stream",
     "text": [
      "<__main__.full_name_1 object at 0x7ff142aed540>\n"
     ]
    }
   ],
   "source": [
    "print(n) #as you see sting object is returned"
   ]
  },
  {
   "cell_type": "code",
   "execution_count": 18,
   "id": "b9142a39-c3df-4725-a185-8bce2d8fc877",
   "metadata": {},
   "outputs": [],
   "source": [
    "class full_name:\n",
    "    \n",
    "    def __init__(name, first_name, last_name):# here in place of self we are using name to create instance of variable\n",
    "        \n",
    "        name.first_name = first_name\n",
    "        name.last_name = last_name\n",
    "        \n",
    "    def __str__(name):#the instance variable should defined in every function to make it easy to access the values\n",
    "        \n",
    "        return f'{name.first_name} {name.last_name}'"
   ]
  },
  {
   "cell_type": "code",
   "execution_count": 19,
   "id": "56ed78eb-c488-4c46-bb19-46999b1858f9",
   "metadata": {},
   "outputs": [],
   "source": [
    "n_1 = full_name('Naman', 'Garg')"
   ]
  },
  {
   "cell_type": "code",
   "execution_count": 21,
   "id": "5a3847ae-c891-40ac-90fd-37d71e89a78f",
   "metadata": {},
   "outputs": [
    {
     "name": "stdout",
     "output_type": "stream",
     "text": [
      "Naman Garg\n"
     ]
    }
   ],
   "source": [
    "print(n_1) #as you see the full name is returned as we defined it in the class function"
   ]
  },
  {
   "cell_type": "code",
   "execution_count": 37,
   "id": "cda4244c-c338-4d79-946b-c221955a7554",
   "metadata": {},
   "outputs": [],
   "source": [
    "# object method method for object to call\n",
    "\n",
    "class Person:\n",
    "   \n",
    "    def __init__(self, name, age):\n",
    "        self.name = name\n",
    "        self.age = age\n",
    "\n",
    "    def myfunc(self):\n",
    "        print(\"Hello my name is \" + self.name)"
   ]
  },
  {
   "cell_type": "code",
   "execution_count": 38,
   "id": "c620e0f2-b576-4543-9e26-c98c0078bdb2",
   "metadata": {},
   "outputs": [
    {
     "name": "stdout",
     "output_type": "stream",
     "text": [
      "Hello my name is John\n"
     ]
    }
   ],
   "source": [
    "p1 = Person(\"John\", 36)\n",
    "p1.myfunc() #my function is a method the we created for an object just like we use in all the programs"
   ]
  },
  {
   "cell_type": "code",
   "execution_count": 39,
   "id": "454bb331-02b7-4b11-b308-233252c5e0f3",
   "metadata": {},
   "outputs": [
    {
     "data": {
      "text/plain": [
       "'John'"
      ]
     },
     "execution_count": 39,
     "metadata": {},
     "output_type": "execute_result"
    }
   ],
   "source": [
    "p1.name"
   ]
  },
  {
   "cell_type": "code",
   "execution_count": 40,
   "id": "1df967b6-917d-4afc-90cb-f15dbfaab38a",
   "metadata": {},
   "outputs": [],
   "source": [
    "#we can modifie value of an object \n",
    "\n",
    "p1.name = 'Naman'"
   ]
  },
  {
   "cell_type": "code",
   "execution_count": 41,
   "id": "6738d0ce-62d6-41ce-8036-24f998d2e286",
   "metadata": {},
   "outputs": [
    {
     "data": {
      "text/plain": [
       "'Naman'"
      ]
     },
     "execution_count": 41,
     "metadata": {},
     "output_type": "execute_result"
    }
   ],
   "source": [
    "p1.name"
   ]
  },
  {
   "cell_type": "code",
   "execution_count": 42,
   "id": "80a48a69-bed2-407f-af35-0b147f23e7ed",
   "metadata": {},
   "outputs": [
    {
     "data": {
      "text/plain": [
       "36"
      ]
     },
     "execution_count": 42,
     "metadata": {},
     "output_type": "execute_result"
    }
   ],
   "source": [
    "# we can delete object variables or parameters or values using del key word\n",
    "#this dosent affect the class only the object\n",
    "\n",
    "p1.age"
   ]
  },
  {
   "cell_type": "code",
   "execution_count": 43,
   "id": "303d1bc1-a7de-4ad8-8736-a5da83863dcc",
   "metadata": {},
   "outputs": [],
   "source": [
    "del p1.age"
   ]
  },
  {
   "cell_type": "code",
   "execution_count": 44,
   "id": "b4ec9366-08bc-4042-a710-4df65cb4fbd0",
   "metadata": {},
   "outputs": [
    {
     "ename": "AttributeError",
     "evalue": "'Person' object has no attribute 'age'",
     "output_type": "error",
     "traceback": [
      "\u001b[0;31m---------------------------------------------------------------------------\u001b[0m",
      "\u001b[0;31mAttributeError\u001b[0m                            Traceback (most recent call last)",
      "Cell \u001b[0;32mIn [44], line 1\u001b[0m\n\u001b[0;32m----> 1\u001b[0m \u001b[43mp1\u001b[49m\u001b[38;5;241;43m.\u001b[39;49m\u001b[43mage\u001b[49m\n",
      "\u001b[0;31mAttributeError\u001b[0m: 'Person' object has no attribute 'age'"
     ]
    }
   ],
   "source": [
    "p1.age"
   ]
  },
  {
   "cell_type": "code",
   "execution_count": 45,
   "id": "e7775f1c-0980-4752-a027-0b93afc0d889",
   "metadata": {},
   "outputs": [
    {
     "data": {
      "text/plain": [
       "<__main__.Person at 0x7ff142e88250>"
      ]
     },
     "execution_count": 45,
     "metadata": {},
     "output_type": "execute_result"
    }
   ],
   "source": [
    "# using del keyword we can delete the whole object\n",
    "\n",
    "p1"
   ]
  },
  {
   "cell_type": "code",
   "execution_count": 46,
   "id": "e27a68f8-ff57-47f5-a5f1-f6dc01154a6c",
   "metadata": {},
   "outputs": [],
   "source": [
    "del p1"
   ]
  },
  {
   "cell_type": "code",
   "execution_count": 47,
   "id": "2c3a1bd6-30d3-4a08-83aa-a27fa8eafd50",
   "metadata": {},
   "outputs": [
    {
     "ename": "NameError",
     "evalue": "name 'p1' is not defined",
     "output_type": "error",
     "traceback": [
      "\u001b[0;31m---------------------------------------------------------------------------\u001b[0m",
      "\u001b[0;31mNameError\u001b[0m                                 Traceback (most recent call last)",
      "Cell \u001b[0;32mIn [47], line 1\u001b[0m\n\u001b[0;32m----> 1\u001b[0m \u001b[43mp1\u001b[49m\n",
      "\u001b[0;31mNameError\u001b[0m: name 'p1' is not defined"
     ]
    }
   ],
   "source": [
    "p1"
   ]
  },
  {
   "cell_type": "code",
   "execution_count": 48,
   "id": "d31b2ec0-d75c-456e-bac6-aaf875175996",
   "metadata": {},
   "outputs": [],
   "source": [
    "# Empty class\n",
    "\n",
    "class emp:\n",
    "    pass"
   ]
  },
  {
   "cell_type": "markdown",
   "id": "f892433e-4a54-437b-b090-5fa38f9bc3cb",
   "metadata": {},
   "source": [
    "<h2>Inheritance</h2>\n",
    "\n",
    "* Inheritance allows us to define a class that inherits all the methods and properties from another class\n",
    "\n",
    "* Parent class is the class being inherited from, also called base class\n",
    "\n",
    "* Child class is the class that inherits from another class, also called derived class"
   ]
  },
  {
   "cell_type": "code",
   "execution_count": 79,
   "id": "7c561d15-99f2-46ef-b503-5dea72e43dda",
   "metadata": {},
   "outputs": [],
   "source": [
    "#parent class\n",
    "class det():\n",
    "    \n",
    "    def __init__(self, name, age, weight, school): #self parameter tells which value is to be used in place of any word can be used\n",
    "        \n",
    "        self.name = name #self will create a instance so that the value recieved by the object can be accessed by the object\n",
    "        self.age = age\n",
    "        self.weight = weight\n",
    "        self.school = school\n",
    "        \n",
    "    def __str__(self):#the instance variable should defined in every function to make it easy to access the values\n",
    "        \n",
    "        return f'{self.name}({self.age})'"
   ]
  },
  {
   "cell_type": "code",
   "execution_count": 80,
   "id": "f7b1015f-d4fa-4a90-a559-e0d7fab7c88f",
   "metadata": {},
   "outputs": [],
   "source": [
    "#child class\n",
    "\n",
    "class Person(det):\n",
    "   \n",
    "    def __init__(self, name, age, weight, school):\n",
    "        det.__init__(self, name, age, weight, school)#her instead of using paent class name we can use super() function\n",
    "    def myfunc(self):\n",
    "        print(\"Hello my name is \" + self.name)"
   ]
  },
  {
   "cell_type": "code",
   "execution_count": 81,
   "id": "899ad6c7-91a7-4caa-9cba-29ed858436e4",
   "metadata": {},
   "outputs": [],
   "source": [
    "d = det('Naman', 20, 100, 'pws')"
   ]
  },
  {
   "cell_type": "code",
   "execution_count": 82,
   "id": "396d7fed-cedd-4a29-8266-b60a1bba933e",
   "metadata": {},
   "outputs": [
    {
     "ename": "AttributeError",
     "evalue": "'det' object has no attribute 'myfunction'",
     "output_type": "error",
     "traceback": [
      "\u001b[0;31m---------------------------------------------------------------------------\u001b[0m",
      "\u001b[0;31mAttributeError\u001b[0m                            Traceback (most recent call last)",
      "Cell \u001b[0;32mIn [82], line 3\u001b[0m\n\u001b[1;32m      1\u001b[0m \u001b[38;5;66;03m#parent class dosent have access to methods and variable of the child class \u001b[39;00m\n\u001b[1;32m      2\u001b[0m \u001b[38;5;66;03m# child class inherits all the methods and variables from parent class\u001b[39;00m\n\u001b[0;32m----> 3\u001b[0m \u001b[43md\u001b[49m\u001b[38;5;241;43m.\u001b[39;49m\u001b[43mmyfunction\u001b[49m()\u001b[38;5;66;03m# this is parent class object\u001b[39;00m\n",
      "\u001b[0;31mAttributeError\u001b[0m: 'det' object has no attribute 'myfunction'"
     ]
    }
   ],
   "source": [
    "#parent class dosent have access to methods and variable of the child class \n",
    "# child class inherits all the methods and variables from parent class\n",
    "d.myfunction()# this is parent class object"
   ]
  },
  {
   "cell_type": "code",
   "execution_count": 83,
   "id": "457d45b1-2f6a-4a90-b5e4-a8c2ca9ac313",
   "metadata": {},
   "outputs": [],
   "source": [
    "d1 = Person('Mohit', 23, 90, 'apj')"
   ]
  },
  {
   "cell_type": "code",
   "execution_count": 84,
   "id": "deddf5ba-75c6-4656-9eb9-54b9d92567b2",
   "metadata": {},
   "outputs": [
    {
     "data": {
      "text/plain": [
       "'Mohit'"
      ]
     },
     "execution_count": 84,
     "metadata": {},
     "output_type": "execute_result"
    }
   ],
   "source": [
    "d1.name"
   ]
  },
  {
   "cell_type": "code",
   "execution_count": 85,
   "id": "58b08527-25d2-4635-886b-d11587bbe9f6",
   "metadata": {},
   "outputs": [
    {
     "name": "stdout",
     "output_type": "stream",
     "text": [
      "Hello my name is Mohit\n"
     ]
    }
   ],
   "source": [
    "d1.myfunc()"
   ]
  },
  {
   "cell_type": "code",
   "execution_count": 86,
   "id": "4c93921d-324d-48d7-aefe-469508fd6f63",
   "metadata": {},
   "outputs": [
    {
     "name": "stdout",
     "output_type": "stream",
     "text": [
      "Mohit(23)\n"
     ]
    }
   ],
   "source": [
    "print(d1)"
   ]
  },
  {
   "cell_type": "code",
   "execution_count": 91,
   "id": "9ba9adbd-9897-4c3d-88b9-c622bc4b1efe",
   "metadata": {},
   "outputs": [
    {
     "name": "stdout",
     "output_type": "stream",
     "text": [
      "John Doe\n"
     ]
    }
   ],
   "source": [
    "class Person_1:\n",
    "    def __init__(self, fname, lname):\n",
    "        self.firstname = fname\n",
    "        self.lastname = lname\n",
    "\n",
    "        \n",
    "    def printname(self):\n",
    "        print(self.firstname, self.lastname)\n",
    "\n",
    "#Use the Person class to create an object, and then execute the printname method:\n",
    "\n",
    "x = Person_1(\"John\", \"Doe\")\n",
    "x.printname()"
   ]
  },
  {
   "cell_type": "code",
   "execution_count": 95,
   "id": "31709714-4325-4e84-b801-ddc9ac63a930",
   "metadata": {},
   "outputs": [],
   "source": [
    "#adding property year to student class\n",
    "class Student(Person_1):\n",
    "      def __init__(self, fname, lname):\n",
    "        super().__init__(fname, lname)\n",
    "        self.graduationyear = 2019"
   ]
  },
  {
   "cell_type": "code",
   "execution_count": 94,
   "id": "ea4c0fa0-d07e-42a0-be14-b336cda4d4f0",
   "metadata": {},
   "outputs": [],
   "source": [
    "#adding parameter to student class dispite it being child class it can have it own methods and parameters and properties\n",
    "class Student(Person_1):\n",
    "      def __init__(self, fname, lname, year):\n",
    "        super().__init__(fname, lname)\n",
    "        self.graduationyear = year\n",
    "\n",
    "x = Student(\"Mike\", \"Olsen\", 2019)"
   ]
  },
  {
   "cell_type": "code",
   "execution_count": 96,
   "id": "d7ad117d-c659-4d2e-8e44-1f740c68e327",
   "metadata": {},
   "outputs": [
    {
     "name": "stdout",
     "output_type": "stream",
     "text": [
      "1\n",
      "2\n",
      "3\n",
      "4\n",
      "5\n"
     ]
    }
   ],
   "source": [
    "class MyNumbers:\n",
    "  def __iter__(self):\n",
    "    self.a = 1\n",
    "    return self\n",
    "\n",
    "  def __next__(self):\n",
    "    x = self.a\n",
    "    self.a += 1\n",
    "    return x\n",
    "\n",
    "myclass = MyNumbers()\n",
    "myiter = iter(myclass)\n",
    "\n",
    "print(next(myiter))\n",
    "print(next(myiter))\n",
    "print(next(myiter))\n",
    "print(next(myiter))\n",
    "print(next(myiter))"
   ]
  },
  {
   "cell_type": "code",
   "execution_count": 97,
   "id": "12bf3519-07b7-4a85-b064-4855da237685",
   "metadata": {},
   "outputs": [
    {
     "name": "stdout",
     "output_type": "stream",
     "text": [
      "1\n",
      "2\n",
      "3\n",
      "4\n",
      "5\n",
      "6\n",
      "7\n",
      "8\n",
      "9\n",
      "10\n",
      "11\n",
      "12\n",
      "13\n",
      "14\n",
      "15\n",
      "16\n",
      "17\n",
      "18\n",
      "19\n",
      "20\n"
     ]
    }
   ],
   "source": [
    "class MyNumbers:\n",
    "  def __iter__(self):\n",
    "    self.a = 1\n",
    "    return self\n",
    "\n",
    "  def __next__(self):\n",
    "    if self.a <= 20:\n",
    "      x = self.a\n",
    "      self.a += 1\n",
    "      return x\n",
    "    else:\n",
    "      raise StopIteration\n",
    "\n",
    "myclass = MyNumbers()\n",
    "myiter = iter(myclass)\n",
    "\n",
    "for x in myiter:\n",
    "  print(x)"
   ]
  },
  {
   "cell_type": "code",
   "execution_count": 104,
   "id": "57519629-3d41-4c2e-b2d8-07949df1820a",
   "metadata": {},
   "outputs": [
    {
     "name": "stdin",
     "output_type": "stream",
     "text": [
      "Enter username: hi\n"
     ]
    },
    {
     "name": "stdout",
     "output_type": "stream",
     "text": [
      "Username is: hi\n",
      "<class 'str'>\n"
     ]
    }
   ],
   "source": [
    "username = input(\"Enter username:\")\n",
    "print(\"Username is: \" + username)\n",
    "print(type(username))"
   ]
  },
  {
   "cell_type": "code",
   "execution_count": null,
   "id": "5d506911-26c1-4a4e-ab96-e88614c5228c",
   "metadata": {},
   "outputs": [],
   "source": []
  },
  {
   "cell_type": "code",
   "execution_count": null,
   "id": "ce789b7a-18af-43fe-a0d9-8f23b46d4b58",
   "metadata": {},
   "outputs": [],
   "source": []
  }
 ],
 "metadata": {
  "kernelspec": {
   "display_name": "Python 3 (ipykernel)",
   "language": "python",
   "name": "python3"
  },
  "language_info": {
   "codemirror_mode": {
    "name": "ipython",
    "version": 3
   },
   "file_extension": ".py",
   "mimetype": "text/x-python",
   "name": "python",
   "nbconvert_exporter": "python",
   "pygments_lexer": "ipython3",
   "version": "3.10.6"
  }
 },
 "nbformat": 4,
 "nbformat_minor": 5
}
