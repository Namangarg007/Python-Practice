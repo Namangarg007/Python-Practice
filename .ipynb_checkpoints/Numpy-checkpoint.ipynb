{
 "cells": [
  {
   "cell_type": "markdown",
   "id": "ed3298ea-2c31-4e6a-b1a9-3cae067f38e3",
   "metadata": {
    "tags": []
   },
   "source": [
    "<h2>NumPy</h2>\n",
    "\n",
    "* NumPy is a Python library used for working with arrays.\n",
    "\n",
    "* It also has functions for working in domain of linear algebra, fourier transform, and matrices.\n",
    "\n",
    "* NumPy stands for Numerical Python."
   ]
  },
  {
   "cell_type": "code",
   "execution_count": 1,
   "id": "3be2695c-7349-42e6-ae95-385cb6a757a9",
   "metadata": {},
   "outputs": [],
   "source": [
    "import numpy as np #np is like a nick name for numpy library to make it easy to access it can be any thing \n",
    "#it dosen't have to be np but it is a well used practice"
   ]
  },
  {
   "cell_type": "code",
   "execution_count": 76,
   "id": "cdd21a46-ef59-4a3b-a2b6-722fb71139ee",
   "metadata": {},
   "outputs": [],
   "source": [
    "a = np.array([1, 2, 3, 4, 5, 6, 7, 8, 9, 10]) #the numpy function converts the values into numpy array"
   ]
  },
  {
   "cell_type": "code",
   "execution_count": 77,
   "id": "4c56996f-4357-48b6-b952-595d1a8d6895",
   "metadata": {},
   "outputs": [
    {
     "name": "stdout",
     "output_type": "stream",
     "text": [
      "[ 1  2  3  4  5  6  7  8  9 10]\n"
     ]
    }
   ],
   "source": [
    "print(a)"
   ]
  },
  {
   "cell_type": "code",
   "execution_count": 4,
   "id": "0cb9f101-6eb7-4931-8cfc-69fe895df897",
   "metadata": {},
   "outputs": [
    {
     "data": {
      "text/plain": [
       "numpy.ndarray"
      ]
     },
     "execution_count": 4,
     "metadata": {},
     "output_type": "execute_result"
    }
   ],
   "source": [
    "type(a)"
   ]
  },
  {
   "cell_type": "code",
   "execution_count": 5,
   "id": "fbd9d7c7-bdac-462f-a682-ffc3fda2f1cf",
   "metadata": {},
   "outputs": [],
   "source": [
    "#the variable a is a numpy array"
   ]
  },
  {
   "cell_type": "markdown",
   "id": "646c347c-95eb-451b-8099-681f8e31eefb",
   "metadata": {},
   "source": [
    "<h3>0-D Array</h3>"
   ]
  },
  {
   "cell_type": "code",
   "execution_count": 6,
   "id": "df1651ae-9111-4d83-9ca2-a431e888d8da",
   "metadata": {},
   "outputs": [],
   "source": [
    "b = np.array(32)"
   ]
  },
  {
   "cell_type": "code",
   "execution_count": 7,
   "id": "3437586d-ed3d-40f0-b7d3-fcac58167e6d",
   "metadata": {},
   "outputs": [
    {
     "name": "stdout",
     "output_type": "stream",
     "text": [
      "32\n"
     ]
    }
   ],
   "source": [
    "print(b)"
   ]
  },
  {
   "cell_type": "code",
   "execution_count": 8,
   "id": "0d70eec1-a834-40a8-ba29-b335ca9df53d",
   "metadata": {},
   "outputs": [
    {
     "data": {
      "text/plain": [
       "numpy.ndarray"
      ]
     },
     "execution_count": 8,
     "metadata": {},
     "output_type": "execute_result"
    }
   ],
   "source": [
    "type(b)"
   ]
  },
  {
   "cell_type": "code",
   "execution_count": 9,
   "id": "65aa3ed3-5007-4fcd-a049-494ec3abc948",
   "metadata": {},
   "outputs": [
    {
     "data": {
      "text/plain": [
       "0"
      ]
     },
     "execution_count": 9,
     "metadata": {},
     "output_type": "execute_result"
    }
   ],
   "source": [
    "b.ndim #ndim tels the diamension of an array"
   ]
  },
  {
   "cell_type": "markdown",
   "id": "72c244c8-1a7e-4d0a-8a8c-d33d9d34200a",
   "metadata": {},
   "source": [
    "<h3>1-D Array</h3>"
   ]
  },
  {
   "cell_type": "code",
   "execution_count": 10,
   "id": "49b847e1-e50e-437e-bf8f-6f758c65f304",
   "metadata": {},
   "outputs": [],
   "source": [
    "c = np.array([1, 2, 3, 4, 5])"
   ]
  },
  {
   "cell_type": "code",
   "execution_count": 11,
   "id": "2b940005-1dae-4373-b716-4550c7d4dc19",
   "metadata": {},
   "outputs": [
    {
     "name": "stdout",
     "output_type": "stream",
     "text": [
      "[1 2 3 4 5]\n"
     ]
    }
   ],
   "source": [
    "print(c)"
   ]
  },
  {
   "cell_type": "code",
   "execution_count": 12,
   "id": "032f1633-45c2-4d8a-87a2-7d31d6517eb3",
   "metadata": {},
   "outputs": [
    {
     "data": {
      "text/plain": [
       "numpy.ndarray"
      ]
     },
     "execution_count": 12,
     "metadata": {},
     "output_type": "execute_result"
    }
   ],
   "source": [
    "type(c)"
   ]
  },
  {
   "cell_type": "code",
   "execution_count": 13,
   "id": "9a712401-f90c-4cfd-a5ed-d0bc0c72639c",
   "metadata": {},
   "outputs": [
    {
     "data": {
      "text/plain": [
       "1"
      ]
     },
     "execution_count": 13,
     "metadata": {},
     "output_type": "execute_result"
    }
   ],
   "source": [
    "c.ndim"
   ]
  },
  {
   "cell_type": "markdown",
   "id": "d68a3111-c4aa-4f6d-9351-b149e888c157",
   "metadata": {},
   "source": [
    "<h3>2-D Array</h3>"
   ]
  },
  {
   "cell_type": "code",
   "execution_count": 14,
   "id": "1f97dc13-be32-4401-a039-fdb767666587",
   "metadata": {},
   "outputs": [],
   "source": [
    "d = np.array([[1, 2, 3, 4, 5], [6, 7, 8, 9, 10]])"
   ]
  },
  {
   "cell_type": "code",
   "execution_count": 15,
   "id": "548b5eff-4672-4922-bcbf-e28b57f67c63",
   "metadata": {},
   "outputs": [
    {
     "name": "stdout",
     "output_type": "stream",
     "text": [
      "[[ 1  2  3  4  5]\n",
      " [ 6  7  8  9 10]]\n"
     ]
    }
   ],
   "source": [
    "print(d)"
   ]
  },
  {
   "cell_type": "code",
   "execution_count": 16,
   "id": "dfb78d7e-b4e9-4935-a2c3-7800e5459f9c",
   "metadata": {},
   "outputs": [
    {
     "data": {
      "text/plain": [
       "numpy.ndarray"
      ]
     },
     "execution_count": 16,
     "metadata": {},
     "output_type": "execute_result"
    }
   ],
   "source": [
    "type(d)"
   ]
  },
  {
   "cell_type": "code",
   "execution_count": 17,
   "id": "02e92e09-55fc-4d85-bd8b-6e81cde5ce85",
   "metadata": {},
   "outputs": [
    {
     "data": {
      "text/plain": [
       "2"
      ]
     },
     "execution_count": 17,
     "metadata": {},
     "output_type": "execute_result"
    }
   ],
   "source": [
    "d.ndim"
   ]
  },
  {
   "cell_type": "markdown",
   "id": "62964736-8782-4eb3-acb4-5b83eff0d473",
   "metadata": {},
   "source": [
    "<h3>3-D Array</h3>"
   ]
  },
  {
   "cell_type": "code",
   "execution_count": 18,
   "id": "3bebdf8f-0697-4266-9c2d-b90f98802920",
   "metadata": {},
   "outputs": [],
   "source": [
    "e = np.array([[[1, 2, 3, 4, 5], [11, 12, 13, 14, 15]], [[6, 7, 8, 9, 10], [16, 17, 18, 19, 20]]])"
   ]
  },
  {
   "cell_type": "code",
   "execution_count": 19,
   "id": "ef405816-3d74-455d-8d26-a3d19e4da296",
   "metadata": {},
   "outputs": [
    {
     "name": "stdout",
     "output_type": "stream",
     "text": [
      "[[[ 1  2  3  4  5]\n",
      "  [11 12 13 14 15]]\n",
      "\n",
      " [[ 6  7  8  9 10]\n",
      "  [16 17 18 19 20]]]\n"
     ]
    }
   ],
   "source": [
    "print(e)"
   ]
  },
  {
   "cell_type": "code",
   "execution_count": 20,
   "id": "f6c70313-1c1c-4764-9267-9c0ca1abca99",
   "metadata": {},
   "outputs": [
    {
     "data": {
      "text/plain": [
       "numpy.ndarray"
      ]
     },
     "execution_count": 20,
     "metadata": {},
     "output_type": "execute_result"
    }
   ],
   "source": [
    "type(e)"
   ]
  },
  {
   "cell_type": "code",
   "execution_count": 21,
   "id": "35b0f6d2-2e34-45de-8640-54474be2ed6d",
   "metadata": {},
   "outputs": [
    {
     "data": {
      "text/plain": [
       "3"
      ]
     },
     "execution_count": 21,
     "metadata": {},
     "output_type": "execute_result"
    }
   ],
   "source": [
    "e.ndim"
   ]
  },
  {
   "cell_type": "code",
   "execution_count": 22,
   "id": "414f616c-7b72-4cd1-b5c9-9a7d4ebf0e97",
   "metadata": {},
   "outputs": [],
   "source": [
    "# we can also define the diamension of array during creation without adding values\n",
    "#array can be of any number of diamensions\n",
    "f = np.array([1, 2, 3, 4, 5], ndmin = 5)"
   ]
  },
  {
   "cell_type": "code",
   "execution_count": 23,
   "id": "4f1be2cb-6a4a-4b30-ac1a-cff2c6b87000",
   "metadata": {},
   "outputs": [
    {
     "name": "stdout",
     "output_type": "stream",
     "text": [
      "[[[[[1 2 3 4 5]]]]]\n"
     ]
    }
   ],
   "source": [
    "print(f)"
   ]
  },
  {
   "cell_type": "code",
   "execution_count": 24,
   "id": "94f11a1c-ceb1-4589-858a-6d8401d8d88f",
   "metadata": {},
   "outputs": [
    {
     "data": {
      "text/plain": [
       "numpy.ndarray"
      ]
     },
     "execution_count": 24,
     "metadata": {},
     "output_type": "execute_result"
    }
   ],
   "source": [
    "type(f)"
   ]
  },
  {
   "cell_type": "code",
   "execution_count": 25,
   "id": "f424f7fc-4003-4354-a15f-5650fa3e6037",
   "metadata": {},
   "outputs": [
    {
     "data": {
      "text/plain": [
       "5"
      ]
     },
     "execution_count": 25,
     "metadata": {},
     "output_type": "execute_result"
    }
   ],
   "source": [
    "f.ndim"
   ]
  },
  {
   "cell_type": "markdown",
   "id": "e56db58c-3eb9-409c-8181-a52e86d23b9c",
   "metadata": {},
   "source": [
    "<h3> NumPy array indexing</h3>\n",
    "\n",
    "* Np array indexing work same as list indexing\n",
    "\n",
    "* it starts fom zero and the reverse indexing starts from -1\n",
    "\n",
    "* there is no indexing for 0-D Array"
   ]
  },
  {
   "cell_type": "code",
   "execution_count": 26,
   "id": "6f4c24eb-827b-48c5-a05a-54532feb3eec",
   "metadata": {},
   "outputs": [
    {
     "name": "stdout",
     "output_type": "stream",
     "text": [
      "4\n",
      "3\n"
     ]
    }
   ],
   "source": [
    "# 1-D array indexing\n",
    "\n",
    "print(c[3])\n",
    "print(c[2])"
   ]
  },
  {
   "cell_type": "code",
   "execution_count": 27,
   "id": "ddfe6f99-3d17-4974-a0b7-6b4dd747d5f4",
   "metadata": {},
   "outputs": [
    {
     "name": "stdout",
     "output_type": "stream",
     "text": [
      "2\n",
      "9\n"
     ]
    }
   ],
   "source": [
    "# 2-D array indexing\n",
    "\n",
    "print(d[0, 1]) # first value gives access to the first array and second value gives access to values of array\n",
    "\n",
    "print(d[1, 3])# now the first value access the second array in the array and second value gives access to value of array"
   ]
  },
  {
   "cell_type": "code",
   "execution_count": 28,
   "id": "60ee8a62-1fbd-4553-9795-339f40b194be",
   "metadata": {},
   "outputs": [
    {
     "name": "stdout",
     "output_type": "stream",
     "text": [
      "4\n",
      "14\n",
      "9\n",
      "19\n"
     ]
    }
   ],
   "source": [
    "# 3-D array indexing\n",
    "\n",
    "print(e[0, 0, 3])\n",
    "\n",
    "print(e[0, 1, 3])\n",
    "\n",
    "print(e[1, 0, 3])\n",
    "\n",
    "print(e[1, 1, 3])"
   ]
  },
  {
   "cell_type": "markdown",
   "id": "bc584d61-fbe8-4241-a401-2315f10fe819",
   "metadata": {},
   "source": [
    "<h3>Array Slicing</h3>\n",
    "\n",
    "* Slicing in python means taking elements from one given index to another given index.\n",
    "\n",
    "* We pass slice instead of index like this: [start:end].\n",
    "\n",
    "* We can also define the step, like this: [start:end:step].\n",
    "\n",
    "* If we don't pass start its considered 0\n",
    "\n",
    "* If we don't pass end its considered length of array in that dimension\n",
    "\n",
    "* If we don't pass step its considered 1"
   ]
  },
  {
   "cell_type": "code",
   "execution_count": 29,
   "id": "2022e960-a17a-4542-a898-8e2df0784e35",
   "metadata": {},
   "outputs": [
    {
     "data": {
      "text/plain": [
       "array([2, 3])"
      ]
     },
     "execution_count": 29,
     "metadata": {},
     "output_type": "execute_result"
    }
   ],
   "source": [
    "# 1-d array slicing\n",
    "\n",
    "c[1:3]"
   ]
  },
  {
   "cell_type": "code",
   "execution_count": 30,
   "id": "f192172f-24c3-4143-8406-f4d3b7bf3d56",
   "metadata": {},
   "outputs": [
    {
     "name": "stdout",
     "output_type": "stream",
     "text": [
      "[2 3]\n",
      "[7 8]\n"
     ]
    }
   ],
   "source": [
    "#2-d array slicing\n",
    "\n",
    "print(d[0, 1:3])\n",
    "\n",
    "print(d[1, 1:3]) # first selects the array and the second selects the value of the array"
   ]
  },
  {
   "cell_type": "code",
   "execution_count": 31,
   "id": "aa499c1e-0487-4ffc-a277-eb25d95fb09c",
   "metadata": {},
   "outputs": [
    {
     "name": "stdout",
     "output_type": "stream",
     "text": [
      "[[[ 2  3]\n",
      "  [12 13]]\n",
      "\n",
      " [[ 7  8]\n",
      "  [17 18]]]\n"
     ]
    }
   ],
   "source": [
    "#3-d array slicing\n",
    "\n",
    "print(e[0:2, 0:2, 1:3]) #the first selects the first set of array, second diamension selects the array from the the first array and\n",
    "# third selscts the value inside"
   ]
  },
  {
   "cell_type": "code",
   "execution_count": 32,
   "id": "7ced2562-e110-48bc-a828-84ed26609e0a",
   "metadata": {},
   "outputs": [
    {
     "data": {
      "text/plain": [
       "dtype('int64')"
      ]
     },
     "execution_count": 32,
     "metadata": {},
     "output_type": "execute_result"
    }
   ],
   "source": [
    "e.dtype # this tells the type of values inside the array"
   ]
  },
  {
   "cell_type": "code",
   "execution_count": 33,
   "id": "8ee18187-a7cc-40a4-be5a-b2d9d19e9902",
   "metadata": {},
   "outputs": [],
   "source": [
    "# we can also specify the datatype of the values in the array\n",
    "\n",
    "g = np.array([1, 2, 3, 4, 5], dtype = 'S') # now the value will be considered as string type"
   ]
  },
  {
   "cell_type": "code",
   "execution_count": 34,
   "id": "47d95de8-5d17-4560-9700-43febe17a0e0",
   "metadata": {},
   "outputs": [
    {
     "data": {
      "text/plain": [
       "array([b'1', b'2', b'3', b'4', b'5'], dtype='|S1')"
      ]
     },
     "execution_count": 34,
     "metadata": {},
     "output_type": "execute_result"
    }
   ],
   "source": [
    "g "
   ]
  },
  {
   "cell_type": "code",
   "execution_count": 35,
   "id": "7cdd048e-ad8e-42d1-981a-33fdbc376b87",
   "metadata": {},
   "outputs": [
    {
     "data": {
      "text/plain": [
       "dtype('S1')"
      ]
     },
     "execution_count": 35,
     "metadata": {},
     "output_type": "execute_result"
    }
   ],
   "source": [
    "g.dtype"
   ]
  },
  {
   "cell_type": "code",
   "execution_count": 36,
   "id": "90adb468-790e-429b-acf7-e22610da81a4",
   "metadata": {},
   "outputs": [],
   "source": [
    "# another way to convart the value is astype\n",
    "\n",
    "h = g.astype('i') # now the value will be converted to integer type"
   ]
  },
  {
   "cell_type": "code",
   "execution_count": 37,
   "id": "25b0f156-cd75-4bfa-af36-30f3713c04ab",
   "metadata": {},
   "outputs": [
    {
     "data": {
      "text/plain": [
       "array([1, 2, 3, 4, 5], dtype=int32)"
      ]
     },
     "execution_count": 37,
     "metadata": {},
     "output_type": "execute_result"
    }
   ],
   "source": [
    "h"
   ]
  },
  {
   "cell_type": "code",
   "execution_count": 38,
   "id": "da0049d9-125f-4012-a939-6b624777df9c",
   "metadata": {},
   "outputs": [
    {
     "data": {
      "text/plain": [
       "dtype('int32')"
      ]
     },
     "execution_count": 38,
     "metadata": {},
     "output_type": "execute_result"
    }
   ],
   "source": [
    "h.dtype"
   ]
  },
  {
   "cell_type": "markdown",
   "id": "4309e299-5d9d-470b-adc9-2cf4373f76de",
   "metadata": {},
   "source": [
    "<h3>copy and view function</h3>\n",
    "\n",
    "1. <h4>copy function</h4>\n",
    "\n",
    "    * copy() function copys the value of the array to another variable \n",
    "\n",
    "    * the original and the copy are two different variable\n",
    "\n",
    "    * changes in the copy will not effect the original and change in original will not effect the copy\n",
    "    \n",
    "    * in copy the copy owns the data that is the data belongs to it alone\n",
    "\n",
    "2. <h4>view function</h4>\n",
    "\n",
    "    * view() function copy the value of the array\n",
    "\n",
    "    * but the copy and the original are one in the same \n",
    "\n",
    "    * change in the copy will effect the original and change in original will effect the copy\n",
    "    \n",
    "    * in view the copy shares the data with the original"
   ]
  },
  {
   "cell_type": "code",
   "execution_count": 39,
   "id": "35d79d35-2cb7-4468-9f5c-b01021b37e7c",
   "metadata": {},
   "outputs": [
    {
     "data": {
      "text/plain": [
       "array([1, 2, 3, 4, 5])"
      ]
     },
     "execution_count": 39,
     "metadata": {},
     "output_type": "execute_result"
    }
   ],
   "source": [
    "c"
   ]
  },
  {
   "cell_type": "code",
   "execution_count": 40,
   "id": "cebed556-5d16-4af1-b724-6c7a43df57c4",
   "metadata": {},
   "outputs": [],
   "source": [
    "i = c.copy()"
   ]
  },
  {
   "cell_type": "code",
   "execution_count": 41,
   "id": "820cf90a-14b0-43e9-96fe-8e0b95b87396",
   "metadata": {},
   "outputs": [
    {
     "data": {
      "text/plain": [
       "array([1, 2, 3, 4, 5])"
      ]
     },
     "execution_count": 41,
     "metadata": {},
     "output_type": "execute_result"
    }
   ],
   "source": [
    "i"
   ]
  },
  {
   "cell_type": "code",
   "execution_count": 42,
   "id": "884736b4-33a8-4069-a2f0-97b2de3ed8a3",
   "metadata": {},
   "outputs": [],
   "source": [
    "i[0] = 10"
   ]
  },
  {
   "cell_type": "code",
   "execution_count": 43,
   "id": "b7ca5d4d-aa5e-455e-885d-4b0972ec1ea9",
   "metadata": {},
   "outputs": [
    {
     "data": {
      "text/plain": [
       "array([10,  2,  3,  4,  5])"
      ]
     },
     "execution_count": 43,
     "metadata": {},
     "output_type": "execute_result"
    }
   ],
   "source": [
    "i"
   ]
  },
  {
   "cell_type": "code",
   "execution_count": 44,
   "id": "a03c84c7-de1c-48dc-a6bd-c58116ee10da",
   "metadata": {},
   "outputs": [
    {
     "data": {
      "text/plain": [
       "array([1, 2, 3, 4, 5])"
      ]
     },
     "execution_count": 44,
     "metadata": {},
     "output_type": "execute_result"
    }
   ],
   "source": [
    "c"
   ]
  },
  {
   "cell_type": "code",
   "execution_count": 45,
   "id": "b317e28e-300b-4300-9318-b3abc11ab4b3",
   "metadata": {},
   "outputs": [],
   "source": [
    "# change in copy dident effect the original"
   ]
  },
  {
   "cell_type": "code",
   "execution_count": 46,
   "id": "d17ca362-1ec5-459f-907f-9635a4d7dd10",
   "metadata": {},
   "outputs": [],
   "source": [
    "c[3] = 33"
   ]
  },
  {
   "cell_type": "code",
   "execution_count": 47,
   "id": "0c88322f-8b85-4516-8eee-6e634069ddbf",
   "metadata": {},
   "outputs": [
    {
     "data": {
      "text/plain": [
       "array([ 1,  2,  3, 33,  5])"
      ]
     },
     "execution_count": 47,
     "metadata": {},
     "output_type": "execute_result"
    }
   ],
   "source": [
    "c"
   ]
  },
  {
   "cell_type": "code",
   "execution_count": 48,
   "id": "991ddfa4-feb4-46a4-97c4-c465c6d1c0d8",
   "metadata": {},
   "outputs": [
    {
     "data": {
      "text/plain": [
       "array([10,  2,  3,  4,  5])"
      ]
     },
     "execution_count": 48,
     "metadata": {},
     "output_type": "execute_result"
    }
   ],
   "source": [
    "i"
   ]
  },
  {
   "cell_type": "code",
   "execution_count": 49,
   "id": "0f58e6d5-93a2-44c2-96e9-22f98adaf1d6",
   "metadata": {},
   "outputs": [],
   "source": [
    "# change in orginal diden't effect the copy"
   ]
  },
  {
   "cell_type": "code",
   "execution_count": 50,
   "id": "1c7c47da-fecc-4976-9388-a0c4a344937c",
   "metadata": {},
   "outputs": [],
   "source": [
    "j = c.view()"
   ]
  },
  {
   "cell_type": "code",
   "execution_count": 51,
   "id": "58d52aee-f5e5-4dd8-a3af-17427a0027ba",
   "metadata": {},
   "outputs": [
    {
     "data": {
      "text/plain": [
       "array([ 1,  2,  3, 33,  5])"
      ]
     },
     "execution_count": 51,
     "metadata": {},
     "output_type": "execute_result"
    }
   ],
   "source": [
    "j"
   ]
  },
  {
   "cell_type": "code",
   "execution_count": 52,
   "id": "8427c187-bf98-4018-9589-2417b7776acb",
   "metadata": {},
   "outputs": [
    {
     "data": {
      "text/plain": [
       "array([ 1,  2,  3, 33,  5])"
      ]
     },
     "execution_count": 52,
     "metadata": {},
     "output_type": "execute_result"
    }
   ],
   "source": [
    "c"
   ]
  },
  {
   "cell_type": "code",
   "execution_count": 53,
   "id": "6b521e3e-f2bb-4df6-9bdf-20ce219631eb",
   "metadata": {},
   "outputs": [],
   "source": [
    "j[0] = 11"
   ]
  },
  {
   "cell_type": "code",
   "execution_count": 54,
   "id": "34153526-1a1f-4be5-89c7-f121bf4f9c4c",
   "metadata": {},
   "outputs": [
    {
     "data": {
      "text/plain": [
       "array([11,  2,  3, 33,  5])"
      ]
     },
     "execution_count": 54,
     "metadata": {},
     "output_type": "execute_result"
    }
   ],
   "source": [
    "j"
   ]
  },
  {
   "cell_type": "code",
   "execution_count": 55,
   "id": "c97e538a-22d1-4f16-a005-86a95da8e4cf",
   "metadata": {},
   "outputs": [
    {
     "data": {
      "text/plain": [
       "array([11,  2,  3, 33,  5])"
      ]
     },
     "execution_count": 55,
     "metadata": {},
     "output_type": "execute_result"
    }
   ],
   "source": [
    "c"
   ]
  },
  {
   "cell_type": "code",
   "execution_count": 56,
   "id": "44dcfe37-2e1e-47bc-b703-70f6291eb774",
   "metadata": {},
   "outputs": [],
   "source": [
    "# change in copy changed the original to "
   ]
  },
  {
   "cell_type": "code",
   "execution_count": 57,
   "id": "408eb25d-482b-4387-be41-7dbfbc60149f",
   "metadata": {},
   "outputs": [],
   "source": [
    "c[1] = 22"
   ]
  },
  {
   "cell_type": "code",
   "execution_count": 58,
   "id": "c9ef80f5-053f-463c-810a-ab003cee52b8",
   "metadata": {},
   "outputs": [
    {
     "data": {
      "text/plain": [
       "array([11, 22,  3, 33,  5])"
      ]
     },
     "execution_count": 58,
     "metadata": {},
     "output_type": "execute_result"
    }
   ],
   "source": [
    "c"
   ]
  },
  {
   "cell_type": "code",
   "execution_count": 59,
   "id": "39a3222b-058b-4f7f-bcad-783e7a96a53a",
   "metadata": {},
   "outputs": [
    {
     "data": {
      "text/plain": [
       "array([11, 22,  3, 33,  5])"
      ]
     },
     "execution_count": 59,
     "metadata": {},
     "output_type": "execute_result"
    }
   ],
   "source": [
    "j"
   ]
  },
  {
   "cell_type": "code",
   "execution_count": 60,
   "id": "976e7d1f-f2e6-4717-8604-0564066ed70f",
   "metadata": {},
   "outputs": [],
   "source": [
    "# change in original changed the copy to "
   ]
  },
  {
   "cell_type": "code",
   "execution_count": 61,
   "id": "68a0f9c5-7c3e-4f09-be12-3eeabec5abb7",
   "metadata": {},
   "outputs": [],
   "source": [
    "# there is a base function that returns none if the array owns the data if not then it returns the array"
   ]
  },
  {
   "cell_type": "code",
   "execution_count": 62,
   "id": "cc50880e-24b3-4b0f-894d-81397a390408",
   "metadata": {},
   "outputs": [
    {
     "name": "stdout",
     "output_type": "stream",
     "text": [
      "None\n",
      "[11 22  3 33  5]\n"
     ]
    }
   ],
   "source": [
    "print(i.base)\n",
    "print(j.base)"
   ]
  },
  {
   "cell_type": "code",
   "execution_count": 63,
   "id": "49e9f62c-2135-476e-9d7f-dbbefc7d1473",
   "metadata": {},
   "outputs": [],
   "source": [
    "# j doesnot own the data therefore it returned the array instead of non "
   ]
  },
  {
   "cell_type": "code",
   "execution_count": 64,
   "id": "169cfdc8-9653-4476-a73b-5a35d8366cd9",
   "metadata": {},
   "outputs": [
    {
     "data": {
      "text/plain": [
       "(2, 5)"
      ]
     },
     "execution_count": 64,
     "metadata": {},
     "output_type": "execute_result"
    }
   ],
   "source": [
    "d.shape"
   ]
  },
  {
   "cell_type": "markdown",
   "id": "72ca401b-d6e8-4bfd-80c8-67b3fbdf7763",
   "metadata": {
    "tags": []
   },
   "source": [
    "<h3> Array Reshaping</h3>\n",
    "\n",
    "* Reshaping means changing the shape of an array.\n",
    "\n",
    "* shape of an array is the number of elements in each dimension.\n",
    "\n",
    "* reshaping we can add or remove dimensions or change number of elements in each dimension."
   ]
  },
  {
   "cell_type": "code",
   "execution_count": 78,
   "id": "8e1b0940-caeb-4fea-9464-48525e45f603",
   "metadata": {},
   "outputs": [
    {
     "data": {
      "text/plain": [
       "array([ 1,  2,  3,  4,  5,  6,  7,  8,  9, 10])"
      ]
     },
     "execution_count": 78,
     "metadata": {},
     "output_type": "execute_result"
    }
   ],
   "source": [
    "a"
   ]
  },
  {
   "cell_type": "code",
   "execution_count": 79,
   "id": "0b8119dc-16a5-425d-9344-074bc89ac3ab",
   "metadata": {},
   "outputs": [
    {
     "data": {
      "text/plain": [
       "10"
      ]
     },
     "execution_count": 79,
     "metadata": {},
     "output_type": "execute_result"
    }
   ],
   "source": [
    "len(a)"
   ]
  },
  {
   "cell_type": "code",
   "execution_count": 75,
   "id": "53397cf1-3de2-4f85-b6fb-6bde6d0f86fb",
   "metadata": {},
   "outputs": [],
   "source": [
    "new_a = a.reshape(3, 3) # since we "
   ]
  },
  {
   "cell_type": "code",
   "execution_count": null,
   "id": "4c97f15d-4628-4308-85b4-f7e50f2d8b4b",
   "metadata": {},
   "outputs": [],
   "source": []
  }
 ],
 "metadata": {
  "kernelspec": {
   "display_name": "Python 3 (ipykernel)",
   "language": "python",
   "name": "python3"
  },
  "language_info": {
   "codemirror_mode": {
    "name": "ipython",
    "version": 3
   },
   "file_extension": ".py",
   "mimetype": "text/x-python",
   "name": "python",
   "nbconvert_exporter": "python",
   "pygments_lexer": "ipython3",
   "version": "3.10.6"
  }
 },
 "nbformat": 4,
 "nbformat_minor": 5
}
