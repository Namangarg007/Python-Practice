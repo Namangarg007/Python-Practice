{
 "cells": [
  {
   "cell_type": "code",
   "execution_count": 1,
   "id": "6b80ec4b-5d8c-40b1-bc44-0d5202919118",
   "metadata": {},
   "outputs": [],
   "source": [
    "fruit = ['apple', 'orange', 'mango'] "
   ]
  },
  {
   "cell_type": "code",
   "execution_count": 7,
   "id": "53337e8b-6ad8-49f4-aae7-5a5de17bbe67",
   "metadata": {},
   "outputs": [],
   "source": [
    "a, b, c = fruit # Variable Unpacking all the value are of fruit are stored in the variable"
   ]
  },
  {
   "cell_type": "code",
   "execution_count": 4,
   "id": "bc9168ca-d97c-4cb5-a842-470d37b505a6",
   "metadata": {},
   "outputs": [
    {
     "data": {
      "text/plain": [
       "'apple'"
      ]
     },
     "execution_count": 4,
     "metadata": {},
     "output_type": "execute_result"
    }
   ],
   "source": [
    "a"
   ]
  },
  {
   "cell_type": "code",
   "execution_count": 5,
   "id": "2b31d097-729f-4f39-90ec-887f6bde55d8",
   "metadata": {},
   "outputs": [
    {
     "data": {
      "text/plain": [
       "'orange'"
      ]
     },
     "execution_count": 5,
     "metadata": {},
     "output_type": "execute_result"
    }
   ],
   "source": [
    "b"
   ]
  },
  {
   "cell_type": "code",
   "execution_count": 6,
   "id": "0cea1a78-42bc-4c66-b820-596a321b5160",
   "metadata": {},
   "outputs": [
    {
     "data": {
      "text/plain": [
       "'mango'"
      ]
     },
     "execution_count": 6,
     "metadata": {},
     "output_type": "execute_result"
    }
   ],
   "source": [
    "c"
   ]
  },
  {
   "cell_type": "code",
   "execution_count": null,
   "id": "7c4bf240-2d86-4f0c-84f6-2bd1295f0bc3",
   "metadata": {},
   "outputs": [],
   "source": []
  }
 ],
 "metadata": {
  "kernelspec": {
   "display_name": "Python 3 (ipykernel)",
   "language": "python",
   "name": "python3"
  },
  "language_info": {
   "codemirror_mode": {
    "name": "ipython",
    "version": 3
   },
   "file_extension": ".py",
   "mimetype": "text/x-python",
   "name": "python",
   "nbconvert_exporter": "python",
   "pygments_lexer": "ipython3",
   "version": "3.10.6"
  }
 },
 "nbformat": 4,
 "nbformat_minor": 5
}
