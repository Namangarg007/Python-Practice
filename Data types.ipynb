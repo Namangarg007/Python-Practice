{
 "cells": [
  {
   "cell_type": "code",
   "execution_count": 2,
   "id": "aa3dcad5-f8cc-443d-afa6-61d5353fb375",
   "metadata": {},
   "outputs": [
    {
     "data": {
      "text/plain": [
       "int"
      ]
     },
     "execution_count": 2,
     "metadata": {},
     "output_type": "execute_result"
    }
   ],
   "source": [
    "x = 1 #integer\n",
    "type(x)"
   ]
  },
  {
   "cell_type": "code",
   "execution_count": 3,
   "id": "786ff95a-27ca-4dba-bf86-2879106cb8c2",
   "metadata": {},
   "outputs": [
    {
     "data": {
      "text/plain": [
       "float"
      ]
     },
     "execution_count": 3,
     "metadata": {},
     "output_type": "execute_result"
    }
   ],
   "source": [
    "f = 3.5 #float\n",
    "type(f)"
   ]
  },
  {
   "cell_type": "code",
   "execution_count": 6,
   "id": "cc92b3d6-803a-4f15-a90b-e0f06ea15652",
   "metadata": {},
   "outputs": [
    {
     "data": {
      "text/plain": [
       "complex"
      ]
     },
     "execution_count": 6,
     "metadata": {},
     "output_type": "execute_result"
    }
   ],
   "source": [
    "c = 1j #complex number\n",
    "type(c)"
   ]
  },
  {
   "cell_type": "code",
   "execution_count": 37,
   "id": "92fd4f53-2544-4b1e-b8cd-c2516d1de8d6",
   "metadata": {},
   "outputs": [
    {
     "data": {
      "text/plain": [
       "str"
      ]
     },
     "execution_count": 37,
     "metadata": {},
     "output_type": "execute_result"
    }
   ],
   "source": [
    "a = 'Hi' #string\n",
    "type(a)"
   ]
  },
  {
   "cell_type": "code",
   "execution_count": 13,
   "id": "049bf8ad-e907-4416-bc21-6fe6bf949071",
   "metadata": {},
   "outputs": [
    {
     "data": {
      "text/plain": [
       "str"
      ]
     },
     "execution_count": 13,
     "metadata": {},
     "output_type": "execute_result"
    }
   ],
   "source": [
    "b = '''Hi how do you do \n",
    "i am fine how can i help\n",
    "can you tel me where this address is\n",
    "sure let me look''' #multi line string\n",
    "\n",
    "type(b)"
   ]
  },
  {
   "cell_type": "code",
   "execution_count": 14,
   "id": "445fedd0-0baa-4363-984c-02256c893533",
   "metadata": {},
   "outputs": [
    {
     "data": {
      "text/plain": [
       "'i'"
      ]
     },
     "execution_count": 14,
     "metadata": {},
     "output_type": "execute_result"
    }
   ],
   "source": [
    "b[1] #string slicing"
   ]
  },
  {
   "cell_type": "code",
   "execution_count": 16,
   "id": "740cbff4-d11c-47da-9e95-5aa0a1e1b819",
   "metadata": {},
   "outputs": [
    {
     "name": "stdout",
     "output_type": "stream",
     "text": [
      "H\n",
      "i\n",
      " \n",
      "h\n",
      "o\n",
      "w\n",
      " \n",
      "d\n",
      "o\n",
      " \n",
      "y\n",
      "o\n",
      "u\n",
      " \n",
      "d\n",
      "o\n",
      " \n",
      "\n",
      "\n",
      "i\n",
      " \n",
      "a\n",
      "m\n",
      " \n",
      "f\n",
      "i\n",
      "n\n",
      "e\n",
      " \n",
      "h\n",
      "o\n",
      "w\n",
      " \n",
      "c\n",
      "a\n",
      "n\n",
      " \n",
      "i\n",
      " \n",
      "h\n",
      "e\n",
      "l\n",
      "p\n",
      "\n",
      "\n",
      "c\n",
      "a\n",
      "n\n",
      " \n",
      "y\n",
      "o\n",
      "u\n",
      " \n",
      "t\n",
      "e\n",
      "l\n",
      " \n",
      "m\n",
      "e\n",
      " \n",
      "w\n",
      "h\n",
      "e\n",
      "r\n",
      "e\n",
      " \n",
      "t\n",
      "h\n",
      "i\n",
      "s\n",
      " \n",
      "a\n",
      "d\n",
      "d\n",
      "r\n",
      "e\n",
      "s\n",
      "s\n",
      " \n",
      "i\n",
      "s\n",
      "\n",
      "\n",
      "s\n",
      "u\n",
      "r\n",
      "e\n",
      " \n",
      "l\n",
      "e\n",
      "t\n",
      " \n",
      "m\n",
      "e\n",
      " \n",
      "l\n",
      "o\n",
      "o\n",
      "k\n"
     ]
    }
   ],
   "source": [
    "for d in b:\n",
    "    print(d) #for loop for string"
   ]
  },
  {
   "cell_type": "code",
   "execution_count": 18,
   "id": "142556ef-d3ff-47b0-b979-34d8a683ea71",
   "metadata": {},
   "outputs": [
    {
     "data": {
      "text/plain": [
       "96"
      ]
     },
     "execution_count": 18,
     "metadata": {},
     "output_type": "execute_result"
    }
   ],
   "source": [
    "len(b) # gets the character lenth of string spaces are counted as characters as well"
   ]
  },
  {
   "cell_type": "code",
   "execution_count": 20,
   "id": "07b93274-9257-4db6-8e0c-a84ca7721ca2",
   "metadata": {},
   "outputs": [
    {
     "data": {
      "text/plain": [
       "True"
      ]
     },
     "execution_count": 20,
     "metadata": {},
     "output_type": "execute_result"
    }
   ],
   "source": [
    "'Hi' in b # to check phrase in string"
   ]
  },
  {
   "cell_type": "code",
   "execution_count": 23,
   "id": "a05c3836-1615-45a6-9f1f-c57fdf46c5f8",
   "metadata": {},
   "outputs": [
    {
     "data": {
      "text/plain": [
       "'how do you do'"
      ]
     },
     "execution_count": 23,
     "metadata": {},
     "output_type": "execute_result"
    }
   ],
   "source": [
    "b[3:16] # string slicing get specfic letters or sentence from the string the first element is included but the last element is not included"
   ]
  },
  {
   "cell_type": "markdown",
   "id": "71ca3bd8-0114-4cef-b5d6-fd60c840c1db",
   "metadata": {},
   "source": [
    "<h3><u>slicing starts from 0 and negitive slicing starts from -1</u></h3>"
   ]
  },
  {
   "cell_type": "code",
   "execution_count": 24,
   "id": "7433c4de-e493-4557-b5e9-82341cca7735",
   "metadata": {},
   "outputs": [
    {
     "data": {
      "text/plain": [
       "'HI'"
      ]
     },
     "execution_count": 24,
     "metadata": {},
     "output_type": "execute_result"
    }
   ],
   "source": [
    "a.upper()"
   ]
  },
  {
   "cell_type": "code",
   "execution_count": 25,
   "id": "a55066fb-f8a7-4e3f-bff3-37e0d62ea802",
   "metadata": {},
   "outputs": [
    {
     "data": {
      "text/plain": [
       "'hi'"
      ]
     },
     "execution_count": 25,
     "metadata": {},
     "output_type": "execute_result"
    }
   ],
   "source": [
    "a.lower()"
   ]
  },
  {
   "cell_type": "code",
   "execution_count": 31,
   "id": "1d49fcc4-0d13-467f-83aa-8f0de713b91b",
   "metadata": {},
   "outputs": [
    {
     "data": {
      "text/plain": [
       "'Hi how do you do \\ni am fine how can i help\\ncan you tel me where this address is\\nsure let me look'"
      ]
     },
     "execution_count": 31,
     "metadata": {},
     "output_type": "execute_result"
    }
   ],
   "source": [
    "b.strip() #removes white spaces from beging or the end"
   ]
  },
  {
   "cell_type": "markdown",
   "id": "45f575b5-6092-4791-81aa-2eedf1ddc905",
   "metadata": {
    "tags": []
   },
   "source": [
    "<h3>strings are immutable using replace function we can change it's value but it doesn't affect the actual value</h3>\n",
    "\n",
    "* but value of the sting can be re-assigned"
   ]
  },
  {
   "cell_type": "code",
   "execution_count": 41,
   "id": "c015c469-d949-47ac-8a21-3dad9c81005c",
   "metadata": {},
   "outputs": [
    {
     "ename": "TypeError",
     "evalue": "'str' object does not support item assignment",
     "output_type": "error",
     "traceback": [
      "\u001b[0;31m---------------------------------------------------------------------------\u001b[0m",
      "\u001b[0;31mTypeError\u001b[0m                                 Traceback (most recent call last)",
      "Cell \u001b[0;32mIn [41], line 1\u001b[0m\n\u001b[0;32m----> 1\u001b[0m \u001b[43ma\u001b[49m\u001b[43m[\u001b[49m\u001b[38;5;241;43m0\u001b[39;49m\u001b[43m]\u001b[49m\u001b[38;5;241m=\u001b[39m \u001b[38;5;124m'\u001b[39m\u001b[38;5;124mb\u001b[39m\u001b[38;5;124m'\u001b[39m \u001b[38;5;66;03m#immutability confirmed\u001b[39;00m\n",
      "\u001b[0;31mTypeError\u001b[0m: 'str' object does not support item assignment"
     ]
    }
   ],
   "source": [
    "a[0]= 'b' #immutability confirmed"
   ]
  },
  {
   "cell_type": "code",
   "execution_count": 42,
   "id": "275f53d4-97d4-409e-919b-4259fbdc930a",
   "metadata": {},
   "outputs": [
    {
     "data": {
      "text/plain": [
       "'Hi'"
      ]
     },
     "execution_count": 42,
     "metadata": {},
     "output_type": "execute_result"
    }
   ],
   "source": [
    "a"
   ]
  },
  {
   "cell_type": "code",
   "execution_count": 43,
   "id": "25a91e96-5710-44eb-8488-d8f6d0785650",
   "metadata": {},
   "outputs": [
    {
     "data": {
      "text/plain": [
       "'bi'"
      ]
     },
     "execution_count": 43,
     "metadata": {},
     "output_type": "execute_result"
    }
   ],
   "source": [
    "a.replace(\"H\", \"b\")"
   ]
  },
  {
   "cell_type": "code",
   "execution_count": 44,
   "id": "07e97b58-1d9e-4bde-b8f6-ead48ac79625",
   "metadata": {},
   "outputs": [
    {
     "data": {
      "text/plain": [
       "'Hi'"
      ]
     },
     "execution_count": 44,
     "metadata": {},
     "output_type": "execute_result"
    }
   ],
   "source": [
    "a"
   ]
  },
  {
   "cell_type": "code",
   "execution_count": 47,
   "id": "8c1c71ba-100d-4513-8ffc-3c13ee3e60cc",
   "metadata": {},
   "outputs": [
    {
     "name": "stdout",
     "output_type": "stream",
     "text": [
      "['Hi', 'how', 'do', 'you', 'do', '\\ni', 'am', 'fine', 'how', 'can', 'i', 'help\\ncan', 'you', 'tel', 'me', 'where', 'this', 'address', 'is\\nsure', 'let', 'me', 'look']\n"
     ]
    }
   ],
   "source": [
    "print(b.split(\" \")) # it split the string from the given character and return a list of all the characters"
   ]
  },
  {
   "cell_type": "markdown",
   "id": "91d7c9da-2729-472a-9ddd-2b73e31daf9e",
   "metadata": {
    "tags": []
   },
   "source": [
    "<h3> We cn concatinate any two strings using + operator</h3>\n",
    "    \n",
    " * only variable of same datatype can be added or concatinated"
   ]
  },
  {
   "cell_type": "code",
   "execution_count": 48,
   "id": "c4c172de-fed6-4876-9049-1cbf09df84b2",
   "metadata": {},
   "outputs": [
    {
     "data": {
      "text/plain": [
       "'Hi'"
      ]
     },
     "execution_count": 48,
     "metadata": {},
     "output_type": "execute_result"
    }
   ],
   "source": [
    "a"
   ]
  },
  {
   "cell_type": "code",
   "execution_count": 49,
   "id": "b44bcb31-a15a-43d4-97b5-55e2fe355260",
   "metadata": {},
   "outputs": [],
   "source": [
    "d = 'hell'"
   ]
  },
  {
   "cell_type": "code",
   "execution_count": 53,
   "id": "02dbff23-f1fd-490a-a08c-b22a784613ab",
   "metadata": {},
   "outputs": [],
   "source": [
    "e = a + \" \" + d"
   ]
  },
  {
   "cell_type": "code",
   "execution_count": 54,
   "id": "2c5c35c3-f7f4-4796-8916-4d9688293f89",
   "metadata": {},
   "outputs": [
    {
     "data": {
      "text/plain": [
       "'Hi hell'"
      ]
     },
     "execution_count": 54,
     "metadata": {},
     "output_type": "execute_result"
    }
   ],
   "source": [
    "e"
   ]
  },
  {
   "cell_type": "code",
   "execution_count": 55,
   "id": "6a2835a0-2fed-427b-b1ee-7a3c4bed9f6b",
   "metadata": {},
   "outputs": [
    {
     "data": {
      "text/plain": [
       "1"
      ]
     },
     "execution_count": 55,
     "metadata": {},
     "output_type": "execute_result"
    }
   ],
   "source": [
    "x"
   ]
  },
  {
   "cell_type": "code",
   "execution_count": 56,
   "id": "17263e58-f010-4683-a7c3-e496cd94c518",
   "metadata": {},
   "outputs": [
    {
     "ename": "TypeError",
     "evalue": "can only concatenate str (not \"int\") to str",
     "output_type": "error",
     "traceback": [
      "\u001b[0;31m---------------------------------------------------------------------------\u001b[0m",
      "\u001b[0;31mTypeError\u001b[0m                                 Traceback (most recent call last)",
      "Cell \u001b[0;32mIn [56], line 1\u001b[0m\n\u001b[0;32m----> 1\u001b[0m e \u001b[38;5;241m=\u001b[39m \u001b[43ma\u001b[49m\u001b[43m \u001b[49m\u001b[38;5;241;43m+\u001b[39;49m\u001b[43m \u001b[49m\u001b[43mx\u001b[49m\n",
      "\u001b[0;31mTypeError\u001b[0m: can only concatenate str (not \"int\") to str"
     ]
    }
   ],
   "source": [
    "e = a + x"
   ]
  },
  {
   "cell_type": "markdown",
   "id": "acd9b93c-e17d-421a-8be9-61b37c43e4fd",
   "metadata": {},
   "source": [
    "<h3>Formated string</h3>"
   ]
  },
  {
   "cell_type": "code",
   "execution_count": 59,
   "id": "08c8a146-22d6-45cd-9cc0-4fb662ff5be3",
   "metadata": {},
   "outputs": [
    {
     "data": {
      "text/plain": [
       "3.5"
      ]
     },
     "execution_count": 59,
     "metadata": {},
     "output_type": "execute_result"
    }
   ],
   "source": [
    "f"
   ]
  },
  {
   "cell_type": "code",
   "execution_count": 69,
   "id": "1ee4fa7b-859b-4f73-b2b9-900a0965afbd",
   "metadata": {},
   "outputs": [],
   "source": [
    "k= f'{a} {f}' \n",
    "\n",
    "#to concatinate a string and integer using formt string by adding \n",
    "# f key word in front of the string and putting the values in curly brackets this doesn't\n",
    "# affect the original string"
   ]
  },
  {
   "cell_type": "code",
   "execution_count": 62,
   "id": "74c02ab8-d1c3-4f8c-9299-ada087447743",
   "metadata": {},
   "outputs": [],
   "source": [
    "a = \"Hi {}\""
   ]
  },
  {
   "cell_type": "code",
   "execution_count": 71,
   "id": "d6ee76d4-d31e-400e-ab81-928858215d58",
   "metadata": {},
   "outputs": [
    {
     "data": {
      "text/plain": [
       "'Hi 3.5'"
      ]
     },
     "execution_count": 71,
     "metadata": {},
     "output_type": "execute_result"
    }
   ],
   "source": [
    "a.format(f) #in this method curly brackets are added to the sting it-self and value is added using format function"
   ]
  },
  {
   "cell_type": "code",
   "execution_count": 72,
   "id": "d36773fc-ddbb-479f-ae58-b3e84c9e45e5",
   "metadata": {},
   "outputs": [
    {
     "ename": "SyntaxError",
     "evalue": "invalid syntax (3095121775.py, line 1)",
     "output_type": "error",
     "traceback": [
      "\u001b[0;36m  Cell \u001b[0;32mIn [72], line 1\u001b[0;36m\u001b[0m\n\u001b[0;31m    txt = \"do you know he is a \"vicking\" isnt it cool\" # this is not allowed to fix it \\ must be added\u001b[0m\n\u001b[0m                                ^\u001b[0m\n\u001b[0;31mSyntaxError\u001b[0m\u001b[0;31m:\u001b[0m invalid syntax\n"
     ]
    }
   ],
   "source": [
    "txt = \"do you know he is a \"vicking\" isnt it cool\" # this is not allowed to fix it \\ must be added"
   ]
  },
  {
   "cell_type": "code",
   "execution_count": 73,
   "id": "1965b02e-dda7-4982-b138-f1330a5c6ec9",
   "metadata": {},
   "outputs": [],
   "source": [
    "txt = \"do you know he is a \\\"vicking\\\" isnt it cool\""
   ]
  },
  {
   "cell_type": "code",
   "execution_count": 74,
   "id": "aca7656b-7445-4898-a80e-824f50274cb3",
   "metadata": {},
   "outputs": [
    {
     "data": {
      "text/plain": [
       "'do you know he is a \"vicking\" isnt it cool'"
      ]
     },
     "execution_count": 74,
     "metadata": {},
     "output_type": "execute_result"
    }
   ],
   "source": [
    "txt"
   ]
  },
  {
   "cell_type": "code",
   "execution_count": 75,
   "id": "7fc9490a-27c9-48cd-b100-689beda4deb5",
   "metadata": {},
   "outputs": [],
   "source": [
    "# \\ is known as escape character"
   ]
  },
  {
   "cell_type": "code",
   "execution_count": null,
   "id": "760fce86-7f45-4b41-9187-bb49121ad781",
   "metadata": {},
   "outputs": [],
   "source": [
    "txt."
   ]
  }
 ],
 "metadata": {
  "kernelspec": {
   "display_name": "Python 3 (ipykernel)",
   "language": "python",
   "name": "python3"
  },
  "language_info": {
   "codemirror_mode": {
    "name": "ipython",
    "version": 3
   },
   "file_extension": ".py",
   "mimetype": "text/x-python",
   "name": "python",
   "nbconvert_exporter": "python",
   "pygments_lexer": "ipython3",
   "version": "3.10.6"
  }
 },
 "nbformat": 4,
 "nbformat_minor": 5
}
