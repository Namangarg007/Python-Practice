{
 "cells": [
  {
   "cell_type": "markdown",
   "id": "4b5136ab-bf7c-49b2-bfc4-532bf985f77f",
   "metadata": {
    "jp-MarkdownHeadingCollapsed": true,
    "tags": []
   },
   "source": [
    "<h2>List</h2>"
   ]
  },
  {
   "cell_type": "code",
   "execution_count": 29,
   "id": "fc9cb2a2-f654-4eab-8e7a-2991680e925e",
   "metadata": {},
   "outputs": [],
   "source": [
    "first_list = [ 1, 2, 5, 4, 3, 6, 6, 6] #list allows duplicates and list are mutable"
   ]
  },
  {
   "cell_type": "code",
   "execution_count": 30,
   "id": "5dd3640a-68af-4413-ba09-6683496a4ab1",
   "metadata": {},
   "outputs": [
    {
     "data": {
      "text/plain": [
       "list"
      ]
     },
     "execution_count": 30,
     "metadata": {},
     "output_type": "execute_result"
    }
   ],
   "source": [
    "type(first_list)"
   ]
  },
  {
   "cell_type": "code",
   "execution_count": 31,
   "id": "b12460d5-862a-4735-8164-c9a6c079b2d7",
   "metadata": {},
   "outputs": [
    {
     "name": "stdout",
     "output_type": "stream",
     "text": [
      "[1, 2, 5, 4, 3, 6, 6, 6]\n"
     ]
    }
   ],
   "source": [
    "print(first_list)"
   ]
  },
  {
   "cell_type": "code",
   "execution_count": 32,
   "id": "65323cc5-86c7-4b0f-bb72-204458fdac4e",
   "metadata": {},
   "outputs": [
    {
     "data": {
      "text/plain": [
       "8"
      ]
     },
     "execution_count": 32,
     "metadata": {},
     "output_type": "execute_result"
    }
   ],
   "source": [
    "len(first_list) # displays number of values in the list"
   ]
  },
  {
   "cell_type": "code",
   "execution_count": 33,
   "id": "3893a9d9-d82b-44c7-9167-96763c8e890d",
   "metadata": {},
   "outputs": [
    {
     "data": {
      "text/plain": [
       "1"
      ]
     },
     "execution_count": 33,
     "metadata": {},
     "output_type": "execute_result"
    }
   ],
   "source": [
    "first_list[0] #getting first element using index"
   ]
  },
  {
   "cell_type": "code",
   "execution_count": 34,
   "id": "c88d961b-c204-498e-bf3c-9f5421ac77f3",
   "metadata": {},
   "outputs": [
    {
     "data": {
      "text/plain": [
       "6"
      ]
     },
     "execution_count": 34,
     "metadata": {},
     "output_type": "execute_result"
    }
   ],
   "source": [
    "first_list[-2] #will return the second last element of the list as -ve index will start from back of the list and starts from -1"
   ]
  },
  {
   "cell_type": "code",
   "execution_count": 35,
   "id": "a36df2d4-ed02-4ee5-81c0-9fa27151e5c2",
   "metadata": {},
   "outputs": [],
   "source": [
    "first_list.insert(5, \"Hi\") #insert adds the specified value at the given index \n",
    "# here Hi is added at 5th index"
   ]
  },
  {
   "cell_type": "code",
   "execution_count": 36,
   "id": "b5428ca3-137f-4a72-a859-283a72375bbc",
   "metadata": {},
   "outputs": [
    {
     "data": {
      "text/plain": [
       "[1, 2, 5, 4, 3, 'Hi', 6, 6, 6]"
      ]
     },
     "execution_count": 36,
     "metadata": {},
     "output_type": "execute_result"
    }
   ],
   "source": [
    "first_list"
   ]
  },
  {
   "cell_type": "code",
   "execution_count": 37,
   "id": "255cc208-1e74-4953-8333-685572ae2209",
   "metadata": {},
   "outputs": [],
   "source": [
    "first_list.append(\"lol\") # it adds the value at the last of the list"
   ]
  },
  {
   "cell_type": "code",
   "execution_count": 38,
   "id": "2df53656-746a-465a-81ea-bd3f92fc3c3a",
   "metadata": {},
   "outputs": [
    {
     "data": {
      "text/plain": [
       "[1, 2, 5, 4, 3, 'Hi', 6, 6, 6, 'lol']"
      ]
     },
     "execution_count": 38,
     "metadata": {},
     "output_type": "execute_result"
    }
   ],
   "source": [
    "first_list"
   ]
  },
  {
   "cell_type": "code",
   "execution_count": 39,
   "id": "1eb66219-de93-494a-8e79-a39f61184bad",
   "metadata": {},
   "outputs": [],
   "source": [
    "v = ['Hi', 'Hello', 'by']"
   ]
  },
  {
   "cell_type": "code",
   "execution_count": 40,
   "id": "411c7d17-3646-454c-9839-d4b375b0a7c1",
   "metadata": {},
   "outputs": [],
   "source": [
    "first_list.extend(v) # adds all elements of list v in first_list at last"
   ]
  },
  {
   "cell_type": "code",
   "execution_count": 41,
   "id": "7cbfefad-65f2-4419-8d15-005733c7156b",
   "metadata": {},
   "outputs": [
    {
     "data": {
      "text/plain": [
       "[1, 2, 5, 4, 3, 'Hi', 6, 6, 6, 'lol', 'Hi', 'Hello', 'by']"
      ]
     },
     "execution_count": 41,
     "metadata": {},
     "output_type": "execute_result"
    }
   ],
   "source": [
    "first_list"
   ]
  },
  {
   "cell_type": "code",
   "execution_count": 42,
   "id": "81e735b6-7adb-40fb-97e4-994bc6f46b56",
   "metadata": {},
   "outputs": [],
   "source": [
    "first_list.remove(6) #removes the specified value at its first occurance"
   ]
  },
  {
   "cell_type": "code",
   "execution_count": 43,
   "id": "5c5fa2c0-3323-4996-885b-68b636391e80",
   "metadata": {},
   "outputs": [
    {
     "data": {
      "text/plain": [
       "[1, 2, 5, 4, 3, 'Hi', 6, 6, 'lol', 'Hi', 'Hello', 'by']"
      ]
     },
     "execution_count": 43,
     "metadata": {},
     "output_type": "execute_result"
    }
   ],
   "source": [
    "first_list"
   ]
  },
  {
   "cell_type": "code",
   "execution_count": 44,
   "id": "5294236d-6318-4041-9b2f-89f1bfec8c5c",
   "metadata": {},
   "outputs": [
    {
     "data": {
      "text/plain": [
       "5"
      ]
     },
     "execution_count": 44,
     "metadata": {},
     "output_type": "execute_result"
    }
   ],
   "source": [
    "first_list.pop(2) #removes the element at specific index and returns the element as argument"
   ]
  },
  {
   "cell_type": "code",
   "execution_count": 46,
   "id": "fa571c82-5ad4-4b98-9f61-ba50f91ab533",
   "metadata": {},
   "outputs": [
    {
     "data": {
      "text/plain": [
       "[1, 2, 4, 3, 'Hi', 6, 6, 'lol', 'Hi', 'Hello', 'by']"
      ]
     },
     "execution_count": 46,
     "metadata": {},
     "output_type": "execute_result"
    }
   ],
   "source": [
    "first_list #5 was at 2nd index that is why 5 is removed"
   ]
  },
  {
   "cell_type": "code",
   "execution_count": 47,
   "id": "ad7168b6-1f1a-4270-ac59-d2a28b9f9c77",
   "metadata": {},
   "outputs": [],
   "source": [
    "del first_list[5] #del key word delets/removes items at the given index"
   ]
  },
  {
   "cell_type": "code",
   "execution_count": 49,
   "id": "39e98ca7-2ede-4adc-868c-7e8db619bf9b",
   "metadata": {},
   "outputs": [
    {
     "data": {
      "text/plain": [
       "[1, 2, 4, 3, 'Hi', 6, 'lol', 'Hi', 'Hello', 'by']"
      ]
     },
     "execution_count": 49,
     "metadata": {},
     "output_type": "execute_result"
    }
   ],
   "source": [
    "first_list # 6 at 5th index has been deleted"
   ]
  },
  {
   "cell_type": "code",
   "execution_count": 50,
   "id": "a74f9411-a9a7-4e49-a29a-f0f28b3ad298",
   "metadata": {},
   "outputs": [],
   "source": [
    "v.clear() #emptys the list"
   ]
  },
  {
   "cell_type": "code",
   "execution_count": 51,
   "id": "c500c82c-7e00-4bbe-9c88-35e5853559eb",
   "metadata": {},
   "outputs": [
    {
     "data": {
      "text/plain": [
       "[]"
      ]
     },
     "execution_count": 51,
     "metadata": {},
     "output_type": "execute_result"
    }
   ],
   "source": [
    "v"
   ]
  },
  {
   "cell_type": "markdown",
   "id": "53c25be2-7415-42cc-8f5b-27243654e0d2",
   "metadata": {},
   "source": [
    "list comprihansion"
   ]
  },
  {
   "cell_type": "code",
   "execution_count": 52,
   "id": "b8ab6d64-5961-4559-874c-9906d12105f8",
   "metadata": {},
   "outputs": [
    {
     "data": {
      "text/plain": [
       "[1, 2, 4, 3, 'Hi', 6, 'lol', 'Hi', 'Hello', 'by']"
      ]
     },
     "execution_count": 52,
     "metadata": {},
     "output_type": "execute_result"
    }
   ],
   "source": [
    "first_list"
   ]
  },
  {
   "cell_type": "code",
   "execution_count": 74,
   "id": "ec512d57-3ee7-40f7-ac6d-dde91b2870ab",
   "metadata": {},
   "outputs": [],
   "source": [
    "c = []"
   ]
  },
  {
   "cell_type": "code",
   "execution_count": 72,
   "id": "95d47ce1-8cac-4d12-8c59-8fd24e1a3d9e",
   "metadata": {},
   "outputs": [],
   "source": [
    "c = [x for x in first_list]"
   ]
  },
  {
   "cell_type": "code",
   "execution_count": 73,
   "id": "cc7ff84c-7d70-44d1-ba15-e8434fce3baf",
   "metadata": {},
   "outputs": [
    {
     "data": {
      "text/plain": [
       "[1, 2, 4, 3, 'Hi', 6, 'lol', 'Hi', 'Hello', 'by']"
      ]
     },
     "execution_count": 73,
     "metadata": {},
     "output_type": "execute_result"
    }
   ],
   "source": [
    "c"
   ]
  },
  {
   "cell_type": "code",
   "execution_count": 77,
   "id": "215255a8-6583-46cc-8f16-ebb26503f082",
   "metadata": {},
   "outputs": [],
   "source": [
    "c = [ x if x != 6 else 5 for x in first_list] #to write if else condijtion the condition has to be written \n",
    "#first but for loop will be executed first then the condition will be checked if we write for loop after the \n",
    "#condition it will give us error"
   ]
  },
  {
   "cell_type": "code",
   "execution_count": 78,
   "id": "7eeef9f1-49a0-4a65-afa7-e45dea194af3",
   "metadata": {},
   "outputs": [
    {
     "data": {
      "text/plain": [
       "[1, 2, 4, 3, 'Hi', 5, 'lol', 'Hi', 'Hello', 'by']"
      ]
     },
     "execution_count": 78,
     "metadata": {},
     "output_type": "execute_result"
    }
   ],
   "source": [
    "c"
   ]
  },
  {
   "cell_type": "code",
   "execution_count": 122,
   "id": "f2909668-7488-41da-b739-2895e7d45a94",
   "metadata": {},
   "outputs": [],
   "source": [
    "a = [10, 20, 4, 3, 10, 5, 1]"
   ]
  },
  {
   "cell_type": "code",
   "execution_count": 113,
   "id": "4e185b53-2312-4558-8949-50b225b158ca",
   "metadata": {},
   "outputs": [],
   "source": [
    "a.sort() # this will sort the list in asscending order"
   ]
  },
  {
   "cell_type": "code",
   "execution_count": 114,
   "id": "bfde4f10-cea0-44a6-ac07-0234b5cacbca",
   "metadata": {},
   "outputs": [
    {
     "data": {
      "text/plain": [
       "[1, 3, 4, 5, 10, 10, 20]"
      ]
     },
     "execution_count": 114,
     "metadata": {},
     "output_type": "execute_result"
    }
   ],
   "source": [
    "a"
   ]
  },
  {
   "cell_type": "code",
   "execution_count": 115,
   "id": "52c3e797-9879-412d-9246-5e165943ab62",
   "metadata": {},
   "outputs": [],
   "source": [
    "a.sort(reverse=True) # to sort list in decending order the inner parameter reverse of method sort should be true"
   ]
  },
  {
   "cell_type": "code",
   "execution_count": 116,
   "id": "8b4f24ad-bb50-48e3-a825-1b6be2a7f603",
   "metadata": {},
   "outputs": [
    {
     "data": {
      "text/plain": [
       "[20, 10, 10, 5, 4, 3, 1]"
      ]
     },
     "execution_count": 116,
     "metadata": {},
     "output_type": "execute_result"
    }
   ],
   "source": [
    "a"
   ]
  },
  {
   "cell_type": "code",
   "execution_count": 123,
   "id": "153a576a-2306-42ef-b138-640ebaebbc28",
   "metadata": {},
   "outputs": [],
   "source": [
    "def myfun(n):\n",
    "    return abs(n - 5) # abs give absolute/+ve value in this function n is the numbers in a\n",
    "a.sort(key=myfun) # it will sort the list based on how close the values are to 5"
   ]
  },
  {
   "cell_type": "code",
   "execution_count": 124,
   "id": "ca9ae7ef-296e-4cc8-b284-67d458821715",
   "metadata": {},
   "outputs": [
    {
     "data": {
      "text/plain": [
       "[5, 4, 3, 1, 10, 10, 20]"
      ]
     },
     "execution_count": 124,
     "metadata": {},
     "output_type": "execute_result"
    }
   ],
   "source": [
    "a"
   ]
  },
  {
   "cell_type": "code",
   "execution_count": 119,
   "id": "979163e9-94f5-466c-88e4-4810e43b301d",
   "metadata": {},
   "outputs": [],
   "source": [
    "# sort can only be used on lists with elements of same datatype"
   ]
  },
  {
   "cell_type": "code",
   "execution_count": 96,
   "id": "0584fbbd-381e-479a-84be-2b91d2c7ff2d",
   "metadata": {},
   "outputs": [],
   "source": [
    "a.append(first_list) # append appents the whole list at the end of the list "
   ]
  },
  {
   "cell_type": "code",
   "execution_count": 97,
   "id": "9afeb228-1c6b-47da-9430-44aa4d9c5836",
   "metadata": {},
   "outputs": [
    {
     "data": {
      "text/plain": [
       "[5, 4, 3, 1, 10, 10, 20, [1, 2, 4, 3, 'Hi', 6, 'lol', 'Hi', 'Hello', 'by']]"
      ]
     },
     "execution_count": 97,
     "metadata": {},
     "output_type": "execute_result"
    }
   ],
   "source": [
    "a"
   ]
  },
  {
   "cell_type": "code",
   "execution_count": 120,
   "id": "ffb0b640-b388-4f0d-8b32-6b8209b3c132",
   "metadata": {},
   "outputs": [],
   "source": [
    "a.extend(first_list) # extend adds the elements of the list at the end of the list"
   ]
  },
  {
   "cell_type": "code",
   "execution_count": 121,
   "id": "4c9b3c4a-78af-40be-ac83-3bccaf59da8e",
   "metadata": {},
   "outputs": [
    {
     "data": {
      "text/plain": [
       "[5, 4, 3, 1, 10, 10, 20, 1, 2, 4, 3, 'Hi', 6, 'lol', 'Hi', 'Hello', 'by']"
      ]
     },
     "execution_count": 121,
     "metadata": {},
     "output_type": "execute_result"
    }
   ],
   "source": [
    "a"
   ]
  },
  {
   "cell_type": "code",
   "execution_count": 125,
   "id": "95c99a62-1a46-4b16-a7f3-13abfc39a03e",
   "metadata": {},
   "outputs": [],
   "source": [
    "b = a + first_list # + concatinates both lists"
   ]
  },
  {
   "cell_type": "code",
   "execution_count": 126,
   "id": "b8948956-8f81-428c-8dde-12e6539aaf26",
   "metadata": {},
   "outputs": [
    {
     "data": {
      "text/plain": [
       "[5, 4, 3, 1, 10, 10, 20, 1, 2, 4, 3, 'Hi', 6, 'lol', 'Hi', 'Hello', 'by']"
      ]
     },
     "execution_count": 126,
     "metadata": {},
     "output_type": "execute_result"
    }
   ],
   "source": [
    "b"
   ]
  },
  {
   "cell_type": "markdown",
   "id": "e5d47878-eeca-48f6-b1fd-a23cebd0ef6e",
   "metadata": {},
   "source": [
    "<h2>Tuple</h2>\n",
    " \n",
    "* Tuples are similar to list but instead of square brackets it uses round brackets\n",
    "* Lists are mutable but tuples are immutable\n",
    "* rest of the properties of list and tuple are the same \n",
    " "
   ]
  },
  {
   "cell_type": "code",
   "execution_count": 148,
   "id": "0281dab0-2ef7-40da-81c2-f9fd56f144f5",
   "metadata": {},
   "outputs": [],
   "source": [
    "tpl = (5, 4, 3, 10, 2, 1, 9, 100)"
   ]
  },
  {
   "cell_type": "code",
   "execution_count": 149,
   "id": "78c14e9a-9e59-4eb9-b7d0-57e1487c174e",
   "metadata": {},
   "outputs": [
    {
     "data": {
      "text/plain": [
       "tuple"
      ]
     },
     "execution_count": 149,
     "metadata": {},
     "output_type": "execute_result"
    }
   ],
   "source": [
    "type(tpl)"
   ]
  },
  {
   "cell_type": "code",
   "execution_count": 150,
   "id": "726ea78a-7e55-49ef-a295-6301cc360f84",
   "metadata": {},
   "outputs": [
    {
     "data": {
      "text/plain": [
       "8"
      ]
     },
     "execution_count": 150,
     "metadata": {},
     "output_type": "execute_result"
    }
   ],
   "source": [
    "len(tpl)"
   ]
  },
  {
   "cell_type": "code",
   "execution_count": 151,
   "id": "d5133a94-6eeb-43b5-94de-409564ee6b02",
   "metadata": {},
   "outputs": [],
   "source": [
    "tp = (\"apple\") # this is not recoginised as tuple with 1 element"
   ]
  },
  {
   "cell_type": "code",
   "execution_count": 152,
   "id": "769eb2d0-2105-4d09-a300-eb4bc612fe3c",
   "metadata": {},
   "outputs": [
    {
     "data": {
      "text/plain": [
       "str"
      ]
     },
     "execution_count": 152,
     "metadata": {},
     "output_type": "execute_result"
    }
   ],
   "source": [
    "type(tp)"
   ]
  },
  {
   "cell_type": "code",
   "execution_count": 174,
   "id": "4ce0b7df-15f4-4acc-b624-50f6cf50ba8f",
   "metadata": {},
   "outputs": [],
   "source": [
    "tp1 = ('apple',) #after adding coma at the end it is considered tuple"
   ]
  },
  {
   "cell_type": "code",
   "execution_count": 154,
   "id": "10141b90-a51c-4ce8-9ae7-31f6a3c38414",
   "metadata": {},
   "outputs": [
    {
     "data": {
      "text/plain": [
       "tuple"
      ]
     },
     "execution_count": 154,
     "metadata": {},
     "output_type": "execute_result"
    }
   ],
   "source": [
    "type(tp1)"
   ]
  },
  {
   "cell_type": "code",
   "execution_count": 155,
   "id": "b6c6d7f9-4899-4332-a565-b82b6cc8ba0b",
   "metadata": {},
   "outputs": [
    {
     "data": {
      "text/plain": [
       "4"
      ]
     },
     "execution_count": 155,
     "metadata": {},
     "output_type": "execute_result"
    }
   ],
   "source": [
    "tpl[1]"
   ]
  },
  {
   "cell_type": "code",
   "execution_count": 156,
   "id": "ea6f0466-51f7-43bd-aa74-524ec63966a5",
   "metadata": {},
   "outputs": [
    {
     "data": {
      "text/plain": [
       "100"
      ]
     },
     "execution_count": 156,
     "metadata": {},
     "output_type": "execute_result"
    }
   ],
   "source": [
    "tpl[-1]"
   ]
  },
  {
   "cell_type": "code",
   "execution_count": 157,
   "id": "849a6bb1-c362-4ee5-bb90-868cf0bfcafe",
   "metadata": {},
   "outputs": [
    {
     "data": {
      "text/plain": [
       "(1, 9)"
      ]
     },
     "execution_count": 157,
     "metadata": {},
     "output_type": "execute_result"
    }
   ],
   "source": [
    "tpl[5:7]"
   ]
  },
  {
   "cell_type": "code",
   "execution_count": 158,
   "id": "31cf37bd-1d5e-4c35-9e22-b4cf7139868d",
   "metadata": {},
   "outputs": [],
   "source": [
    "#you can change the value of tuple by converting it to list and then changing the value and\n",
    "#we can add values of one tuple to other"
   ]
  },
  {
   "cell_type": "code",
   "execution_count": 159,
   "id": "60dc00fa-9abf-4404-9f54-0b1d535c3f93",
   "metadata": {},
   "outputs": [],
   "source": [
    "y = list(tpl)\n",
    "y.remove(100)\n",
    "tpl = tuple(y)"
   ]
  },
  {
   "cell_type": "code",
   "execution_count": 160,
   "id": "47587132-69d5-41df-809d-759185b63be3",
   "metadata": {},
   "outputs": [
    {
     "data": {
      "text/plain": [
       "(5, 4, 3, 10, 2, 1, 9)"
      ]
     },
     "execution_count": 160,
     "metadata": {},
     "output_type": "execute_result"
    }
   ],
   "source": [
    "tpl"
   ]
  },
  {
   "cell_type": "code",
   "execution_count": 161,
   "id": "f94ef164-746a-431c-a247-77be6637fc3f",
   "metadata": {},
   "outputs": [],
   "source": [
    "tpl += tp1 #adding one tuple to another"
   ]
  },
  {
   "cell_type": "code",
   "execution_count": 162,
   "id": "83cf205f-8d67-403b-9729-047e8db35bcb",
   "metadata": {},
   "outputs": [
    {
     "data": {
      "text/plain": [
       "(5, 4, 3, 10, 2, 1, 9, 'apple')"
      ]
     },
     "execution_count": 162,
     "metadata": {},
     "output_type": "execute_result"
    }
   ],
   "source": [
    "tpl"
   ]
  },
  {
   "cell_type": "code",
   "execution_count": 163,
   "id": "293cbbec-7071-461d-922f-14aba57b9f84",
   "metadata": {},
   "outputs": [],
   "source": [
    "#del key word can delete tuple completely"
   ]
  },
  {
   "cell_type": "code",
   "execution_count": 164,
   "id": "4362c712-f3b0-41a3-a702-b5f3d504db58",
   "metadata": {},
   "outputs": [],
   "source": [
    "del tp1"
   ]
  },
  {
   "cell_type": "code",
   "execution_count": 165,
   "id": "4c650a97-a75c-4208-a527-e7e39ccf197f",
   "metadata": {},
   "outputs": [
    {
     "ename": "NameError",
     "evalue": "name 'tp1' is not defined",
     "output_type": "error",
     "traceback": [
      "\u001b[0;31m---------------------------------------------------------------------------\u001b[0m",
      "\u001b[0;31mNameError\u001b[0m                                 Traceback (most recent call last)",
      "Cell \u001b[0;32mIn [165], line 1\u001b[0m\n\u001b[0;32m----> 1\u001b[0m \u001b[43mtp1\u001b[49m\n",
      "\u001b[0;31mNameError\u001b[0m: name 'tp1' is not defined"
     ]
    }
   ],
   "source": [
    "tp1 #because tuple is completely deleted"
   ]
  },
  {
   "cell_type": "code",
   "execution_count": 166,
   "id": "967140bd-8d25-4c9d-bad1-4c3d266485a1",
   "metadata": {},
   "outputs": [],
   "source": [
    "#tuple unpacking"
   ]
  },
  {
   "cell_type": "code",
   "execution_count": 168,
   "id": "d503a9cd-b3dc-4f8e-8ed9-c4acb1aab095",
   "metadata": {},
   "outputs": [
    {
     "ename": "ValueError",
     "evalue": "too many values to unpack (expected 3)",
     "output_type": "error",
     "traceback": [
      "\u001b[0;31m---------------------------------------------------------------------------\u001b[0m",
      "\u001b[0;31mValueError\u001b[0m                                Traceback (most recent call last)",
      "Cell \u001b[0;32mIn [168], line 1\u001b[0m\n\u001b[0;32m----> 1\u001b[0m (n, m, h) \u001b[38;5;241m=\u001b[39m tpl \u001b[38;5;66;03m#the number to be stored are greater then the variable\u001b[39;00m\n\u001b[1;32m      2\u001b[0m \u001b[38;5;66;03m#there fore we can add * in front of one of the variable and the rest of the variables\u001b[39;00m\n\u001b[1;32m      3\u001b[0m \u001b[38;5;66;03m#will be stored in that variabel as a list\u001b[39;00m\n",
      "\u001b[0;31mValueError\u001b[0m: too many values to unpack (expected 3)"
     ]
    }
   ],
   "source": [
    "(n, m, h) = tpl #the number to be stored are greater then the variable\n",
    "#there fore we can add * in front of one of the variable and the rest of the variables\n",
    "#will be stored in that variabel as a list"
   ]
  },
  {
   "cell_type": "code",
   "execution_count": 169,
   "id": "4affcc9d-10ac-4a0f-a380-92b6cd02dee7",
   "metadata": {},
   "outputs": [],
   "source": [
    "(n, *m, h) = tpl #excess values will be stored in m as a list"
   ]
  },
  {
   "cell_type": "code",
   "execution_count": 170,
   "id": "902a6994-346b-453c-a1bb-8f6c1a815b50",
   "metadata": {},
   "outputs": [
    {
     "data": {
      "text/plain": [
       "5"
      ]
     },
     "execution_count": 170,
     "metadata": {},
     "output_type": "execute_result"
    }
   ],
   "source": [
    "n"
   ]
  },
  {
   "cell_type": "code",
   "execution_count": 171,
   "id": "e45b3dc0-f606-48a9-8d50-25d5e0f22249",
   "metadata": {},
   "outputs": [
    {
     "data": {
      "text/plain": [
       "[4, 3, 10, 2, 1, 9]"
      ]
     },
     "execution_count": 171,
     "metadata": {},
     "output_type": "execute_result"
    }
   ],
   "source": [
    "m"
   ]
  },
  {
   "cell_type": "code",
   "execution_count": 172,
   "id": "4ec8913f-1a95-467d-87fb-7d0a86fa2564",
   "metadata": {},
   "outputs": [
    {
     "data": {
      "text/plain": [
       "'apple'"
      ]
     },
     "execution_count": 172,
     "metadata": {},
     "output_type": "execute_result"
    }
   ],
   "source": [
    "h"
   ]
  },
  {
   "cell_type": "code",
   "execution_count": 173,
   "id": "b4538288-ae02-411a-8697-8e4c33056d3e",
   "metadata": {},
   "outputs": [
    {
     "data": {
      "text/plain": [
       "(5, 4, 3, 10, 2, 1, 9, 'apple')"
      ]
     },
     "execution_count": 173,
     "metadata": {},
     "output_type": "execute_result"
    }
   ],
   "source": [
    "tpl"
   ]
  },
  {
   "cell_type": "code",
   "execution_count": 177,
   "id": "f2b304a0-2f31-418f-a1e7-41d4f6dc28cc",
   "metadata": {},
   "outputs": [
    {
     "data": {
      "text/plain": [
       "('apple',)"
      ]
     },
     "execution_count": 177,
     "metadata": {},
     "output_type": "execute_result"
    }
   ],
   "source": [
    "tp1"
   ]
  },
  {
   "cell_type": "code",
   "execution_count": 178,
   "id": "947b4f32-5618-46a7-9084-322b98fb3655",
   "metadata": {},
   "outputs": [],
   "source": [
    "#tuple concatination "
   ]
  },
  {
   "cell_type": "code",
   "execution_count": 179,
   "id": "b9080565-fc99-4715-a684-5020227b1162",
   "metadata": {},
   "outputs": [],
   "source": [
    "t = tp1 + tpl"
   ]
  },
  {
   "cell_type": "code",
   "execution_count": 180,
   "id": "dceee1c3-157c-4841-8a9e-9c1ac360c5fe",
   "metadata": {},
   "outputs": [
    {
     "data": {
      "text/plain": [
       "('apple', 5, 4, 3, 10, 2, 1, 9, 'apple')"
      ]
     },
     "execution_count": 180,
     "metadata": {},
     "output_type": "execute_result"
    }
   ],
   "source": [
    "t"
   ]
  },
  {
   "cell_type": "code",
   "execution_count": 183,
   "id": "eec1afc9-d20b-479f-92e8-252cb134b0c1",
   "metadata": {},
   "outputs": [],
   "source": [
    "double_tpl = tpl*2 #it returns tuple values twice but the values share same memory address"
   ]
  },
  {
   "cell_type": "code",
   "execution_count": 184,
   "id": "560e721d-79a2-4aa6-8908-ea31b53af3c8",
   "metadata": {},
   "outputs": [
    {
     "data": {
      "text/plain": [
       "(5, 4, 3, 10, 2, 1, 9, 'apple', 5, 4, 3, 10, 2, 1, 9, 'apple')"
      ]
     },
     "execution_count": 184,
     "metadata": {},
     "output_type": "execute_result"
    }
   ],
   "source": [
    "double_tpl"
   ]
  },
  {
   "cell_type": "code",
   "execution_count": null,
   "id": "545a0224-b683-4b00-8b9b-34c0bd933068",
   "metadata": {},
   "outputs": [],
   "source": []
  }
 ],
 "metadata": {
  "kernelspec": {
   "display_name": "Python 3 (ipykernel)",
   "language": "python",
   "name": "python3"
  },
  "language_info": {
   "codemirror_mode": {
    "name": "ipython",
    "version": 3
   },
   "file_extension": ".py",
   "mimetype": "text/x-python",
   "name": "python",
   "nbconvert_exporter": "python",
   "pygments_lexer": "ipython3",
   "version": "3.10.6"
  }
 },
 "nbformat": 4,
 "nbformat_minor": 5
}
