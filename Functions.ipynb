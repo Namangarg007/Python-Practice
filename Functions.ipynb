{
 "cells": [
  {
   "cell_type": "markdown",
   "id": "6e77a059-3030-4057-aa4a-c7552d4cb96e",
   "metadata": {
    "tags": []
   },
   "source": [
    "<h2>Functions</h2>\n",
    "* def keyword is used to initialise a function"
   ]
  },
  {
   "cell_type": "code",
   "execution_count": 5,
   "id": "e53fec3b-953d-415d-8546-188fadc03593",
   "metadata": {},
   "outputs": [],
   "source": [
    "def fun(): #Function declaration and defination\n",
    "    print(\"First function\")"
   ]
  },
  {
   "cell_type": "code",
   "execution_count": 6,
   "id": "86b3bf3f-c559-4e7c-a59b-f51bed1c9f65",
   "metadata": {},
   "outputs": [
    {
     "name": "stdout",
     "output_type": "stream",
     "text": [
      "First function\n"
     ]
    }
   ],
   "source": [
    "fun() #Function call i.e. executing the function"
   ]
  },
  {
   "cell_type": "code",
   "execution_count": 13,
   "id": "90e488a7-e91a-4c89-b2fa-72e9a8edff48",
   "metadata": {},
   "outputs": [],
   "source": [
    "def name(firstname): #function with parameter function can have as many parameter as the user want\n",
    "    print(firstname + \" \" + \"Garg\")"
   ]
  },
  {
   "cell_type": "code",
   "execution_count": 15,
   "id": "9b4331cd-08ad-490b-9ad5-45a19980c43d",
   "metadata": {},
   "outputs": [
    {
     "name": "stdout",
     "output_type": "stream",
     "text": [
      "Naman Garg\n",
      "Anuriti Garg\n"
     ]
    }
   ],
   "source": [
    "name('Naman') #value inside the functon call is called argument or rather value pased in th parameter\n",
    "name('Anuriti')# the no of arguments should be equal to the number of parameters in the funcion other wise it will give an error"
   ]
  },
  {
   "cell_type": "code",
   "execution_count": 24,
   "id": "e73bf5bf-285c-40f6-8181-215a63c38e59",
   "metadata": {},
   "outputs": [],
   "source": [
    "def child_name(*detail): # the number of arguments are unknown then we add star to the parameter as any number of\n",
    "    print(\"the child's name is \" + detail[1])# arguments will be store as tuple in the single parameter in form of a tuple\n",
    "    print(detail)"
   ]
  },
  {
   "cell_type": "code",
   "execution_count": 25,
   "id": "078cfec9-86f0-400d-9bc1-0c9496257840",
   "metadata": {},
   "outputs": [
    {
     "name": "stdout",
     "output_type": "stream",
     "text": [
      "the child's name is Naman\n",
      "('New york', 'Naman', 'Hindu')\n"
     ]
    }
   ],
   "source": [
    "child_name('New york', 'Naman', 'Hindu')"
   ]
  },
  {
   "cell_type": "code",
   "execution_count": 26,
   "id": "9e598350-22f2-413b-b608-dc0d413fed6b",
   "metadata": {},
   "outputs": [],
   "source": [
    "def child_name_1(**detail): # the number of arguments are unknown and in form of a dictionary then using ** it can be stored in dictionary form\n",
    "    print(\"the child's name is \" + detail['Name'])\n",
    "    print(detail)"
   ]
  },
  {
   "cell_type": "code",
   "execution_count": 28,
   "id": "10430963-4921-4c50-9725-07bf900552af",
   "metadata": {},
   "outputs": [
    {
     "name": "stdout",
     "output_type": "stream",
     "text": [
      "the child's name is Naman\n",
      "{'city': 'New york', 'Name': 'Naman', 'Religion': 'Hindu'}\n"
     ]
    }
   ],
   "source": [
    "child_name_1(city = 'New york', Name = 'Naman',Religion = 'Hindu')"
   ]
  },
  {
   "cell_type": "code",
   "execution_count": 29,
   "id": "19c370ad-dc44-4791-8388-4007c570fc70",
   "metadata": {},
   "outputs": [],
   "source": [
    "#we can give parameter default values so that if no argument is passed instead of an error it will return that value\n",
    "\n",
    "def contry(cont = 'India'):\n",
    "    print(cont)"
   ]
  },
  {
   "cell_type": "code",
   "execution_count": 30,
   "id": "f30a785c-36be-4d5f-95b0-7a96aebf90f5",
   "metadata": {},
   "outputs": [
    {
     "name": "stdout",
     "output_type": "stream",
     "text": [
      "America\n",
      "India\n"
     ]
    }
   ],
   "source": [
    "contry('America')\n",
    "contry()"
   ]
  },
  {
   "cell_type": "code",
   "execution_count": 31,
   "id": "9614c4fe-08ba-4e7d-897e-8709a985ae0a",
   "metadata": {},
   "outputs": [],
   "source": [
    "def mul(a):\n",
    "    return a * 5"
   ]
  },
  {
   "cell_type": "code",
   "execution_count": 32,
   "id": "3deb4a63-3acc-4f3d-af5f-b91bfff45b85",
   "metadata": {},
   "outputs": [
    {
     "data": {
      "text/plain": [
       "25"
      ]
     },
     "execution_count": 32,
     "metadata": {},
     "output_type": "execute_result"
    }
   ],
   "source": [
    "mul(5)"
   ]
  },
  {
   "cell_type": "code",
   "execution_count": 33,
   "id": "c0e075ba-1edd-4542-9521-2631069b9ebc",
   "metadata": {},
   "outputs": [
    {
     "data": {
      "text/plain": [
       "50"
      ]
     },
     "execution_count": 33,
     "metadata": {},
     "output_type": "execute_result"
    }
   ],
   "source": [
    "mul(10)"
   ]
  },
  {
   "cell_type": "markdown",
   "id": "37076dcc-c110-4b4f-9d2f-8009864af5d5",
   "metadata": {},
   "source": [
    "<h3>Recursion</h3>"
   ]
  },
  {
   "cell_type": "code",
   "execution_count": 36,
   "id": "246bc3fa-56d0-4db1-b275-e8e624f3021f",
   "metadata": {},
   "outputs": [],
   "source": [
    "def fact(a):\n",
    "    if a == 1:\n",
    "        return a\n",
    "    return a * fact(a-1)"
   ]
  },
  {
   "cell_type": "code",
   "execution_count": 37,
   "id": "59f40c5e-9025-4351-8b1b-38cc9acf84aa",
   "metadata": {},
   "outputs": [
    {
     "data": {
      "text/plain": [
       "6"
      ]
     },
     "execution_count": 37,
     "metadata": {},
     "output_type": "execute_result"
    }
   ],
   "source": [
    "fact(3)"
   ]
  },
  {
   "cell_type": "code",
   "execution_count": 38,
   "id": "07af83c8-d9c4-4d47-ab2c-7eac6de0fe06",
   "metadata": {},
   "outputs": [
    {
     "data": {
      "text/plain": [
       "120"
      ]
     },
     "execution_count": 38,
     "metadata": {},
     "output_type": "execute_result"
    }
   ],
   "source": [
    "fact(5)"
   ]
  },
  {
   "cell_type": "markdown",
   "id": "a18dc762-689a-4f30-826a-55b185eeaf47",
   "metadata": {},
   "source": [
    "<h3>Lambda Function</h3>\n",
    "\n",
    "* A lambda function is a small anonymous function\n",
    "\n",
    "* A lambda function can take any number of arguments, but can only have one expression.\n",
    "\n",
    "* syntax = lambda arguments : expression"
   ]
  },
  {
   "cell_type": "code",
   "execution_count": 43,
   "id": "1d488d2b-f785-4c4e-8006-6ac6d58db5b5",
   "metadata": {},
   "outputs": [],
   "source": [
    "x = lambda a : a * 5"
   ]
  },
  {
   "cell_type": "code",
   "execution_count": 44,
   "id": "96b03ceb-438f-471a-9c96-365d1f2aaf3a",
   "metadata": {},
   "outputs": [
    {
     "data": {
      "text/plain": [
       "25"
      ]
     },
     "execution_count": 44,
     "metadata": {},
     "output_type": "execute_result"
    }
   ],
   "source": [
    "x(5)"
   ]
  },
  {
   "cell_type": "code",
   "execution_count": 45,
   "id": "1892f990-e711-483c-8c6f-01347d47c246",
   "metadata": {},
   "outputs": [],
   "source": [
    "y = lambda b, a : a * b"
   ]
  },
  {
   "cell_type": "code",
   "execution_count": 46,
   "id": "75446ef8-527c-4387-a61a-bdfab0d65c01",
   "metadata": {},
   "outputs": [
    {
     "data": {
      "text/plain": [
       "10"
      ]
     },
     "execution_count": 46,
     "metadata": {},
     "output_type": "execute_result"
    }
   ],
   "source": [
    "y(5, 2)"
   ]
  },
  {
   "cell_type": "code",
   "execution_count": 50,
   "id": "9128b9e3-09cb-4e49-a203-b9185f508ae8",
   "metadata": {},
   "outputs": [],
   "source": [
    "def lam(n):\n",
    "    return lambda a : a * n"
   ]
  },
  {
   "cell_type": "code",
   "execution_count": 51,
   "id": "9f88b9a6-a1a8-4c4a-b7ab-a62dc9fa1885",
   "metadata": {},
   "outputs": [],
   "source": [
    "v = lam(4)"
   ]
  },
  {
   "cell_type": "code",
   "execution_count": 52,
   "id": "fce0d552-f550-4bff-90cf-a5cd4e782b10",
   "metadata": {},
   "outputs": [
    {
     "data": {
      "text/plain": [
       "20"
      ]
     },
     "execution_count": 52,
     "metadata": {},
     "output_type": "execute_result"
    }
   ],
   "source": [
    "v(5)"
   ]
  },
  {
   "cell_type": "code",
   "execution_count": null,
   "id": "d8821fce-df5b-4822-9df5-9c80b6726f3a",
   "metadata": {},
   "outputs": [],
   "source": []
  }
 ],
 "metadata": {
  "kernelspec": {
   "display_name": "Python 3 (ipykernel)",
   "language": "python",
   "name": "python3"
  },
  "language_info": {
   "codemirror_mode": {
    "name": "ipython",
    "version": 3
   },
   "file_extension": ".py",
   "mimetype": "text/x-python",
   "name": "python",
   "nbconvert_exporter": "python",
   "pygments_lexer": "ipython3",
   "version": "3.10.6"
  }
 },
 "nbformat": 4,
 "nbformat_minor": 5
}
