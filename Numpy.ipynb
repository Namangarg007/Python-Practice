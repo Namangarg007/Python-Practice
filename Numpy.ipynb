{
 "cells": [
  {
   "cell_type": "markdown",
   "id": "ed3298ea-2c31-4e6a-b1a9-3cae067f38e3",
   "metadata": {
    "tags": []
   },
   "source": [
    "<h2>NumPy</h2>\n",
    "\n",
    "* NumPy is a Python library used for working with arrays.\n",
    "\n",
    "* It also has functions for working in domain of linear algebra, fourier transform, and matrices.\n",
    "\n",
    "* NumPy stands for Numerical Python."
   ]
  },
  {
   "cell_type": "code",
   "execution_count": 2,
   "id": "3be2695c-7349-42e6-ae95-385cb6a757a9",
   "metadata": {},
   "outputs": [],
   "source": [
    "import numpy as np #np is like a nick name for numpy library to make it easy to access it can be any thing \n",
    "#it dosen't have to be np but it is a well used practice"
   ]
  },
  {
   "cell_type": "code",
   "execution_count": 3,
   "id": "cdd21a46-ef59-4a3b-a2b6-722fb71139ee",
   "metadata": {},
   "outputs": [],
   "source": [
    "a = np.array([1, 2, 3, 4, 5, 6, 7, 8, 9, 10]) #the numpy function converts the values into numpy array"
   ]
  },
  {
   "cell_type": "code",
   "execution_count": 4,
   "id": "4c56996f-4357-48b6-b952-595d1a8d6895",
   "metadata": {},
   "outputs": [
    {
     "name": "stdout",
     "output_type": "stream",
     "text": [
      "[ 1  2  3  4  5  6  7  8  9 10]\n"
     ]
    }
   ],
   "source": [
    "print(a)"
   ]
  },
  {
   "cell_type": "code",
   "execution_count": 5,
   "id": "0cb9f101-6eb7-4931-8cfc-69fe895df897",
   "metadata": {},
   "outputs": [
    {
     "data": {
      "text/plain": [
       "numpy.ndarray"
      ]
     },
     "execution_count": 5,
     "metadata": {},
     "output_type": "execute_result"
    }
   ],
   "source": [
    "type(a)"
   ]
  },
  {
   "cell_type": "code",
   "execution_count": 6,
   "id": "fbd9d7c7-bdac-462f-a682-ffc3fda2f1cf",
   "metadata": {},
   "outputs": [],
   "source": [
    "#the variable a is a numpy array"
   ]
  },
  {
   "cell_type": "markdown",
   "id": "646c347c-95eb-451b-8099-681f8e31eefb",
   "metadata": {},
   "source": [
    "<h3>0-D Array</h3>"
   ]
  },
  {
   "cell_type": "code",
   "execution_count": 7,
   "id": "df1651ae-9111-4d83-9ca2-a431e888d8da",
   "metadata": {},
   "outputs": [],
   "source": [
    "b = np.array(32)"
   ]
  },
  {
   "cell_type": "code",
   "execution_count": 8,
   "id": "3437586d-ed3d-40f0-b7d3-fcac58167e6d",
   "metadata": {},
   "outputs": [
    {
     "name": "stdout",
     "output_type": "stream",
     "text": [
      "32\n"
     ]
    }
   ],
   "source": [
    "print(b)"
   ]
  },
  {
   "cell_type": "code",
   "execution_count": 9,
   "id": "0d70eec1-a834-40a8-ba29-b335ca9df53d",
   "metadata": {},
   "outputs": [
    {
     "data": {
      "text/plain": [
       "numpy.ndarray"
      ]
     },
     "execution_count": 9,
     "metadata": {},
     "output_type": "execute_result"
    }
   ],
   "source": [
    "type(b)"
   ]
  },
  {
   "cell_type": "code",
   "execution_count": 10,
   "id": "65aa3ed3-5007-4fcd-a049-494ec3abc948",
   "metadata": {},
   "outputs": [
    {
     "data": {
      "text/plain": [
       "0"
      ]
     },
     "execution_count": 10,
     "metadata": {},
     "output_type": "execute_result"
    }
   ],
   "source": [
    "b.ndim #ndim tels the diamension of an array"
   ]
  },
  {
   "cell_type": "markdown",
   "id": "72c244c8-1a7e-4d0a-8a8c-d33d9d34200a",
   "metadata": {},
   "source": [
    "<h3>1-D Array</h3>"
   ]
  },
  {
   "cell_type": "code",
   "execution_count": 11,
   "id": "49b847e1-e50e-437e-bf8f-6f758c65f304",
   "metadata": {},
   "outputs": [],
   "source": [
    "c = np.array([1, 2, 3, 4, 5])"
   ]
  },
  {
   "cell_type": "code",
   "execution_count": 12,
   "id": "2b940005-1dae-4373-b716-4550c7d4dc19",
   "metadata": {},
   "outputs": [
    {
     "name": "stdout",
     "output_type": "stream",
     "text": [
      "[1 2 3 4 5]\n"
     ]
    }
   ],
   "source": [
    "print(c)"
   ]
  },
  {
   "cell_type": "code",
   "execution_count": 13,
   "id": "032f1633-45c2-4d8a-87a2-7d31d6517eb3",
   "metadata": {},
   "outputs": [
    {
     "data": {
      "text/plain": [
       "numpy.ndarray"
      ]
     },
     "execution_count": 13,
     "metadata": {},
     "output_type": "execute_result"
    }
   ],
   "source": [
    "type(c)"
   ]
  },
  {
   "cell_type": "code",
   "execution_count": 14,
   "id": "9a712401-f90c-4cfd-a5ed-d0bc0c72639c",
   "metadata": {},
   "outputs": [
    {
     "data": {
      "text/plain": [
       "1"
      ]
     },
     "execution_count": 14,
     "metadata": {},
     "output_type": "execute_result"
    }
   ],
   "source": [
    "c.ndim"
   ]
  },
  {
   "cell_type": "markdown",
   "id": "d68a3111-c4aa-4f6d-9351-b149e888c157",
   "metadata": {},
   "source": [
    "<h3>2-D Array</h3>"
   ]
  },
  {
   "cell_type": "code",
   "execution_count": 15,
   "id": "1f97dc13-be32-4401-a039-fdb767666587",
   "metadata": {},
   "outputs": [],
   "source": [
    "d = np.array([[1, 2, 3, 4, 5], [6, 7, 8, 9, 10]])"
   ]
  },
  {
   "cell_type": "code",
   "execution_count": 16,
   "id": "548b5eff-4672-4922-bcbf-e28b57f67c63",
   "metadata": {},
   "outputs": [
    {
     "name": "stdout",
     "output_type": "stream",
     "text": [
      "[[ 1  2  3  4  5]\n",
      " [ 6  7  8  9 10]]\n"
     ]
    }
   ],
   "source": [
    "print(d)"
   ]
  },
  {
   "cell_type": "code",
   "execution_count": 17,
   "id": "dfb78d7e-b4e9-4935-a2c3-7800e5459f9c",
   "metadata": {},
   "outputs": [
    {
     "data": {
      "text/plain": [
       "numpy.ndarray"
      ]
     },
     "execution_count": 17,
     "metadata": {},
     "output_type": "execute_result"
    }
   ],
   "source": [
    "type(d)"
   ]
  },
  {
   "cell_type": "code",
   "execution_count": 18,
   "id": "02e92e09-55fc-4d85-bd8b-6e81cde5ce85",
   "metadata": {},
   "outputs": [
    {
     "data": {
      "text/plain": [
       "2"
      ]
     },
     "execution_count": 18,
     "metadata": {},
     "output_type": "execute_result"
    }
   ],
   "source": [
    "d.ndim"
   ]
  },
  {
   "cell_type": "markdown",
   "id": "62964736-8782-4eb3-acb4-5b83eff0d473",
   "metadata": {},
   "source": [
    "<h3>3-D Array</h3>"
   ]
  },
  {
   "cell_type": "code",
   "execution_count": 19,
   "id": "3bebdf8f-0697-4266-9c2d-b90f98802920",
   "metadata": {},
   "outputs": [],
   "source": [
    "e = np.array([[[1, 2, 3, 4, 5], [11, 12, 13, 14, 15]], [[6, 7, 8, 9, 10], [16, 17, 18, 19, 20]]])"
   ]
  },
  {
   "cell_type": "code",
   "execution_count": 20,
   "id": "ef405816-3d74-455d-8d26-a3d19e4da296",
   "metadata": {},
   "outputs": [
    {
     "name": "stdout",
     "output_type": "stream",
     "text": [
      "[[[ 1  2  3  4  5]\n",
      "  [11 12 13 14 15]]\n",
      "\n",
      " [[ 6  7  8  9 10]\n",
      "  [16 17 18 19 20]]]\n"
     ]
    }
   ],
   "source": [
    "print(e)"
   ]
  },
  {
   "cell_type": "code",
   "execution_count": 21,
   "id": "f6c70313-1c1c-4764-9267-9c0ca1abca99",
   "metadata": {},
   "outputs": [
    {
     "data": {
      "text/plain": [
       "numpy.ndarray"
      ]
     },
     "execution_count": 21,
     "metadata": {},
     "output_type": "execute_result"
    }
   ],
   "source": [
    "type(e)"
   ]
  },
  {
   "cell_type": "code",
   "execution_count": 22,
   "id": "35b0f6d2-2e34-45de-8640-54474be2ed6d",
   "metadata": {},
   "outputs": [
    {
     "data": {
      "text/plain": [
       "3"
      ]
     },
     "execution_count": 22,
     "metadata": {},
     "output_type": "execute_result"
    }
   ],
   "source": [
    "e.ndim"
   ]
  },
  {
   "cell_type": "code",
   "execution_count": 23,
   "id": "414f616c-7b72-4cd1-b5c9-9a7d4ebf0e97",
   "metadata": {},
   "outputs": [],
   "source": [
    "# we can also define the diamension of array during creation without adding values\n",
    "#array can be of any number of diamensions\n",
    "f = np.array([1, 2, 3, 4, 5], ndmin = 5)"
   ]
  },
  {
   "cell_type": "code",
   "execution_count": 24,
   "id": "4f1be2cb-6a4a-4b30-ac1a-cff2c6b87000",
   "metadata": {},
   "outputs": [
    {
     "name": "stdout",
     "output_type": "stream",
     "text": [
      "[[[[[1 2 3 4 5]]]]]\n"
     ]
    }
   ],
   "source": [
    "print(f)"
   ]
  },
  {
   "cell_type": "code",
   "execution_count": 25,
   "id": "94f11a1c-ceb1-4589-858a-6d8401d8d88f",
   "metadata": {},
   "outputs": [
    {
     "data": {
      "text/plain": [
       "numpy.ndarray"
      ]
     },
     "execution_count": 25,
     "metadata": {},
     "output_type": "execute_result"
    }
   ],
   "source": [
    "type(f)"
   ]
  },
  {
   "cell_type": "code",
   "execution_count": 26,
   "id": "f424f7fc-4003-4354-a15f-5650fa3e6037",
   "metadata": {},
   "outputs": [
    {
     "data": {
      "text/plain": [
       "5"
      ]
     },
     "execution_count": 26,
     "metadata": {},
     "output_type": "execute_result"
    }
   ],
   "source": [
    "f.ndim"
   ]
  },
  {
   "cell_type": "markdown",
   "id": "e56db58c-3eb9-409c-8181-a52e86d23b9c",
   "metadata": {},
   "source": [
    "<h3> NumPy array indexing</h3>\n",
    "\n",
    "* Np array indexing work same as list indexing\n",
    "\n",
    "* it starts fom zero and the reverse indexing starts from -1\n",
    "\n",
    "* there is no indexing for 0-D Array"
   ]
  },
  {
   "cell_type": "code",
   "execution_count": 27,
   "id": "6f4c24eb-827b-48c5-a05a-54532feb3eec",
   "metadata": {},
   "outputs": [
    {
     "name": "stdout",
     "output_type": "stream",
     "text": [
      "4\n",
      "3\n"
     ]
    },
    {
     "data": {
      "text/plain": [
       "array([1, 2, 3, 4, 5])"
      ]
     },
     "execution_count": 27,
     "metadata": {},
     "output_type": "execute_result"
    }
   ],
   "source": [
    "# 1-D array indexing\n",
    "\n",
    "print(c[3])\n",
    "print(c[2])\n",
    "c"
   ]
  },
  {
   "cell_type": "code",
   "execution_count": 28,
   "id": "ddfe6f99-3d17-4974-a0b7-6b4dd747d5f4",
   "metadata": {},
   "outputs": [
    {
     "name": "stdout",
     "output_type": "stream",
     "text": [
      "2\n",
      "9\n"
     ]
    },
    {
     "data": {
      "text/plain": [
       "array([[ 1,  2,  3,  4,  5],\n",
       "       [ 6,  7,  8,  9, 10]])"
      ]
     },
     "execution_count": 28,
     "metadata": {},
     "output_type": "execute_result"
    }
   ],
   "source": [
    "# 2-D array indexing\n",
    "\n",
    "print(d[0, 1]) # first value gives access to the first array and second value gives access to values of array\n",
    "\n",
    "print(d[1, 3])# now the first value access the second array in the array and second value gives access to value of array\n",
    "\n",
    "d"
   ]
  },
  {
   "cell_type": "code",
   "execution_count": 29,
   "id": "60ee8a62-1fbd-4553-9795-339f40b194be",
   "metadata": {},
   "outputs": [
    {
     "name": "stdout",
     "output_type": "stream",
     "text": [
      "4\n",
      "14\n",
      "9\n",
      "19\n"
     ]
    },
    {
     "data": {
      "text/plain": [
       "array([[[ 1,  2,  3,  4,  5],\n",
       "        [11, 12, 13, 14, 15]],\n",
       "\n",
       "       [[ 6,  7,  8,  9, 10],\n",
       "        [16, 17, 18, 19, 20]]])"
      ]
     },
     "execution_count": 29,
     "metadata": {},
     "output_type": "execute_result"
    }
   ],
   "source": [
    "# 3-D array indexing\n",
    "\n",
    "print(e[0, 0, 3])\n",
    "\n",
    "print(e[0, 1, 3])\n",
    "\n",
    "print(e[1, 0, 3])\n",
    "\n",
    "print(e[1, 1, 3])\n",
    "\n",
    "e"
   ]
  },
  {
   "cell_type": "markdown",
   "id": "bc584d61-fbe8-4241-a401-2315f10fe819",
   "metadata": {},
   "source": [
    "<h3>Array Slicing</h3>\n",
    "\n",
    "* Slicing in python means taking elements from one given index to another given index.\n",
    "\n",
    "* We pass slice instead of index like this: [start:end].\n",
    "\n",
    "* We can also define the step, like this: [start:end:step].\n",
    "\n",
    "* If we don't pass start its considered 0\n",
    "\n",
    "* If we don't pass end its considered length of array in that dimension\n",
    "\n",
    "* If we don't pass step its considered 1"
   ]
  },
  {
   "cell_type": "code",
   "execution_count": 30,
   "id": "1f8c46f1-7e94-4c80-8d72-4a69bce136ed",
   "metadata": {},
   "outputs": [
    {
     "data": {
      "text/plain": [
       "array([1, 2, 3, 4, 5])"
      ]
     },
     "execution_count": 30,
     "metadata": {},
     "output_type": "execute_result"
    }
   ],
   "source": [
    "c"
   ]
  },
  {
   "cell_type": "code",
   "execution_count": 29,
   "id": "2022e960-a17a-4542-a898-8e2df0784e35",
   "metadata": {},
   "outputs": [
    {
     "data": {
      "text/plain": [
       "array([2, 3])"
      ]
     },
     "execution_count": 29,
     "metadata": {},
     "output_type": "execute_result"
    }
   ],
   "source": [
    "# 1-d array slicing\n",
    "\n",
    "c[1:3]"
   ]
  },
  {
   "cell_type": "code",
   "execution_count": 31,
   "id": "b2856f4f-0d1d-425f-883e-baa82d5a4a79",
   "metadata": {},
   "outputs": [
    {
     "data": {
      "text/plain": [
       "array([[ 1,  2,  3,  4,  5],\n",
       "       [ 6,  7,  8,  9, 10]])"
      ]
     },
     "execution_count": 31,
     "metadata": {},
     "output_type": "execute_result"
    }
   ],
   "source": [
    "d"
   ]
  },
  {
   "cell_type": "code",
   "execution_count": 35,
   "id": "f192172f-24c3-4143-8406-f4d3b7bf3d56",
   "metadata": {},
   "outputs": [
    {
     "name": "stdout",
     "output_type": "stream",
     "text": [
      "[[2 3]\n",
      " [7 8]]\n",
      "[7 8]\n"
     ]
    }
   ],
   "source": [
    "#2-d array slicing\n",
    "\n",
    "print(d[0:2, 1:3])\n",
    "\n",
    "print(d[1, 1:3]) # first selects the array and the second selects the value of the array"
   ]
  },
  {
   "cell_type": "code",
   "execution_count": 36,
   "id": "59148c37-a5a7-4fb4-8ffd-3ce4e6501a6e",
   "metadata": {},
   "outputs": [
    {
     "data": {
      "text/plain": [
       "array([[[ 1,  2,  3,  4,  5],\n",
       "        [11, 12, 13, 14, 15]],\n",
       "\n",
       "       [[ 6,  7,  8,  9, 10],\n",
       "        [16, 17, 18, 19, 20]]])"
      ]
     },
     "execution_count": 36,
     "metadata": {},
     "output_type": "execute_result"
    }
   ],
   "source": [
    "e"
   ]
  },
  {
   "cell_type": "code",
   "execution_count": 39,
   "id": "aa499c1e-0487-4ffc-a277-eb25d95fb09c",
   "metadata": {},
   "outputs": [
    {
     "name": "stdout",
     "output_type": "stream",
     "text": [
      "[[[ 2  3]\n",
      "  [12 13]]\n",
      "\n",
      " [[ 7  8]\n",
      "  [17 18]]]\n"
     ]
    }
   ],
   "source": [
    "#3-d array slicing\n",
    "\n",
    "print(e[0:2, 0:2, 1:3]) #the first selects the first set of array, second diamension selects the array from the the first array and\n",
    "# third selscts the value inside"
   ]
  },
  {
   "cell_type": "code",
   "execution_count": 32,
   "id": "7ced2562-e110-48bc-a828-84ed26609e0a",
   "metadata": {},
   "outputs": [
    {
     "data": {
      "text/plain": [
       "dtype('int64')"
      ]
     },
     "execution_count": 32,
     "metadata": {},
     "output_type": "execute_result"
    }
   ],
   "source": [
    "e.dtype # this tells the type of values inside the array"
   ]
  },
  {
   "cell_type": "code",
   "execution_count": 40,
   "id": "8ee18187-a7cc-40a4-be5a-b2d9d19e9902",
   "metadata": {},
   "outputs": [],
   "source": [
    "# we can also specify the datatype of the values in the array\n",
    "\n",
    "g = np.array([1, 2, 3, 4, 5], dtype = 'S') # now the value will be considered as string type"
   ]
  },
  {
   "cell_type": "code",
   "execution_count": 41,
   "id": "47d95de8-5d17-4560-9700-43febe17a0e0",
   "metadata": {},
   "outputs": [
    {
     "data": {
      "text/plain": [
       "array([b'1', b'2', b'3', b'4', b'5'], dtype='|S1')"
      ]
     },
     "execution_count": 41,
     "metadata": {},
     "output_type": "execute_result"
    }
   ],
   "source": [
    "g "
   ]
  },
  {
   "cell_type": "code",
   "execution_count": 42,
   "id": "7cdd048e-ad8e-42d1-981a-33fdbc376b87",
   "metadata": {},
   "outputs": [
    {
     "data": {
      "text/plain": [
       "dtype('S1')"
      ]
     },
     "execution_count": 42,
     "metadata": {},
     "output_type": "execute_result"
    }
   ],
   "source": [
    "g.dtype"
   ]
  },
  {
   "cell_type": "code",
   "execution_count": 36,
   "id": "90adb468-790e-429b-acf7-e22610da81a4",
   "metadata": {},
   "outputs": [],
   "source": [
    "# another way to convart the value is astype\n",
    "\n",
    "h = g.astype('i') # now the value will be converted to integer type"
   ]
  },
  {
   "cell_type": "code",
   "execution_count": 37,
   "id": "25b0f156-cd75-4bfa-af36-30f3713c04ab",
   "metadata": {},
   "outputs": [
    {
     "data": {
      "text/plain": [
       "array([1, 2, 3, 4, 5], dtype=int32)"
      ]
     },
     "execution_count": 37,
     "metadata": {},
     "output_type": "execute_result"
    }
   ],
   "source": [
    "h"
   ]
  },
  {
   "cell_type": "code",
   "execution_count": 38,
   "id": "da0049d9-125f-4012-a939-6b624777df9c",
   "metadata": {},
   "outputs": [
    {
     "data": {
      "text/plain": [
       "dtype('int32')"
      ]
     },
     "execution_count": 38,
     "metadata": {},
     "output_type": "execute_result"
    }
   ],
   "source": [
    "h.dtype"
   ]
  },
  {
   "cell_type": "markdown",
   "id": "4309e299-5d9d-470b-adc9-2cf4373f76de",
   "metadata": {},
   "source": [
    "<h3>copy and view function</h3>\n",
    "\n",
    "1. <h4>copy function</h4>\n",
    "\n",
    "    * copy() function copys the value of the array to another variable \n",
    "\n",
    "    * the original and the copy are two different variable\n",
    "\n",
    "    * changes in the copy will not effect the original and change in original will not effect the copy\n",
    "    \n",
    "    * in copy the copy owns the data that is the data belongs to it alone\n",
    "\n",
    "2. <h4>view function</h4>\n",
    "\n",
    "    * view() function copy the value of the array\n",
    "\n",
    "    * but the copy and the original are one in the same \n",
    "\n",
    "    * change in the copy will effect the original and change in original will effect the copy\n",
    "    \n",
    "    * in view the copy shares the data with the original"
   ]
  },
  {
   "cell_type": "code",
   "execution_count": 43,
   "id": "35d79d35-2cb7-4468-9f5c-b01021b37e7c",
   "metadata": {},
   "outputs": [
    {
     "data": {
      "text/plain": [
       "array([1, 2, 3, 4, 5])"
      ]
     },
     "execution_count": 43,
     "metadata": {},
     "output_type": "execute_result"
    }
   ],
   "source": [
    "c"
   ]
  },
  {
   "cell_type": "code",
   "execution_count": 44,
   "id": "cebed556-5d16-4af1-b724-6c7a43df57c4",
   "metadata": {},
   "outputs": [],
   "source": [
    "i = c.copy()"
   ]
  },
  {
   "cell_type": "code",
   "execution_count": 45,
   "id": "820cf90a-14b0-43e9-96fe-8e0b95b87396",
   "metadata": {},
   "outputs": [
    {
     "data": {
      "text/plain": [
       "array([1, 2, 3, 4, 5])"
      ]
     },
     "execution_count": 45,
     "metadata": {},
     "output_type": "execute_result"
    }
   ],
   "source": [
    "i"
   ]
  },
  {
   "cell_type": "code",
   "execution_count": 46,
   "id": "884736b4-33a8-4069-a2f0-97b2de3ed8a3",
   "metadata": {},
   "outputs": [],
   "source": [
    "i[0] = 10"
   ]
  },
  {
   "cell_type": "code",
   "execution_count": 48,
   "id": "b7ca5d4d-aa5e-455e-885d-4b0972ec1ea9",
   "metadata": {},
   "outputs": [
    {
     "data": {
      "text/plain": [
       "array([10,  2,  3,  4,  5])"
      ]
     },
     "execution_count": 48,
     "metadata": {},
     "output_type": "execute_result"
    }
   ],
   "source": [
    "i"
   ]
  },
  {
   "cell_type": "code",
   "execution_count": 49,
   "id": "a03c84c7-de1c-48dc-a6bd-c58116ee10da",
   "metadata": {},
   "outputs": [
    {
     "data": {
      "text/plain": [
       "array([1, 2, 3, 4, 5])"
      ]
     },
     "execution_count": 49,
     "metadata": {},
     "output_type": "execute_result"
    }
   ],
   "source": [
    "c"
   ]
  },
  {
   "cell_type": "code",
   "execution_count": 50,
   "id": "b317e28e-300b-4300-9318-b3abc11ab4b3",
   "metadata": {},
   "outputs": [],
   "source": [
    "# change in copy dident effect the original"
   ]
  },
  {
   "cell_type": "code",
   "execution_count": 52,
   "id": "d17ca362-1ec5-459f-907f-9635a4d7dd10",
   "metadata": {},
   "outputs": [],
   "source": [
    "c[3] = 33"
   ]
  },
  {
   "cell_type": "code",
   "execution_count": 53,
   "id": "0c88322f-8b85-4516-8eee-6e634069ddbf",
   "metadata": {},
   "outputs": [
    {
     "data": {
      "text/plain": [
       "array([ 1,  2,  3, 33,  5])"
      ]
     },
     "execution_count": 53,
     "metadata": {},
     "output_type": "execute_result"
    }
   ],
   "source": [
    "c"
   ]
  },
  {
   "cell_type": "code",
   "execution_count": 54,
   "id": "991ddfa4-feb4-46a4-97c4-c465c6d1c0d8",
   "metadata": {},
   "outputs": [
    {
     "data": {
      "text/plain": [
       "array([10,  2,  3,  4,  5])"
      ]
     },
     "execution_count": 54,
     "metadata": {},
     "output_type": "execute_result"
    }
   ],
   "source": [
    "i"
   ]
  },
  {
   "cell_type": "code",
   "execution_count": 55,
   "id": "0f58e6d5-93a2-44c2-96e9-22f98adaf1d6",
   "metadata": {},
   "outputs": [],
   "source": [
    "# change in orginal diden't effect the copy"
   ]
  },
  {
   "cell_type": "code",
   "execution_count": 56,
   "id": "1c7c47da-fecc-4976-9388-a0c4a344937c",
   "metadata": {},
   "outputs": [],
   "source": [
    "j = c.view()"
   ]
  },
  {
   "cell_type": "code",
   "execution_count": 57,
   "id": "58d52aee-f5e5-4dd8-a3af-17427a0027ba",
   "metadata": {},
   "outputs": [
    {
     "data": {
      "text/plain": [
       "array([ 1,  2,  3, 33,  5])"
      ]
     },
     "execution_count": 57,
     "metadata": {},
     "output_type": "execute_result"
    }
   ],
   "source": [
    "j"
   ]
  },
  {
   "cell_type": "code",
   "execution_count": 59,
   "id": "8427c187-bf98-4018-9589-2417b7776acb",
   "metadata": {},
   "outputs": [
    {
     "data": {
      "text/plain": [
       "array([ 1,  2,  3, 33,  5])"
      ]
     },
     "execution_count": 59,
     "metadata": {},
     "output_type": "execute_result"
    }
   ],
   "source": [
    "c"
   ]
  },
  {
   "cell_type": "code",
   "execution_count": 60,
   "id": "6b521e3e-f2bb-4df6-9bdf-20ce219631eb",
   "metadata": {},
   "outputs": [],
   "source": [
    "j[0] = 11"
   ]
  },
  {
   "cell_type": "code",
   "execution_count": 61,
   "id": "34153526-1a1f-4be5-89c7-f121bf4f9c4c",
   "metadata": {},
   "outputs": [
    {
     "data": {
      "text/plain": [
       "array([11,  2,  3, 33,  5])"
      ]
     },
     "execution_count": 61,
     "metadata": {},
     "output_type": "execute_result"
    }
   ],
   "source": [
    "j"
   ]
  },
  {
   "cell_type": "code",
   "execution_count": 62,
   "id": "c97e538a-22d1-4f16-a005-86a95da8e4cf",
   "metadata": {},
   "outputs": [
    {
     "data": {
      "text/plain": [
       "array([11,  2,  3, 33,  5])"
      ]
     },
     "execution_count": 62,
     "metadata": {},
     "output_type": "execute_result"
    }
   ],
   "source": [
    "c"
   ]
  },
  {
   "cell_type": "code",
   "execution_count": 63,
   "id": "44dcfe37-2e1e-47bc-b703-70f6291eb774",
   "metadata": {},
   "outputs": [],
   "source": [
    "# change in copy changed the original to "
   ]
  },
  {
   "cell_type": "code",
   "execution_count": 64,
   "id": "408eb25d-482b-4387-be41-7dbfbc60149f",
   "metadata": {},
   "outputs": [],
   "source": [
    "c[1] = 22"
   ]
  },
  {
   "cell_type": "code",
   "execution_count": 65,
   "id": "c9ef80f5-053f-463c-810a-ab003cee52b8",
   "metadata": {},
   "outputs": [
    {
     "data": {
      "text/plain": [
       "array([11, 22,  3, 33,  5])"
      ]
     },
     "execution_count": 65,
     "metadata": {},
     "output_type": "execute_result"
    }
   ],
   "source": [
    "c"
   ]
  },
  {
   "cell_type": "code",
   "execution_count": 66,
   "id": "39a3222b-058b-4f7f-bcad-783e7a96a53a",
   "metadata": {},
   "outputs": [
    {
     "data": {
      "text/plain": [
       "array([11, 22,  3, 33,  5])"
      ]
     },
     "execution_count": 66,
     "metadata": {},
     "output_type": "execute_result"
    }
   ],
   "source": [
    "j"
   ]
  },
  {
   "cell_type": "code",
   "execution_count": 60,
   "id": "976e7d1f-f2e6-4717-8604-0564066ed70f",
   "metadata": {},
   "outputs": [],
   "source": [
    "# change in original changed the copy to "
   ]
  },
  {
   "cell_type": "code",
   "execution_count": 61,
   "id": "68a0f9c5-7c3e-4f09-be12-3eeabec5abb7",
   "metadata": {},
   "outputs": [],
   "source": [
    "# there is a base function that returns none if the array owns the data if not then it returns the array"
   ]
  },
  {
   "cell_type": "code",
   "execution_count": 67,
   "id": "cc50880e-24b3-4b0f-894d-81397a390408",
   "metadata": {},
   "outputs": [
    {
     "name": "stdout",
     "output_type": "stream",
     "text": [
      "None\n",
      "[11 22  3 33  5]\n"
     ]
    }
   ],
   "source": [
    "print(i.base)\n",
    "print(j.base)"
   ]
  },
  {
   "cell_type": "code",
   "execution_count": 63,
   "id": "49e9f62c-2135-476e-9d7f-dbbefc7d1473",
   "metadata": {},
   "outputs": [],
   "source": [
    "# j doesnot own the data therefore it returned the array instead of non "
   ]
  },
  {
   "cell_type": "code",
   "execution_count": 64,
   "id": "169cfdc8-9653-4476-a73b-5a35d8366cd9",
   "metadata": {},
   "outputs": [
    {
     "data": {
      "text/plain": [
       "(2, 5)"
      ]
     },
     "execution_count": 64,
     "metadata": {},
     "output_type": "execute_result"
    }
   ],
   "source": [
    "d.shape"
   ]
  },
  {
   "cell_type": "markdown",
   "id": "72ca401b-d6e8-4bfd-80c8-67b3fbdf7763",
   "metadata": {
    "tags": []
   },
   "source": [
    "<h3> Array Reshaping</h3>\n",
    "\n",
    "* Reshaping means changing the shape of an array.\n",
    "\n",
    "* shape of an array is the number of elements in each dimension.\n",
    "\n",
    "* reshaping we can add or remove dimensions or change number of elements in each dimension."
   ]
  },
  {
   "cell_type": "code",
   "execution_count": 65,
   "id": "8e1b0940-caeb-4fea-9464-48525e45f603",
   "metadata": {},
   "outputs": [
    {
     "data": {
      "text/plain": [
       "array([ 1,  2,  3,  4,  5,  6,  7,  8,  9, 10])"
      ]
     },
     "execution_count": 65,
     "metadata": {},
     "output_type": "execute_result"
    }
   ],
   "source": [
    "a"
   ]
  },
  {
   "cell_type": "code",
   "execution_count": 66,
   "id": "0b8119dc-16a5-425d-9344-074bc89ac3ab",
   "metadata": {},
   "outputs": [
    {
     "data": {
      "text/plain": [
       "10"
      ]
     },
     "execution_count": 66,
     "metadata": {},
     "output_type": "execute_result"
    }
   ],
   "source": [
    "len(a)"
   ]
  },
  {
   "cell_type": "code",
   "execution_count": 67,
   "id": "53397cf1-3de2-4f85-b6fb-6bde6d0f86fb",
   "metadata": {},
   "outputs": [
    {
     "ename": "ValueError",
     "evalue": "cannot reshape array of size 10 into shape (3,3)",
     "output_type": "error",
     "traceback": [
      "\u001b[0;31m---------------------------------------------------------------------------\u001b[0m",
      "\u001b[0;31mValueError\u001b[0m                                Traceback (most recent call last)",
      "Cell \u001b[0;32mIn [67], line 1\u001b[0m\n\u001b[0;32m----> 1\u001b[0m new_a \u001b[38;5;241m=\u001b[39m \u001b[43ma\u001b[49m\u001b[38;5;241;43m.\u001b[39;49m\u001b[43mreshape\u001b[49m\u001b[43m(\u001b[49m\u001b[38;5;241;43m3\u001b[39;49m\u001b[43m,\u001b[49m\u001b[43m \u001b[49m\u001b[38;5;241;43m3\u001b[39;49m\u001b[43m)\u001b[49m \u001b[38;5;66;03m# since we have 10 elements in the array so the shape should corresponding to number of elements\u001b[39;00m\n\u001b[1;32m      2\u001b[0m \u001b[38;5;66;03m# since there are 10 elements shape should be 2x5 or 5x2 or 10x1 or 2x1x5. the above shape 3x3 is not relevent that is why \u001b[39;00m\n\u001b[1;32m      3\u001b[0m \u001b[38;5;66;03m# it will throw an error\u001b[39;00m\n",
      "\u001b[0;31mValueError\u001b[0m: cannot reshape array of size 10 into shape (3,3)"
     ]
    }
   ],
   "source": [
    "new_a = a.reshape(3, 3) # since we have 10 elements in the array so the shape should corresponding to number of elements\n",
    "# since there are 10 elements shape should be 2x5 or 5x2 or 10x1 or 2x1x5. the above shape 3x3 is not relevent that is why \n",
    "# it will throw an error"
   ]
  },
  {
   "cell_type": "code",
   "execution_count": 68,
   "id": "4c97f15d-4628-4308-85b4-f7e50f2d8b4b",
   "metadata": {},
   "outputs": [],
   "source": [
    "new_a = a. reshape(2, 1, 5)"
   ]
  },
  {
   "cell_type": "code",
   "execution_count": 69,
   "id": "658e3fef-078b-45f6-a29b-7db73f700de1",
   "metadata": {},
   "outputs": [
    {
     "data": {
      "text/plain": [
       "array([[[ 1,  2,  3,  4,  5]],\n",
       "\n",
       "       [[ 6,  7,  8,  9, 10]]])"
      ]
     },
     "execution_count": 69,
     "metadata": {},
     "output_type": "execute_result"
    }
   ],
   "source": [
    "new_a"
   ]
  },
  {
   "cell_type": "code",
   "execution_count": 70,
   "id": "d9c960e2-6a9e-4c7c-9410-b50bb2c0aca1",
   "metadata": {},
   "outputs": [],
   "source": [
    "new_a_2 = a.reshape(5, 2)"
   ]
  },
  {
   "cell_type": "code",
   "execution_count": 71,
   "id": "765f5846-f97c-4766-9f22-52d551a0381f",
   "metadata": {},
   "outputs": [
    {
     "data": {
      "text/plain": [
       "array([[ 1,  2],\n",
       "       [ 3,  4],\n",
       "       [ 5,  6],\n",
       "       [ 7,  8],\n",
       "       [ 9, 10]])"
      ]
     },
     "execution_count": 71,
     "metadata": {},
     "output_type": "execute_result"
    }
   ],
   "source": [
    "new_a_2"
   ]
  },
  {
   "cell_type": "code",
   "execution_count": 83,
   "id": "5728e7a7-03a7-4b95-ab52-4cfe8e86bc23",
   "metadata": {},
   "outputs": [
    {
     "data": {
      "text/plain": [
       "(5, 2)"
      ]
     },
     "execution_count": 83,
     "metadata": {},
     "output_type": "execute_result"
    }
   ],
   "source": [
    "new_a_2.shape"
   ]
  },
  {
   "cell_type": "code",
   "execution_count": 72,
   "id": "169fea31-6dfa-45ba-b0e8-78076d8bff25",
   "metadata": {},
   "outputs": [],
   "source": [
    "new_a_1 = a.reshape(5, 2)"
   ]
  },
  {
   "cell_type": "markdown",
   "id": "0c0ada21-7400-4557-b65a-6f9fca92d9f7",
   "metadata": {},
   "source": [
    "<h3>Numpy joining</h3>\n",
    "\n",
    "* it menas that combining two array into one array and storing it in another"
   ]
  },
  {
   "cell_type": "code",
   "execution_count": 73,
   "id": "e0e2ab9c-811a-4646-8797-a6694c919531",
   "metadata": {},
   "outputs": [
    {
     "data": {
      "text/plain": [
       "array([ 1,  2,  3,  4,  5,  6,  7,  8,  9, 10])"
      ]
     },
     "execution_count": 73,
     "metadata": {},
     "output_type": "execute_result"
    }
   ],
   "source": [
    "a"
   ]
  },
  {
   "cell_type": "code",
   "execution_count": 74,
   "id": "6ce32d4f-f2e9-44c5-b36b-c3b814c1efb7",
   "metadata": {},
   "outputs": [
    {
     "data": {
      "text/plain": [
       "array([11, 22,  3, 33,  5])"
      ]
     },
     "execution_count": 74,
     "metadata": {},
     "output_type": "execute_result"
    }
   ],
   "source": [
    "c"
   ]
  },
  {
   "cell_type": "code",
   "execution_count": 75,
   "id": "56676652-9f2e-48d5-8847-cbe40799f72f",
   "metadata": {},
   "outputs": [],
   "source": [
    "con = np.concatenate((a, c)) # we pass both array in concat function and this will return us a combination of the two array"
   ]
  },
  {
   "cell_type": "code",
   "execution_count": 76,
   "id": "8da8742f-1945-411f-bc58-a223ff991761",
   "metadata": {},
   "outputs": [
    {
     "data": {
      "text/plain": [
       "array([ 1,  2,  3,  4,  5,  6,  7,  8,  9, 10, 11, 22,  3, 33,  5])"
      ]
     },
     "execution_count": 76,
     "metadata": {},
     "output_type": "execute_result"
    }
   ],
   "source": [
    "con"
   ]
  },
  {
   "cell_type": "code",
   "execution_count": 77,
   "id": "c16fade6-8fc4-4193-9079-46d0c6986d1c",
   "metadata": {},
   "outputs": [
    {
     "data": {
      "text/plain": [
       "array([[ 1,  2],\n",
       "       [ 3,  4],\n",
       "       [ 5,  6],\n",
       "       [ 7,  8],\n",
       "       [ 9, 10]])"
      ]
     },
     "execution_count": 77,
     "metadata": {},
     "output_type": "execute_result"
    }
   ],
   "source": [
    "new_a_2"
   ]
  },
  {
   "cell_type": "code",
   "execution_count": 81,
   "id": "4e43cf96-9e38-4f1d-838c-f3b0a9ad0237",
   "metadata": {},
   "outputs": [],
   "source": [
    "new_a_1 = np.array(([[1], [2], [3], [4], [5]])) "
   ]
  },
  {
   "cell_type": "code",
   "execution_count": 82,
   "id": "f6fc1aef-3e69-4d49-8454-069d3c800b81",
   "metadata": {},
   "outputs": [
    {
     "data": {
      "text/plain": [
       "(5, 1)"
      ]
     },
     "execution_count": 82,
     "metadata": {},
     "output_type": "execute_result"
    }
   ],
   "source": [
    "new_a_1.shape"
   ]
  },
  {
   "cell_type": "code",
   "execution_count": 87,
   "id": "21a40b9e-2649-491f-a778-7ae7de4f2f1a",
   "metadata": {},
   "outputs": [],
   "source": [
    "# combining 2-D array\n",
    "\n",
    "con_1 = np.concatenate((new_a_2, new_a_1), axis=1) # in 2-D array we have to specifiy wether to combine via row or column\n",
    "# axis 0 represents row\n",
    "#axis 1 represents column\n",
    "# either the number of rows should be same or the number of columns\n",
    "# if number of rows are same and column are different then we concatinate it using column axis i.e. axis=1\n",
    "# if number of rows are different and column are same then we concatinate it using row axis i.e. axis=0"
   ]
  },
  {
   "cell_type": "code",
   "execution_count": 85,
   "id": "f44f1e1d-b818-4065-8372-5d433ef6daec",
   "metadata": {},
   "outputs": [
    {
     "data": {
      "text/plain": [
       "array([[ 1,  2,  1],\n",
       "       [ 3,  4,  2],\n",
       "       [ 5,  6,  3],\n",
       "       [ 7,  8,  4],\n",
       "       [ 9, 10,  5]])"
      ]
     },
     "execution_count": 85,
     "metadata": {},
     "output_type": "execute_result"
    }
   ],
   "source": [
    "con_1 #in this the number of rows were same but the no of columns were different and when concatinated them and the \n",
    "#additional columns were added"
   ]
  },
  {
   "cell_type": "code",
   "execution_count": 88,
   "id": "fdc561b4-7ae6-4d48-a959-3d846074a0d5",
   "metadata": {},
   "outputs": [],
   "source": [
    "test = np.array(([[1, 2], [3, 4]]))"
   ]
  },
  {
   "cell_type": "code",
   "execution_count": 89,
   "id": "5ec1458f-3e82-41ee-905e-c024b3f4bdf2",
   "metadata": {},
   "outputs": [
    {
     "data": {
      "text/plain": [
       "(2, 2)"
      ]
     },
     "execution_count": 89,
     "metadata": {},
     "output_type": "execute_result"
    }
   ],
   "source": [
    "test.shape"
   ]
  },
  {
   "cell_type": "code",
   "execution_count": 90,
   "id": "e87aec00-b462-41a7-81fd-ecdfcd5dea57",
   "metadata": {},
   "outputs": [],
   "source": [
    "con_2 = np.concatenate((new_a_2, test), axis=0)"
   ]
  },
  {
   "cell_type": "code",
   "execution_count": 91,
   "id": "231105a1-6da3-41ab-a72a-335d011f8a7e",
   "metadata": {},
   "outputs": [
    {
     "data": {
      "text/plain": [
       "array([[ 1,  2],\n",
       "       [ 3,  4],\n",
       "       [ 5,  6],\n",
       "       [ 7,  8],\n",
       "       [ 9, 10],\n",
       "       [ 1,  2],\n",
       "       [ 3,  4]])"
      ]
     },
     "execution_count": 91,
     "metadata": {},
     "output_type": "execute_result"
    }
   ],
   "source": [
    "con_2\n",
    "#in this the number of columns were same but the no of rows were different and when concatinated them and since the no of\n",
    "# row,s were different it concatinated to form rows``"
   ]
  },
  {
   "cell_type": "code",
   "execution_count": 101,
   "id": "5740ff26-cd06-46c3-86bf-c3f9d2954d6a",
   "metadata": {},
   "outputs": [],
   "source": [
    "#joining using stack function\n",
    "# unlike concatinate function stack function concatinates on a axis\n",
    "# if the axis is not passed it is by default taken as 0"
   ]
  },
  {
   "cell_type": "code",
   "execution_count": 102,
   "id": "c9faff86-e16a-42cf-81bf-5a8db7aa5b4b",
   "metadata": {},
   "outputs": [],
   "source": [
    "a_1 = np.array(([44, 55, 66, 77, 88]))"
   ]
  },
  {
   "cell_type": "code",
   "execution_count": 103,
   "id": "ae9d0630-771e-4d51-8c60-bbd23e5c21f8",
   "metadata": {},
   "outputs": [
    {
     "data": {
      "text/plain": [
       "array([44, 55, 66, 77, 88])"
      ]
     },
     "execution_count": 103,
     "metadata": {},
     "output_type": "execute_result"
    }
   ],
   "source": [
    "a_1"
   ]
  },
  {
   "cell_type": "code",
   "execution_count": 104,
   "id": "8f1eb9e2-51c9-4e73-ad1c-2f41167e271a",
   "metadata": {},
   "outputs": [
    {
     "data": {
      "text/plain": [
       "array([11, 22,  3, 33,  5])"
      ]
     },
     "execution_count": 104,
     "metadata": {},
     "output_type": "execute_result"
    }
   ],
   "source": [
    "c"
   ]
  },
  {
   "cell_type": "code",
   "execution_count": 106,
   "id": "3c27995c-3c74-4f0a-9d6d-2b0f26809d40",
   "metadata": {},
   "outputs": [],
   "source": [
    "c_1 = np.stack((c, a_1))"
   ]
  },
  {
   "cell_type": "code",
   "execution_count": 107,
   "id": "a5cd83fd-e045-4aa6-ade2-208ccedadf2a",
   "metadata": {},
   "outputs": [
    {
     "data": {
      "text/plain": [
       "array([[11, 22,  3, 33,  5],\n",
       "       [44, 55, 66, 77, 88]])"
      ]
     },
     "execution_count": 107,
     "metadata": {},
     "output_type": "execute_result"
    }
   ],
   "source": [
    "c_1"
   ]
  },
  {
   "cell_type": "code",
   "execution_count": 109,
   "id": "974074e6-b9dc-4e58-b477-d91ef664a5c3",
   "metadata": {},
   "outputs": [],
   "source": [
    "c_2 = np.stack((c, a_1), axis=1) "
   ]
  },
  {
   "cell_type": "code",
   "execution_count": 111,
   "id": "ce00083b-78fe-4f30-959f-3b2f823a9886",
   "metadata": {},
   "outputs": [
    {
     "data": {
      "text/plain": [
       "array([[11, 44],\n",
       "       [22, 55],\n",
       "       [ 3, 66],\n",
       "       [33, 77],\n",
       "       [ 5, 88]])"
      ]
     },
     "execution_count": 111,
     "metadata": {},
     "output_type": "execute_result"
    }
   ],
   "source": [
    "c_2 # as in the output the stack function has concatinated the two row arrays in column fasion and given the result"
   ]
  },
  {
   "cell_type": "markdown",
   "id": "dedb7d7d-97eb-4756-9346-a10618c5a709",
   "metadata": {},
   "source": [
    "<h3>splitting array</h3>\n",
    "\n",
    "* there are multiole split functions in numpy\n",
    "\n",
    "* split(), array_split(), hsplit(), vsplit()\n",
    "\n",
    "* in the function we pass the array to be split and the number of times to split it\n",
    "\n",
    "* it will return us an array which contains split array in it"
   ]
  },
  {
   "cell_type": "code",
   "execution_count": 112,
   "id": "6a9ca213-49da-406e-8c9a-e5f774ee41dc",
   "metadata": {},
   "outputs": [
    {
     "data": {
      "text/plain": [
       "array([ 1,  2,  3,  4,  5,  6,  7,  8,  9, 10])"
      ]
     },
     "execution_count": 112,
     "metadata": {},
     "output_type": "execute_result"
    }
   ],
   "source": [
    "a"
   ]
  },
  {
   "cell_type": "code",
   "execution_count": 113,
   "id": "5d61d2d7-f767-4bfc-be03-0b856ce1dd1f",
   "metadata": {},
   "outputs": [],
   "source": [
    "spl = np.split(a, 5)"
   ]
  },
  {
   "cell_type": "code",
   "execution_count": 114,
   "id": "e01838a6-0c0a-446e-bec7-2f1b835f48d6",
   "metadata": {},
   "outputs": [
    {
     "data": {
      "text/plain": [
       "[array([1, 2]), array([3, 4]), array([5, 6]), array([7, 8]), array([ 9, 10])]"
      ]
     },
     "execution_count": 114,
     "metadata": {},
     "output_type": "execute_result"
    }
   ],
   "source": [
    "spl"
   ]
  },
  {
   "cell_type": "code",
   "execution_count": 115,
   "id": "c0aeb469-81db-4a86-acb4-0d290d48342c",
   "metadata": {},
   "outputs": [],
   "source": [
    "# if we pass a split that is different like 6 there are not wnough numbers to perform this split\n",
    "# in perfect values here split function will give an error here we cn use array split function \n",
    "# array_split function will compensate for the missing values on its own"
   ]
  },
  {
   "cell_type": "code",
   "execution_count": 117,
   "id": "b06f1f2c-1899-4232-bd9f-1929de71889c",
   "metadata": {},
   "outputs": [
    {
     "ename": "ValueError",
     "evalue": "array split does not result in an equal division",
     "output_type": "error",
     "traceback": [
      "\u001b[0;31m---------------------------------------------------------------------------\u001b[0m",
      "\u001b[0;31mValueError\u001b[0m                                Traceback (most recent call last)",
      "Cell \u001b[0;32mIn [117], line 1\u001b[0m\n\u001b[0;32m----> 1\u001b[0m spl_1 \u001b[38;5;241m=\u001b[39m \u001b[43mnp\u001b[49m\u001b[38;5;241;43m.\u001b[39;49m\u001b[43msplit\u001b[49m\u001b[43m(\u001b[49m\u001b[43ma\u001b[49m\u001b[43m,\u001b[49m\u001b[43m \u001b[49m\u001b[38;5;241;43m6\u001b[39;49m\u001b[43m)\u001b[49m \u001b[38;5;66;03m# because there cannot be equal divisions the function returns an error\u001b[39;00m\n",
      "File \u001b[0;32m<__array_function__ internals>:180\u001b[0m, in \u001b[0;36msplit\u001b[0;34m(*args, **kwargs)\u001b[0m\n",
      "File \u001b[0;32m~/.local/lib/python3.10/site-packages/numpy/lib/shape_base.py:872\u001b[0m, in \u001b[0;36msplit\u001b[0;34m(ary, indices_or_sections, axis)\u001b[0m\n\u001b[1;32m    870\u001b[0m     N \u001b[38;5;241m=\u001b[39m ary\u001b[38;5;241m.\u001b[39mshape[axis]\n\u001b[1;32m    871\u001b[0m     \u001b[38;5;28;01mif\u001b[39;00m N \u001b[38;5;241m%\u001b[39m sections:\n\u001b[0;32m--> 872\u001b[0m         \u001b[38;5;28;01mraise\u001b[39;00m \u001b[38;5;167;01mValueError\u001b[39;00m(\n\u001b[1;32m    873\u001b[0m             \u001b[38;5;124m'\u001b[39m\u001b[38;5;124marray split does not result in an equal division\u001b[39m\u001b[38;5;124m'\u001b[39m) \u001b[38;5;28;01mfrom\u001b[39;00m \u001b[38;5;28mNone\u001b[39m\n\u001b[1;32m    874\u001b[0m \u001b[38;5;28;01mreturn\u001b[39;00m array_split(ary, indices_or_sections, axis)\n",
      "\u001b[0;31mValueError\u001b[0m: array split does not result in an equal division"
     ]
    }
   ],
   "source": [
    "spl_1 = np.split(a, 6) # because there cannot be equal divisions the function returns an error"
   ]
  },
  {
   "cell_type": "code",
   "execution_count": 118,
   "id": "688d75d1-8d35-410f-af02-4830703a1b81",
   "metadata": {},
   "outputs": [],
   "source": [
    "spl_1 = np.array_split(a, 6) # this function will componsate the missing values and give us a split"
   ]
  },
  {
   "cell_type": "code",
   "execution_count": 120,
   "id": "4b5405dc-736b-4c1f-aaaf-a87906592473",
   "metadata": {},
   "outputs": [
    {
     "data": {
      "text/plain": [
       "[array([1, 2]),\n",
       " array([3, 4]),\n",
       " array([5, 6]),\n",
       " array([7, 8]),\n",
       " array([9]),\n",
       " array([10])]"
      ]
     },
     "execution_count": 120,
     "metadata": {},
     "output_type": "execute_result"
    }
   ],
   "source": [
    "spl_1 # array_split function performs the split and to componsate it splits the last two values in single array\n",
    "# to complwte the split"
   ]
  },
  {
   "cell_type": "code",
   "execution_count": null,
   "id": "b7abfa9e-5242-40d4-ba19-03fc93c9a04d",
   "metadata": {},
   "outputs": [],
   "source": []
  },
  {
   "cell_type": "code",
   "execution_count": 122,
   "id": "49180d55-512b-4acc-af33-190dac667700",
   "metadata": {},
   "outputs": [
    {
     "ename": "IndexError",
     "evalue": "tuple index out of range",
     "output_type": "error",
     "traceback": [
      "\u001b[0;31m---------------------------------------------------------------------------\u001b[0m",
      "\u001b[0;31mTypeError\u001b[0m                                 Traceback (most recent call last)",
      "File \u001b[0;32m~/.local/lib/python3.10/site-packages/numpy/lib/shape_base.py:867\u001b[0m, in \u001b[0;36msplit\u001b[0;34m(ary, indices_or_sections, axis)\u001b[0m\n\u001b[1;32m    866\u001b[0m \u001b[38;5;28;01mtry\u001b[39;00m:\n\u001b[0;32m--> 867\u001b[0m     \u001b[38;5;28;43mlen\u001b[39;49m\u001b[43m(\u001b[49m\u001b[43mindices_or_sections\u001b[49m\u001b[43m)\u001b[49m\n\u001b[1;32m    868\u001b[0m \u001b[38;5;28;01mexcept\u001b[39;00m \u001b[38;5;167;01mTypeError\u001b[39;00m:\n",
      "\u001b[0;31mTypeError\u001b[0m: object of type 'int' has no len()",
      "\nDuring handling of the above exception, another exception occurred:\n",
      "\u001b[0;31mIndexError\u001b[0m                                Traceback (most recent call last)",
      "Cell \u001b[0;32mIn [122], line 3\u001b[0m\n\u001b[1;32m      1\u001b[0m \u001b[38;5;66;03m# we can perform split based on axis also\u001b[39;00m\n\u001b[0;32m----> 3\u001b[0m spl_2 \u001b[38;5;241m=\u001b[39m \u001b[43mnp\u001b[49m\u001b[38;5;241;43m.\u001b[39;49m\u001b[43msplit\u001b[49m\u001b[43m(\u001b[49m\u001b[43ma\u001b[49m\u001b[43m,\u001b[49m\u001b[43m \u001b[49m\u001b[38;5;241;43m2\u001b[39;49m\u001b[43m,\u001b[49m\u001b[43m \u001b[49m\u001b[43maxis\u001b[49m\u001b[38;5;241;43m=\u001b[39;49m\u001b[38;5;241;43m1\u001b[39;49m\u001b[43m)\u001b[49m\n\u001b[1;32m      4\u001b[0m \u001b[38;5;66;03m# since a is a 1-D array it threw an error\u001b[39;00m\n",
      "File \u001b[0;32m<__array_function__ internals>:180\u001b[0m, in \u001b[0;36msplit\u001b[0;34m(*args, **kwargs)\u001b[0m\n",
      "File \u001b[0;32m~/.local/lib/python3.10/site-packages/numpy/lib/shape_base.py:870\u001b[0m, in \u001b[0;36msplit\u001b[0;34m(ary, indices_or_sections, axis)\u001b[0m\n\u001b[1;32m    868\u001b[0m \u001b[38;5;28;01mexcept\u001b[39;00m \u001b[38;5;167;01mTypeError\u001b[39;00m:\n\u001b[1;32m    869\u001b[0m     sections \u001b[38;5;241m=\u001b[39m indices_or_sections\n\u001b[0;32m--> 870\u001b[0m     N \u001b[38;5;241m=\u001b[39m \u001b[43mary\u001b[49m\u001b[38;5;241;43m.\u001b[39;49m\u001b[43mshape\u001b[49m\u001b[43m[\u001b[49m\u001b[43maxis\u001b[49m\u001b[43m]\u001b[49m\n\u001b[1;32m    871\u001b[0m     \u001b[38;5;28;01mif\u001b[39;00m N \u001b[38;5;241m%\u001b[39m sections:\n\u001b[1;32m    872\u001b[0m         \u001b[38;5;28;01mraise\u001b[39;00m \u001b[38;5;167;01mValueError\u001b[39;00m(\n\u001b[1;32m    873\u001b[0m             \u001b[38;5;124m'\u001b[39m\u001b[38;5;124marray split does not result in an equal division\u001b[39m\u001b[38;5;124m'\u001b[39m) \u001b[38;5;28;01mfrom\u001b[39;00m \u001b[38;5;28mNone\u001b[39m\n",
      "\u001b[0;31mIndexError\u001b[0m: tuple index out of range"
     ]
    }
   ],
   "source": [
    "# we can perform split based on axis also\n",
    "\n",
    "spl_2 = np.split(a, 2, axis=1)\n",
    "# since a is a 1-D array it threw an error"
   ]
  },
  {
   "cell_type": "code",
   "execution_count": 123,
   "id": "e15af562-76a0-4e7a-9a0c-e64f78793187",
   "metadata": {},
   "outputs": [
    {
     "data": {
      "text/plain": [
       "array([[ 1,  2,  3,  4,  5],\n",
       "       [ 6,  7,  8,  9, 10]])"
      ]
     },
     "execution_count": 123,
     "metadata": {},
     "output_type": "execute_result"
    }
   ],
   "source": [
    "d"
   ]
  },
  {
   "cell_type": "code",
   "execution_count": 148,
   "id": "50f0d30c-3970-4a1d-9cab-1c0bc59669d2",
   "metadata": {},
   "outputs": [],
   "source": [
    "spl_2 = np.split(d, 5, axis=1)"
   ]
  },
  {
   "cell_type": "code",
   "execution_count": 125,
   "id": "796a8f67-cb9e-455d-93ad-1f88297f29c5",
   "metadata": {},
   "outputs": [
    {
     "data": {
      "text/plain": [
       "[array([[1],\n",
       "        [6]]),\n",
       " array([[2],\n",
       "        [7]]),\n",
       " array([[3],\n",
       "        [8]]),\n",
       " array([[4],\n",
       "        [9]]),\n",
       " array([[ 5],\n",
       "        [10]])]"
      ]
     },
     "execution_count": 125,
     "metadata": {},
     "output_type": "execute_result"
    }
   ],
   "source": [
    "spl_2"
   ]
  },
  {
   "cell_type": "code",
   "execution_count": 128,
   "id": "75234401-6f74-4a66-898f-989bde49a600",
   "metadata": {},
   "outputs": [],
   "source": [
    "spl_3 = np.array_split(d, 4, axis=1)"
   ]
  },
  {
   "cell_type": "code",
   "execution_count": 129,
   "id": "2f5b4a37-0f35-4968-a029-24fbcdeddeb8",
   "metadata": {},
   "outputs": [
    {
     "data": {
      "text/plain": [
       "[array([[1, 2],\n",
       "        [6, 7]]),\n",
       " array([[3],\n",
       "        [8]]),\n",
       " array([[4],\n",
       "        [9]]),\n",
       " array([[ 5],\n",
       "        [10]])]"
      ]
     },
     "execution_count": 129,
     "metadata": {},
     "output_type": "execute_result"
    }
   ],
   "source": [
    "spl_3"
   ]
  },
  {
   "cell_type": "code",
   "execution_count": 145,
   "id": "5bae26f7-1ef1-4a8a-9169-7978de13cc52",
   "metadata": {},
   "outputs": [],
   "source": [
    "# hsplit splits according to 1 axis\n",
    "# just like split it doenot componsate for less values\n",
    "spl_4 = np.hsplit(d, 5)"
   ]
  },
  {
   "cell_type": "code",
   "execution_count": 146,
   "id": "e1e73220-f142-4120-ae24-8f99e0c19f53",
   "metadata": {},
   "outputs": [
    {
     "data": {
      "text/plain": [
       "[array([[1],\n",
       "        [6]]),\n",
       " array([[2],\n",
       "        [7]]),\n",
       " array([[3],\n",
       "        [8]]),\n",
       " array([[4],\n",
       "        [9]]),\n",
       " array([[ 5],\n",
       "        [10]])]"
      ]
     },
     "execution_count": 146,
     "metadata": {},
     "output_type": "execute_result"
    }
   ],
   "source": [
    "spl_4"
   ]
  },
  {
   "cell_type": "code",
   "execution_count": 142,
   "id": "1a21cdea-bb9e-418e-9c8c-800c44a0b6b0",
   "metadata": {},
   "outputs": [
    {
     "data": {
      "text/plain": [
       "array([[ 1,  2,  1],\n",
       "       [ 3,  4,  2],\n",
       "       [ 5,  6,  3],\n",
       "       [ 7,  8,  4],\n",
       "       [ 9, 10,  5]])"
      ]
     },
     "execution_count": 142,
     "metadata": {},
     "output_type": "execute_result"
    }
   ],
   "source": [
    "con_1"
   ]
  },
  {
   "cell_type": "code",
   "execution_count": 149,
   "id": "164ce187-8e86-43a2-b3a5-902d39ecf101",
   "metadata": {},
   "outputs": [],
   "source": [
    "# vsplit splits based on row\n",
    "spl_5 = np.vsplit(con_1, 5)"
   ]
  },
  {
   "cell_type": "code",
   "execution_count": 150,
   "id": "23789d75-1aeb-4713-b129-c165e32bff3b",
   "metadata": {},
   "outputs": [
    {
     "data": {
      "text/plain": [
       "[array([[1, 2, 1]]),\n",
       " array([[3, 4, 2]]),\n",
       " array([[5, 6, 3]]),\n",
       " array([[7, 8, 4]]),\n",
       " array([[ 9, 10,  5]])]"
      ]
     },
     "execution_count": 150,
     "metadata": {},
     "output_type": "execute_result"
    }
   ],
   "source": [
    "spl_5"
   ]
  },
  {
   "cell_type": "markdown",
   "id": "cf251bfe-8529-426c-9ba5-1312797790a3",
   "metadata": {},
   "source": [
    "<h3> array sorting</h3>\n",
    "\n",
    "* sort function is used to get a sorted array \n",
    "\n",
    "* sort function just returns the copy of the array and leaves the original the same\n"
   ]
  },
  {
   "cell_type": "code",
   "execution_count": 153,
   "id": "4982e542-218a-4ae0-8367-0b820a4e30fa",
   "metadata": {},
   "outputs": [
    {
     "data": {
      "text/plain": [
       "array([11, 22,  3, 33,  5])"
      ]
     },
     "execution_count": 153,
     "metadata": {},
     "output_type": "execute_result"
    }
   ],
   "source": [
    "c"
   ]
  },
  {
   "cell_type": "code",
   "execution_count": 154,
   "id": "a8ee7e65-d0a6-4702-814d-a0b5efc6683b",
   "metadata": {},
   "outputs": [
    {
     "name": "stdout",
     "output_type": "stream",
     "text": [
      "[ 3  5 11 22 33]\n"
     ]
    }
   ],
   "source": [
    "print(np.sort(c)) # the sorted array has been printed "
   ]
  },
  {
   "cell_type": "code",
   "execution_count": 156,
   "id": "cea3f7d1-f685-4652-8cee-5814baffb374",
   "metadata": {},
   "outputs": [
    {
     "data": {
      "text/plain": [
       "array([11, 22,  3, 33,  5])"
      ]
     },
     "execution_count": 156,
     "metadata": {},
     "output_type": "execute_result"
    }
   ],
   "source": [
    "c # the original array is uneffected"
   ]
  },
  {
   "cell_type": "code",
   "execution_count": 157,
   "id": "6452e929-02ab-41c3-97eb-e47025e3e821",
   "metadata": {},
   "outputs": [
    {
     "data": {
      "text/plain": [
       "array([[ 1,  2,  1],\n",
       "       [ 3,  4,  2],\n",
       "       [ 5,  6,  3],\n",
       "       [ 7,  8,  4],\n",
       "       [ 9, 10,  5]])"
      ]
     },
     "execution_count": 157,
     "metadata": {},
     "output_type": "execute_result"
    }
   ],
   "source": [
    "con_1"
   ]
  },
  {
   "cell_type": "code",
   "execution_count": 160,
   "id": "ff091a9d-82b0-4989-a311-fa05a9a6538d",
   "metadata": {},
   "outputs": [
    {
     "name": "stdout",
     "output_type": "stream",
     "text": [
      "[[ 1  1  2]\n",
      " [ 2  3  4]\n",
      " [ 3  5  6]\n",
      " [ 4  7  8]\n",
      " [ 5  9 10]]\n"
     ]
    }
   ],
   "source": [
    "# sorting 2-D array\n",
    "\n",
    "print(np.sort(con_1)) # in 2-D array each array inside will be sorted seperately "
   ]
  },
  {
   "cell_type": "markdown",
   "id": "531c7dcc-50f9-4bd6-bd0a-a586ea844a5b",
   "metadata": {},
   "source": [
    "<h3> Array filter</h3>\n",
    "\n",
    "* array filter means to form a array suing specific values from another array\n",
    "\n",
    "* it is done using true false list"
   ]
  },
  {
   "cell_type": "code",
   "execution_count": 161,
   "id": "2d81389f-c583-4786-a906-97f1de7161cf",
   "metadata": {},
   "outputs": [
    {
     "data": {
      "text/plain": [
       "array([11, 22,  3, 33,  5])"
      ]
     },
     "execution_count": 161,
     "metadata": {},
     "output_type": "execute_result"
    }
   ],
   "source": [
    "c"
   ]
  },
  {
   "cell_type": "code",
   "execution_count": 162,
   "id": "00e2c7be-a9c4-4093-8349-ee4e082e47b4",
   "metadata": {},
   "outputs": [],
   "source": [
    "fil = [True, True, False, True, False]"
   ]
  },
  {
   "cell_type": "code",
   "execution_count": 165,
   "id": "eb696477-283f-4fa9-ad8f-471d3f4365cf",
   "metadata": {},
   "outputs": [],
   "source": [
    "filtered_array = c[fil]"
   ]
  },
  {
   "cell_type": "code",
   "execution_count": 166,
   "id": "975041d1-cff1-4181-8f5b-a07035932597",
   "metadata": {},
   "outputs": [
    {
     "data": {
      "text/plain": [
       "array([11, 22, 33])"
      ]
     },
     "execution_count": 166,
     "metadata": {},
     "output_type": "execute_result"
    }
   ],
   "source": [
    "filtered_array # the values that are true has been stored and rest have been deducted"
   ]
  },
  {
   "cell_type": "code",
   "execution_count": 169,
   "id": "aded7d4e-ec91-43ea-85f6-39cfa0f9fd46",
   "metadata": {},
   "outputs": [],
   "source": [
    "# creating firter list from the array itself using conditional operator\n",
    "\n",
    "fil_1 = c > 10"
   ]
  },
  {
   "cell_type": "code",
   "execution_count": 171,
   "id": "a1dcebae-cafc-44d5-8394-0f0b845abae1",
   "metadata": {},
   "outputs": [
    {
     "data": {
      "text/plain": [
       "array([ True,  True, False,  True, False])"
      ]
     },
     "execution_count": 171,
     "metadata": {},
     "output_type": "execute_result"
    }
   ],
   "source": [
    "fil_1 # the true false list has been created directly from the array"
   ]
  },
  {
   "cell_type": "code",
   "execution_count": null,
   "id": "75414bb4-b827-4519-9231-0a8bd1fb2b65",
   "metadata": {},
   "outputs": [],
   "source": []
  }
 ],
 "metadata": {
  "kernelspec": {
   "display_name": "Python 3 (ipykernel)",
   "language": "python",
   "name": "python3"
  },
  "language_info": {
   "codemirror_mode": {
    "name": "ipython",
    "version": 3
   },
   "file_extension": ".py",
   "mimetype": "text/x-python",
   "name": "python",
   "nbconvert_exporter": "python",
   "pygments_lexer": "ipython3",
   "version": "3.10.6"
  }
 },
 "nbformat": 4,
 "nbformat_minor": 5
}
