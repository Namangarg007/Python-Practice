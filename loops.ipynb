{
 "cells": [
  {
   "cell_type": "markdown",
   "id": "a151cc10-1ada-4880-bd31-6b3ac7d21403",
   "metadata": {
    "tags": []
   },
   "source": [
    "<h2>While</h2>"
   ]
  },
  {
   "cell_type": "code",
   "execution_count": 6,
   "id": "b482a135-37cc-47e4-9550-3b6f81ba6f62",
   "metadata": {},
   "outputs": [
    {
     "name": "stdout",
     "output_type": "stream",
     "text": [
      "1 2 3 4 5 6 7 8 9 "
     ]
    }
   ],
   "source": [
    "i = 10\n",
    "j = 1\n",
    "while i > j:\n",
    "    print(j, end=' ')#end is a value inside print function by default it is defined as next line i.e. \\n\n",
    "    j += 1 #value increment without this the loop will run infinitly"
   ]
  },
  {
   "cell_type": "code",
   "execution_count": 8,
   "id": "89dbfa5c-e125-4b5b-9374-29b436bd3e02",
   "metadata": {},
   "outputs": [
    {
     "name": "stdout",
     "output_type": "stream",
     "text": [
      "1 2 3 4 5 6 7 8 9 j is no longer shorter than i\n"
     ]
    }
   ],
   "source": [
    "i = 10\n",
    "j = 1\n",
    "while i > j:\n",
    "    print(j, end=' ')\n",
    "    j += 1\n",
    "else:\n",
    "    print('j is no longer shorter than i') #this else will run when the loop condition becomes wrong"
   ]
  },
  {
   "cell_type": "code",
   "execution_count": 10,
   "id": "6db41690-076b-4bdd-a27b-58a5af634201",
   "metadata": {},
   "outputs": [
    {
     "name": "stdout",
     "output_type": "stream",
     "text": [
      "1 2 3 4 5 "
     ]
    }
   ],
   "source": [
    "i = 10\n",
    "j = 1\n",
    "while i > j:\n",
    "    \n",
    "    if j == 6:\n",
    "        break #when the if condition is satisfied then break will terminate the loop\n",
    "    print(j, end=' ')\n",
    "    j += 1"
   ]
  },
  {
   "cell_type": "code",
   "execution_count": 11,
   "id": "3d31cc16-67b0-4b86-a730-5d8f0e6886dd",
   "metadata": {},
   "outputs": [
    {
     "name": "stdout",
     "output_type": "stream",
     "text": [
      "1 2 3 4 5 7 8 9 10 "
     ]
    }
   ],
   "source": [
    "i = 10\n",
    "j = 0\n",
    "while i > j:\n",
    "    \n",
    "    j += 1\n",
    "    if j == 6:\n",
    "        continue #when if condition is satisfied continue will return the control to loop condition and will skip rest of the comands below\n",
    "    \n",
    "    print(j, end=' ')\n",
    "    "
   ]
  },
  {
   "cell_type": "markdown",
   "id": "ce132b0e-2947-45de-ba7d-d1617db144bc",
   "metadata": {},
   "source": [
    "<h2>For loop</h2>"
   ]
  },
  {
   "cell_type": "code",
   "execution_count": 20,
   "id": "4062702d-b98c-491e-96c0-ffa298143abb",
   "metadata": {},
   "outputs": [],
   "source": [
    "num = [ 1, 5, 2, 3, 5, 6 ]"
   ]
  },
  {
   "cell_type": "code",
   "execution_count": 21,
   "id": "07505915-bce9-49c9-a09f-c18b7f360fd0",
   "metadata": {},
   "outputs": [
    {
     "data": {
      "text/plain": [
       "[1, 5, 2, 3, 5, 6]"
      ]
     },
     "execution_count": 21,
     "metadata": {},
     "output_type": "execute_result"
    }
   ],
   "source": [
    "num"
   ]
  },
  {
   "cell_type": "code",
   "execution_count": 23,
   "id": "6963b659-99f2-44ee-b8ad-bc7303c36667",
   "metadata": {},
   "outputs": [
    {
     "name": "stdout",
     "output_type": "stream",
     "text": [
      "1  5  2  3  5  6  "
     ]
    }
   ],
   "source": [
    "for i in num:\n",
    "    print(i, end='  ')"
   ]
  },
  {
   "cell_type": "code",
   "execution_count": 25,
   "id": "5681219a-5b91-4758-adec-336511a14b0d",
   "metadata": {},
   "outputs": [
    {
     "name": "stdout",
     "output_type": "stream",
     "text": [
      "0  1  2  3  4  5  6  7  8  9  "
     ]
    }
   ],
   "source": [
    "for x in range(10):\n",
    "    print(x, end='  ')"
   ]
  },
  {
   "cell_type": "code",
   "execution_count": 27,
   "id": "0280258e-0c4f-4e88-9b02-9604dfccd334",
   "metadata": {},
   "outputs": [
    {
     "name": "stdout",
     "output_type": "stream",
     "text": [
      "1  3  5  7  9  "
     ]
    }
   ],
   "source": [
    "for x in range(1, 10, 2): #the last value in range represents incriment value i.e. next number will be previous no +2 by default it is +1\n",
    "    print(x, end='  ')"
   ]
  },
  {
   "cell_type": "code",
   "execution_count": 30,
   "id": "4d930b58-1217-40e1-b0a3-72996a67480c",
   "metadata": {},
   "outputs": [
    {
     "name": "stdout",
     "output_type": "stream",
     "text": [
      "0  1  2  3  4  5  6  7  8  9  End\n"
     ]
    }
   ],
   "source": [
    "for x in range(10):\n",
    "    print(x, end='  ')\n",
    "else:\n",
    "    print(\"End\")#if the loop is stopped using break then the else block will not execute"
   ]
  },
  {
   "cell_type": "code",
   "execution_count": 31,
   "id": "fc3892b8-0836-42cf-8372-0a4a5df63363",
   "metadata": {},
   "outputs": [],
   "source": [
    "for x in [0, 1, 2]:\n",
    "  pass\n",
    "#empty for loop"
   ]
  },
  {
   "cell_type": "code",
   "execution_count": null,
   "id": "5d1b51c2-7897-474e-9476-37b9de0967a0",
   "metadata": {},
   "outputs": [],
   "source": []
  }
 ],
 "metadata": {
  "kernelspec": {
   "display_name": "Python 3 (ipykernel)",
   "language": "python",
   "name": "python3"
  },
  "language_info": {
   "codemirror_mode": {
    "name": "ipython",
    "version": 3
   },
   "file_extension": ".py",
   "mimetype": "text/x-python",
   "name": "python",
   "nbconvert_exporter": "python",
   "pygments_lexer": "ipython3",
   "version": "3.10.6"
  }
 },
 "nbformat": 4,
 "nbformat_minor": 5
}
