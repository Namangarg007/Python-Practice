{
 "cells": [
  {
   "cell_type": "markdown",
   "id": "f39b533d-f7a2-4ea0-a424-802ce41ea982",
   "metadata": {},
   "source": [
    "<h2>Pandas</h2>"
   ]
  },
  {
   "cell_type": "code",
   "execution_count": 1,
   "id": "fc225ff4-2e58-4b16-9a8d-d3838ac131f1",
   "metadata": {},
   "outputs": [],
   "source": [
    "import pandas as pd"
   ]
  },
  {
   "cell_type": "markdown",
   "id": "4aba35b1-787f-40db-b457-3d22f688bcd0",
   "metadata": {},
   "source": [
    "<h3>series</h3>\n",
    "\n",
    "* single diamentional dataset is called series"
   ]
  },
  {
   "cell_type": "code",
   "execution_count": 7,
   "id": "46786693-a8f3-4333-80f4-ac693a871e73",
   "metadata": {},
   "outputs": [],
   "source": [
    "# panda series it is a column representation of 1-D array or list\n",
    "\n",
    "a = [10, 12, 13, 11, 14, 15]\n",
    "\n",
    "sr = pd.Series(a)"
   ]
  },
  {
   "cell_type": "code",
   "execution_count": 8,
   "id": "dccf193a-ab67-42b1-8a27-6d1236293f84",
   "metadata": {},
   "outputs": [
    {
     "data": {
      "text/plain": [
       "0    10\n",
       "1    12\n",
       "2    13\n",
       "3    11\n",
       "4    14\n",
       "5    15\n",
       "dtype: int64"
      ]
     },
     "execution_count": 8,
     "metadata": {},
     "output_type": "execute_result"
    }
   ],
   "source": [
    "sr"
   ]
  },
  {
   "cell_type": "code",
   "execution_count": 10,
   "id": "77f85a07-2666-45a6-bfc0-089d4122b43e",
   "metadata": {},
   "outputs": [
    {
     "data": {
      "text/plain": [
       "12"
      ]
     },
     "execution_count": 10,
     "metadata": {},
     "output_type": "execute_result"
    }
   ],
   "source": [
    "sr[1] # the label acts as the position of the value in the series and can be used to access it"
   ]
  },
  {
   "cell_type": "code",
   "execution_count": 12,
   "id": "d8628edd-f34f-4a09-82af-018b09451281",
   "metadata": {},
   "outputs": [],
   "source": [
    "# with index argument in the function we can add custom labels\n",
    "\n",
    "sr_1 = pd.Series(a, index=[1, 2, 3, 4, 5, 6])"
   ]
  },
  {
   "cell_type": "code",
   "execution_count": 13,
   "id": "4b32ac18-35e0-4a01-b758-950a66405894",
   "metadata": {},
   "outputs": [
    {
     "data": {
      "text/plain": [
       "1    10\n",
       "2    12\n",
       "3    13\n",
       "4    11\n",
       "5    14\n",
       "6    15\n",
       "dtype: int64"
      ]
     },
     "execution_count": 13,
     "metadata": {},
     "output_type": "execute_result"
    }
   ],
   "source": [
    "sr_1"
   ]
  },
  {
   "cell_type": "code",
   "execution_count": 14,
   "id": "b2dcd629-b8f6-48de-85b7-07e5ac05ba4f",
   "metadata": {},
   "outputs": [
    {
     "data": {
      "text/plain": [
       "10"
      ]
     },
     "execution_count": 14,
     "metadata": {},
     "output_type": "execute_result"
    }
   ],
   "source": [
    "sr_1[1]"
   ]
  },
  {
   "cell_type": "code",
   "execution_count": 18,
   "id": "5c12c78e-0fe5-4fdd-84c5-07f7f9d43409",
   "metadata": {},
   "outputs": [],
   "source": [
    "#dictionary can be used to create a series\n",
    "\n",
    "d = {\"company\":\"Rolls Royce\", \"model\":\"Phantom\", \"price\":\"60000000\"}\n",
    "\n",
    "sr_2 = pd.Series(d)"
   ]
  },
  {
   "cell_type": "code",
   "execution_count": 19,
   "id": "3fe80861-5e6b-44f0-8be1-b98c9af312f6",
   "metadata": {},
   "outputs": [
    {
     "data": {
      "text/plain": [
       "company    Rolls Royce\n",
       "model          Phantom\n",
       "price         60000000\n",
       "dtype: object"
      ]
     },
     "execution_count": 19,
     "metadata": {},
     "output_type": "execute_result"
    }
   ],
   "source": [
    "sr_2"
   ]
  },
  {
   "cell_type": "code",
   "execution_count": 23,
   "id": "799af8b5-9f17-4e5c-be4f-deeefe211cc0",
   "metadata": {},
   "outputs": [
    {
     "data": {
      "text/plain": [
       "'Rolls Royce'"
      ]
     },
     "execution_count": 23,
     "metadata": {},
     "output_type": "execute_result"
    }
   ],
   "source": [
    "sr_2.company"
   ]
  },
  {
   "cell_type": "code",
   "execution_count": 26,
   "id": "05095856-b4c4-47e3-938c-f0b2fc107728",
   "metadata": {},
   "outputs": [],
   "source": [
    "# speciding index in this case only the value present in the index will be added to the series\n",
    "sr_3 = pd.Series(d, index=[\"company\", \"model\"])"
   ]
  },
  {
   "cell_type": "code",
   "execution_count": 29,
   "id": "428ec88a-5c69-4553-ade8-8fc7354c6a6f",
   "metadata": {},
   "outputs": [
    {
     "data": {
      "text/plain": [
       "company    Rolls Royce\n",
       "model          Phantom\n",
       "dtype: object"
      ]
     },
     "execution_count": 29,
     "metadata": {},
     "output_type": "execute_result"
    }
   ],
   "source": [
    "sr_3 # only company and model were added not the price"
   ]
  },
  {
   "cell_type": "markdown",
   "id": "b23d0e72-ccef-4c36-acd2-cd6ad0e04d2b",
   "metadata": {},
   "source": [
    "<h3>Data Frame</h3>\n",
    "\n",
    "* 2-D data is called dataframe"
   ]
  },
  {
   "cell_type": "code",
   "execution_count": null,
   "id": "d4ede32d-30e8-45f0-9cf4-0d499412f9e3",
   "metadata": {},
   "outputs": [],
   "source": []
  },
  {
   "cell_type": "code",
   "execution_count": 2,
   "id": "2758bb89-b579-4057-ad7d-3c86e7a372c3",
   "metadata": {},
   "outputs": [],
   "source": [
    "mydataset = {\n",
    "  'cars': [\"BMW\", \"Volvo\", \"Ford\"],\n",
    "  'passings': [3, 7, 2]\n",
    "}"
   ]
  },
  {
   "cell_type": "code",
   "execution_count": 3,
   "id": "14f4f6d7-7e9d-4dd8-8ded-e1dfc8e55e23",
   "metadata": {},
   "outputs": [],
   "source": [
    "frame = pd.DataFrame(mydataset)"
   ]
  },
  {
   "cell_type": "code",
   "execution_count": 30,
   "id": "333962bb-943f-48a8-b0ee-ee90c6a66c2c",
   "metadata": {},
   "outputs": [
    {
     "data": {
      "text/html": [
       "<div>\n",
       "<style scoped>\n",
       "    .dataframe tbody tr th:only-of-type {\n",
       "        vertical-align: middle;\n",
       "    }\n",
       "\n",
       "    .dataframe tbody tr th {\n",
       "        vertical-align: top;\n",
       "    }\n",
       "\n",
       "    .dataframe thead th {\n",
       "        text-align: right;\n",
       "    }\n",
       "</style>\n",
       "<table border=\"1\" class=\"dataframe\">\n",
       "  <thead>\n",
       "    <tr style=\"text-align: right;\">\n",
       "      <th></th>\n",
       "      <th>cars</th>\n",
       "      <th>passings</th>\n",
       "    </tr>\n",
       "  </thead>\n",
       "  <tbody>\n",
       "    <tr>\n",
       "      <th>0</th>\n",
       "      <td>BMW</td>\n",
       "      <td>3</td>\n",
       "    </tr>\n",
       "    <tr>\n",
       "      <th>1</th>\n",
       "      <td>Volvo</td>\n",
       "      <td>7</td>\n",
       "    </tr>\n",
       "    <tr>\n",
       "      <th>2</th>\n",
       "      <td>Ford</td>\n",
       "      <td>2</td>\n",
       "    </tr>\n",
       "  </tbody>\n",
       "</table>\n",
       "</div>"
      ],
      "text/plain": [
       "    cars  passings\n",
       "0    BMW         3\n",
       "1  Volvo         7\n",
       "2   Ford         2"
      ]
     },
     "execution_count": 30,
     "metadata": {},
     "output_type": "execute_result"
    }
   ],
   "source": [
    "frame # using dataframe function conversion of the dictionary in the form of rows and columns to represent data"
   ]
  },
  {
   "cell_type": "code",
   "execution_count": 49,
   "id": "98eb6d5a-c2cc-4c1d-8e13-e186a23fedab",
   "metadata": {},
   "outputs": [
    {
     "data": {
      "text/html": [
       "<div>\n",
       "<style scoped>\n",
       "    .dataframe tbody tr th:only-of-type {\n",
       "        vertical-align: middle;\n",
       "    }\n",
       "\n",
       "    .dataframe tbody tr th {\n",
       "        vertical-align: top;\n",
       "    }\n",
       "\n",
       "    .dataframe thead th {\n",
       "        text-align: right;\n",
       "    }\n",
       "</style>\n",
       "<table border=\"1\" class=\"dataframe\">\n",
       "  <thead>\n",
       "    <tr style=\"text-align: right;\">\n",
       "      <th></th>\n",
       "      <th>cars</th>\n",
       "      <th>passings</th>\n",
       "    </tr>\n",
       "  </thead>\n",
       "  <tbody>\n",
       "    <tr>\n",
       "      <th>1</th>\n",
       "      <td>Volvo</td>\n",
       "      <td>7</td>\n",
       "    </tr>\n",
       "    <tr>\n",
       "      <th>2</th>\n",
       "      <td>Ford</td>\n",
       "      <td>2</td>\n",
       "    </tr>\n",
       "  </tbody>\n",
       "</table>\n",
       "</div>"
      ],
      "text/plain": [
       "    cars  passings\n",
       "1  Volvo         7\n",
       "2   Ford         2"
      ]
     },
     "execution_count": 49,
     "metadata": {},
     "output_type": "execute_result"
    }
   ],
   "source": [
    "frame.loc[1:2] # loc returns row wise value of the specifed label/index or sliced index"
   ]
  },
  {
   "cell_type": "code",
   "execution_count": 44,
   "id": "c35556fd-64de-4e26-98d5-acb4b39995e6",
   "metadata": {},
   "outputs": [
    {
     "data": {
      "text/plain": [
       "cars        BMW\n",
       "passings      3\n",
       "Name: 0, dtype: object"
      ]
     },
     "execution_count": 44,
     "metadata": {},
     "output_type": "execute_result"
    }
   ],
   "source": [
    "frame.loc[0]"
   ]
  },
  {
   "cell_type": "code",
   "execution_count": 50,
   "id": "c026ebe1-02f8-4011-bd96-c52bd3391755",
   "metadata": {},
   "outputs": [
    {
     "data": {
      "text/html": [
       "<div>\n",
       "<style scoped>\n",
       "    .dataframe tbody tr th:only-of-type {\n",
       "        vertical-align: middle;\n",
       "    }\n",
       "\n",
       "    .dataframe tbody tr th {\n",
       "        vertical-align: top;\n",
       "    }\n",
       "\n",
       "    .dataframe thead th {\n",
       "        text-align: right;\n",
       "    }\n",
       "</style>\n",
       "<table border=\"1\" class=\"dataframe\">\n",
       "  <thead>\n",
       "    <tr style=\"text-align: right;\">\n",
       "      <th></th>\n",
       "      <th>cars</th>\n",
       "      <th>passings</th>\n",
       "    </tr>\n",
       "  </thead>\n",
       "  <tbody>\n",
       "    <tr>\n",
       "      <th>0</th>\n",
       "      <td>BMW</td>\n",
       "      <td>3</td>\n",
       "    </tr>\n",
       "    <tr>\n",
       "      <th>1</th>\n",
       "      <td>Volvo</td>\n",
       "      <td>7</td>\n",
       "    </tr>\n",
       "  </tbody>\n",
       "</table>\n",
       "</div>"
      ],
      "text/plain": [
       "    cars  passings\n",
       "0    BMW         3\n",
       "1  Volvo         7"
      ]
     },
     "execution_count": 50,
     "metadata": {},
     "output_type": "execute_result"
    }
   ],
   "source": [
    "frame.loc[[0, 1]]"
   ]
  },
  {
   "cell_type": "code",
   "execution_count": 51,
   "id": "8d6057da-4fab-46cd-9164-fc49fa11f75a",
   "metadata": {},
   "outputs": [],
   "source": [
    "# same as series we can name our own index\n",
    "\n",
    "frame_1 = pd.DataFrame(mydataset, index=[\"OOOO\", \"OOO\", \"OO\"])"
   ]
  },
  {
   "cell_type": "code",
   "execution_count": 52,
   "id": "eda68f12-4bf0-470c-9463-b78e22bcbcd0",
   "metadata": {},
   "outputs": [
    {
     "data": {
      "text/html": [
       "<div>\n",
       "<style scoped>\n",
       "    .dataframe tbody tr th:only-of-type {\n",
       "        vertical-align: middle;\n",
       "    }\n",
       "\n",
       "    .dataframe tbody tr th {\n",
       "        vertical-align: top;\n",
       "    }\n",
       "\n",
       "    .dataframe thead th {\n",
       "        text-align: right;\n",
       "    }\n",
       "</style>\n",
       "<table border=\"1\" class=\"dataframe\">\n",
       "  <thead>\n",
       "    <tr style=\"text-align: right;\">\n",
       "      <th></th>\n",
       "      <th>cars</th>\n",
       "      <th>passings</th>\n",
       "    </tr>\n",
       "  </thead>\n",
       "  <tbody>\n",
       "    <tr>\n",
       "      <th>OOOO</th>\n",
       "      <td>BMW</td>\n",
       "      <td>3</td>\n",
       "    </tr>\n",
       "    <tr>\n",
       "      <th>OOO</th>\n",
       "      <td>Volvo</td>\n",
       "      <td>7</td>\n",
       "    </tr>\n",
       "    <tr>\n",
       "      <th>OO</th>\n",
       "      <td>Ford</td>\n",
       "      <td>2</td>\n",
       "    </tr>\n",
       "  </tbody>\n",
       "</table>\n",
       "</div>"
      ],
      "text/plain": [
       "       cars  passings\n",
       "OOOO    BMW         3\n",
       "OOO   Volvo         7\n",
       "OO     Ford         2"
      ]
     },
     "execution_count": 52,
     "metadata": {},
     "output_type": "execute_result"
    }
   ],
   "source": [
    "frame_1"
   ]
  },
  {
   "cell_type": "code",
   "execution_count": 55,
   "id": "b632eff4-8841-4e6c-8dab-0d5cbb2f2a13",
   "metadata": {},
   "outputs": [
    {
     "data": {
      "text/plain": [
       "cars        BMW\n",
       "passings      3\n",
       "Name: OOOO, dtype: object"
      ]
     },
     "execution_count": 55,
     "metadata": {},
     "output_type": "execute_result"
    }
   ],
   "source": [
    "frame_1.loc[\"OOOO\"]"
   ]
  },
  {
   "cell_type": "code",
   "execution_count": 56,
   "id": "f782f576-51a1-4c57-8b6c-e8e122646b4b",
   "metadata": {},
   "outputs": [
    {
     "name": "stdout",
     "output_type": "stream",
     "text": [
      "60\n"
     ]
    }
   ],
   "source": []
  },
  {
   "cell_type": "code",
   "execution_count": null,
   "id": "60b8d69c-0d7d-419a-8fd7-c84b2f36fdb8",
   "metadata": {},
   "outputs": [],
   "source": []
  }
 ],
 "metadata": {
  "kernelspec": {
   "display_name": "Python 3 (ipykernel)",
   "language": "python",
   "name": "python3"
  },
  "language_info": {
   "codemirror_mode": {
    "name": "ipython",
    "version": 3
   },
   "file_extension": ".py",
   "mimetype": "text/x-python",
   "name": "python",
   "nbconvert_exporter": "python",
   "pygments_lexer": "ipython3",
   "version": "3.10.6"
  }
 },
 "nbformat": 4,
 "nbformat_minor": 5
}
