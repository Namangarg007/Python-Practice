{
 "cells": [
  {
   "cell_type": "markdown",
   "id": "fd166a4a-5f63-48ed-989b-e0f6c386294d",
   "metadata": {
    "tags": []
   },
   "source": [
    "<h2>If...else</h2>"
   ]
  },
  {
   "cell_type": "code",
   "execution_count": 2,
   "id": "b20f608d-d1cf-4fec-9e1f-96cd18fdc408",
   "metadata": {},
   "outputs": [
    {
     "name": "stdout",
     "output_type": "stream",
     "text": [
      "200 is greater than 33\n"
     ]
    }
   ],
   "source": [
    "a = 33\n",
    "b = 200\n",
    "if b > a:\n",
    "  print(f\"{b} is greater than {a}\")"
   ]
  },
  {
   "cell_type": "code",
   "execution_count": 3,
   "id": "08d05999-3346-4c3e-9c4f-fed10d0e6516",
   "metadata": {},
   "outputs": [
    {
     "name": "stdout",
     "output_type": "stream",
     "text": [
      "33 and 33 are equal\n"
     ]
    }
   ],
   "source": [
    "a = 33\n",
    "b = 33\n",
    "if b > a:\n",
    "  print(f\"{b} is greater than {a}\")\n",
    "elif a == b:\n",
    "  print(f\"{a} and {b} are equal\")"
   ]
  },
  {
   "cell_type": "code",
   "execution_count": 4,
   "id": "bf880e28-19a0-4ac2-909d-ed61fc61d9eb",
   "metadata": {},
   "outputs": [
    {
     "name": "stdout",
     "output_type": "stream",
     "text": [
      "200 is greater than 33\n"
     ]
    }
   ],
   "source": [
    "a = 200\n",
    "b = 33\n",
    "if b > a:\n",
    "  print(f\"{b} is greater than {a}\")\n",
    "elif a == b:\n",
    "  print(f\"{a} and {b} are equal\")\n",
    "else:\n",
    "  print(f\"{a} is greater than {b}\")"
   ]
  },
  {
   "cell_type": "code",
   "execution_count": 5,
   "id": "a508c0ab-99a4-4242-8ae1-4b7ca0a7229e",
   "metadata": {},
   "outputs": [
    {
     "name": "stdout",
     "output_type": "stream",
     "text": [
      "a is greater than b\n"
     ]
    }
   ],
   "source": [
    "# single line if\n",
    "if a > b: print(\"a is greater than b\")"
   ]
  },
  {
   "cell_type": "code",
   "execution_count": 6,
   "id": "098f8235-6548-457b-a858-d614fefc3c93",
   "metadata": {},
   "outputs": [
    {
     "name": "stdout",
     "output_type": "stream",
     "text": [
      "B\n"
     ]
    }
   ],
   "source": [
    "#single line if else\n",
    "a = 2\n",
    "b = 330\n",
    "print(\"A\") if a > b else print(\"B\")"
   ]
  },
  {
   "cell_type": "code",
   "execution_count": 7,
   "id": "1c3dff5b-0715-4aa7-a749-716525cf2b35",
   "metadata": {},
   "outputs": [],
   "source": [
    "# empty if can only run if pass keyword is written inside it\n",
    "a = 33\n",
    "b = 200\n",
    "\n",
    "if b > a:\n",
    "  pass"
   ]
  },
  {
   "cell_type": "code",
   "execution_count": null,
   "id": "ac3a1bc1-a6db-46a6-8459-1af81c454cb2",
   "metadata": {},
   "outputs": [],
   "source": []
  }
 ],
 "metadata": {
  "kernelspec": {
   "display_name": "Python 3 (ipykernel)",
   "language": "python",
   "name": "python3"
  },
  "language_info": {
   "codemirror_mode": {
    "name": "ipython",
    "version": 3
   },
   "file_extension": ".py",
   "mimetype": "text/x-python",
   "name": "python",
   "nbconvert_exporter": "python",
   "pygments_lexer": "ipython3",
   "version": "3.10.6"
  }
 },
 "nbformat": 4,
 "nbformat_minor": 5
}
